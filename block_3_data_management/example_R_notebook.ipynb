{
 "cells": [
  {
   "cell_type": "markdown",
   "metadata": {},
   "source": [
    "## Example R Notebook"
   ]
  },
  {
   "cell_type": "code",
   "execution_count": null,
   "metadata": {
    "scrolled": true
   },
   "outputs": [],
   "source": [
    "install.packages(\"dplyr\")\n",
    "install.packages(\"dbplyr\")\n",
    "install.packages(\"RSQLite\")"
   ]
  },
  {
   "cell_type": "code",
   "execution_count": 99,
   "metadata": {},
   "outputs": [],
   "source": [
    "library(dplyr)"
   ]
  },
  {
   "cell_type": "markdown",
   "metadata": {},
   "source": [
    "## Why pipe"
   ]
  },
  {
   "cell_type": "markdown",
   "metadata": {},
   "source": [
    "## Basic workflow"
   ]
  },
  {
   "cell_type": "markdown",
   "metadata": {},
   "source": [
    "## Basic Data Verbs\n",
    "\n",
    "* Select, filter, mutate"
   ]
  },
  {
   "cell_type": "markdown",
   "metadata": {},
   "source": [
    "## Examples\n",
    "\n",
    "1. select + filter: Num of players with over 200 RBI in a season\n",
    "2. mutate: Hits per 9 innings"
   ]
  },
  {
   "cell_type": "markdown",
   "metadata": {},
   "source": [
    "## Concatenating tables\n",
    "\n",
    "* union, intersection, difference"
   ]
  },
  {
   "cell_type": "markdown",
   "metadata": {},
   "source": [
    "## Examples\n",
    "\n",
    "??"
   ]
  },
  {
   "cell_type": "markdown",
   "metadata": {},
   "source": [
    "## Joining tables"
   ]
  },
  {
   "cell_type": "markdown",
   "metadata": {},
   "source": [
    "## Examples"
   ]
  },
  {
   "cell_type": "markdown",
   "metadata": {},
   "source": [
    "## <font color=\"red\"> Exercise ?? </font>\n",
    "\n",
    "Find all players that have hit over 50 home runs (`HR` in `./data/baseball/core/Batting.csv`) in a single season.  Your final table shoule include the following columns.\n",
    "\n",
    "1. The players first name\n",
    "2. The players last name\n",
    "3. The year\n",
    "4. The name of the players team that year\n",
    "5. The name of the home park for that team\n",
    "\n",
    "**Bonus:** Filter the intermediate table to the minimum number of rows."
   ]
  },
  {
   "cell_type": "code",
   "execution_count": 94,
   "metadata": {},
   "outputs": [
    {
     "data": {
      "text/html": [
       "<table>\n",
       "<thead><tr><th scope=col>playerID</th><th scope=col>yearID</th><th scope=col>stint</th><th scope=col>teamID</th><th scope=col>lgID</th><th scope=col>G</th><th scope=col>AB</th><th scope=col>R</th><th scope=col>H</th><th scope=col>X2B</th><th scope=col>⋯</th><th scope=col>RBI</th><th scope=col>SB</th><th scope=col>CS</th><th scope=col>BB</th><th scope=col>SO</th><th scope=col>IBB</th><th scope=col>HBP</th><th scope=col>SH</th><th scope=col>SF</th><th scope=col>GIDP</th></tr></thead>\n",
       "<tbody>\n",
       "\t<tr><td>abercda01</td><td>1871     </td><td>1        </td><td>TRO      </td><td>NA       </td><td> 1       </td><td>  4      </td><td> 0       </td><td> 0       </td><td>0        </td><td>⋯        </td><td> 0       </td><td>0        </td><td>0        </td><td>0        </td><td>0        </td><td>NA       </td><td>NA       </td><td>NA       </td><td>NA       </td><td>0        </td></tr>\n",
       "\t<tr><td>addybo01 </td><td>1871     </td><td>1        </td><td>RC1      </td><td>NA       </td><td>25       </td><td>118      </td><td>30       </td><td>32       </td><td>6        </td><td>⋯        </td><td>13       </td><td>8        </td><td>1        </td><td>4        </td><td>0        </td><td>NA       </td><td>NA       </td><td>NA       </td><td>NA       </td><td>0        </td></tr>\n",
       "</tbody>\n",
       "</table>\n"
      ],
      "text/latex": [
       "\\begin{tabular}{r|llllllllllllllllllllll}\n",
       " playerID & yearID & stint & teamID & lgID & G & AB & R & H & X2B & ⋯ & RBI & SB & CS & BB & SO & IBB & HBP & SH & SF & GIDP\\\\\n",
       "\\hline\n",
       "\t abercda01 & 1871      & 1         & TRO       & NA        &  1        &   4       &  0        &  0        & 0         & ⋯         &  0        & 0         & 0         & 0         & 0         & NA        & NA        & NA        & NA        & 0        \\\\\n",
       "\t addybo01  & 1871      & 1         & RC1       & NA        & 25        & 118       & 30        & 32        & 6         & ⋯         & 13        & 8         & 1         & 4         & 0         & NA        & NA        & NA        & NA        & 0        \\\\\n",
       "\\end{tabular}\n"
      ],
      "text/markdown": [
       "\n",
       "| playerID | yearID | stint | teamID | lgID | G | AB | R | H | X2B | ⋯ | RBI | SB | CS | BB | SO | IBB | HBP | SH | SF | GIDP |\n",
       "|---|---|---|---|---|---|---|---|---|---|---|---|---|---|---|---|---|---|---|---|---|\n",
       "| abercda01 | 1871      | 1         | TRO       | NA        |  1        |   4       |  0        |  0        | 0         | ⋯         |  0        | 0         | 0         | 0         | 0         | NA        | NA        | NA        | NA        | 0         |\n",
       "| addybo01  | 1871      | 1         | RC1       | NA        | 25        | 118       | 30        | 32        | 6         | ⋯         | 13        | 8         | 1         | 4         | 0         | NA        | NA        | NA        | NA        | 0         |\n",
       "\n"
      ],
      "text/plain": [
       "  playerID  yearID stint teamID lgID G  AB  R  H  X2B ⋯ RBI SB CS BB SO IBB HBP\n",
       "1 abercda01 1871   1     TRO    NA    1   4  0  0 0   ⋯  0  0  0  0  0  NA  NA \n",
       "2 addybo01  1871   1     RC1    NA   25 118 30 32 6   ⋯ 13  8  1  4  0  NA  NA \n",
       "  SH SF GIDP\n",
       "1 NA NA 0   \n",
       "2 NA NA 0   "
      ]
     },
     "metadata": {},
     "output_type": "display_data"
    }
   ],
   "source": [
    "batting <- read.csv(\"./data/baseball/core/Batting.csv\")\n",
    "batting %>% head(2)"
   ]
  },
  {
   "cell_type": "code",
   "execution_count": 95,
   "metadata": {},
   "outputs": [
    {
     "data": {
      "text/html": [
       "<table>\n",
       "<thead><tr><th scope=col>playerID</th><th scope=col>birthYear</th><th scope=col>birthMonth</th><th scope=col>birthDay</th><th scope=col>birthCountry</th><th scope=col>birthState</th><th scope=col>birthCity</th><th scope=col>deathYear</th><th scope=col>deathMonth</th><th scope=col>deathDay</th><th scope=col>⋯</th><th scope=col>nameLast</th><th scope=col>nameGiven</th><th scope=col>weight</th><th scope=col>height</th><th scope=col>bats</th><th scope=col>throws</th><th scope=col>debut</th><th scope=col>finalGame</th><th scope=col>retroID</th><th scope=col>bbrefID</th></tr></thead>\n",
       "<tbody>\n",
       "\t<tr><td>aardsda01  </td><td>1981       </td><td>12         </td><td>27         </td><td>USA        </td><td>CO         </td><td>Denver     </td><td>NA         </td><td>NA         </td><td>NA         </td><td>⋯          </td><td>Aardsma    </td><td>David Allan</td><td>215        </td><td>75         </td><td>R          </td><td>R          </td><td>2004-04-06 </td><td>2015-08-23 </td><td>aardd001   </td><td>aardsda01  </td></tr>\n",
       "\t<tr><td>aaronha01  </td><td>1934       </td><td> 2         </td><td> 5         </td><td>USA        </td><td>AL         </td><td>Mobile     </td><td>NA         </td><td>NA         </td><td>NA         </td><td>⋯          </td><td>Aaron      </td><td>Henry Louis</td><td>180        </td><td>72         </td><td>R          </td><td>R          </td><td>1954-04-13 </td><td>1976-10-03 </td><td>aaroh101   </td><td>aaronha01  </td></tr>\n",
       "</tbody>\n",
       "</table>\n"
      ],
      "text/latex": [
       "\\begin{tabular}{r|llllllllllllllllllllllll}\n",
       " playerID & birthYear & birthMonth & birthDay & birthCountry & birthState & birthCity & deathYear & deathMonth & deathDay & ⋯ & nameLast & nameGiven & weight & height & bats & throws & debut & finalGame & retroID & bbrefID\\\\\n",
       "\\hline\n",
       "\t aardsda01   & 1981        & 12          & 27          & USA         & CO          & Denver      & NA          & NA          & NA          & ⋯           & Aardsma     & David Allan & 215         & 75          & R           & R           & 2004-04-06  & 2015-08-23  & aardd001    & aardsda01  \\\\\n",
       "\t aaronha01   & 1934        &  2          &  5          & USA         & AL          & Mobile      & NA          & NA          & NA          & ⋯           & Aaron       & Henry Louis & 180         & 72          & R           & R           & 1954-04-13  & 1976-10-03  & aaroh101    & aaronha01  \\\\\n",
       "\\end{tabular}\n"
      ],
      "text/markdown": [
       "\n",
       "| playerID | birthYear | birthMonth | birthDay | birthCountry | birthState | birthCity | deathYear | deathMonth | deathDay | ⋯ | nameLast | nameGiven | weight | height | bats | throws | debut | finalGame | retroID | bbrefID |\n",
       "|---|---|---|---|---|---|---|---|---|---|---|---|---|---|---|---|---|---|---|---|---|\n",
       "| aardsda01   | 1981        | 12          | 27          | USA         | CO          | Denver      | NA          | NA          | NA          | ⋯           | Aardsma     | David Allan | 215         | 75          | R           | R           | 2004-04-06  | 2015-08-23  | aardd001    | aardsda01   |\n",
       "| aaronha01   | 1934        |  2          |  5          | USA         | AL          | Mobile      | NA          | NA          | NA          | ⋯           | Aaron       | Henry Louis | 180         | 72          | R           | R           | 1954-04-13  | 1976-10-03  | aaroh101    | aaronha01   |\n",
       "\n"
      ],
      "text/plain": [
       "  playerID  birthYear birthMonth birthDay birthCountry birthState birthCity\n",
       "1 aardsda01 1981      12         27       USA          CO         Denver   \n",
       "2 aaronha01 1934       2          5       USA          AL         Mobile   \n",
       "  deathYear deathMonth deathDay ⋯ nameLast nameGiven   weight height bats\n",
       "1 NA        NA         NA       ⋯ Aardsma  David Allan 215    75     R   \n",
       "2 NA        NA         NA       ⋯ Aaron    Henry Louis 180    72     R   \n",
       "  throws debut      finalGame  retroID  bbrefID  \n",
       "1 R      2004-04-06 2015-08-23 aardd001 aardsda01\n",
       "2 R      1954-04-13 1976-10-03 aaroh101 aaronha01"
      ]
     },
     "metadata": {},
     "output_type": "display_data"
    }
   ],
   "source": [
    "people <- read.csv(\"./data/baseball/core/People.csv\")\n",
    "people %>% head(2)"
   ]
  },
  {
   "cell_type": "code",
   "execution_count": 97,
   "metadata": {},
   "outputs": [
    {
     "data": {
      "text/html": [
       "<table>\n",
       "<thead><tr><th scope=col>yearID</th><th scope=col>lgID</th><th scope=col>teamID</th><th scope=col>franchID</th><th scope=col>divID</th><th scope=col>Rank</th><th scope=col>G</th><th scope=col>Ghome</th><th scope=col>W</th><th scope=col>L</th><th scope=col>⋯</th><th scope=col>DP</th><th scope=col>FP</th><th scope=col>name</th><th scope=col>park</th><th scope=col>attendance</th><th scope=col>BPF</th><th scope=col>PPF</th><th scope=col>teamIDBR</th><th scope=col>teamIDlahman45</th><th scope=col>teamIDretro</th></tr></thead>\n",
       "<tbody>\n",
       "\t<tr><td>1871                   </td><td>NA                     </td><td>BS1                    </td><td>BNA                    </td><td>                       </td><td>3                      </td><td>31                     </td><td>NA                     </td><td>20                     </td><td>10                     </td><td>⋯                      </td><td>24                     </td><td>0.834                  </td><td>Boston Red Stockings   </td><td>South End Grounds I    </td><td>NA                     </td><td>103                    </td><td> 98                    </td><td>BOS                    </td><td>BS1                    </td><td>BS1                    </td></tr>\n",
       "\t<tr><td>1871                   </td><td>NA                     </td><td>CH1                    </td><td>CNA                    </td><td>                       </td><td>2                      </td><td>28                     </td><td>NA                     </td><td>19                     </td><td> 9                     </td><td>⋯                      </td><td>16                     </td><td>0.829                  </td><td>Chicago White Stockings</td><td>Union Base-Ball Grounds</td><td>NA                     </td><td>104                    </td><td>102                    </td><td>CHI                    </td><td>CH1                    </td><td>CH1                    </td></tr>\n",
       "</tbody>\n",
       "</table>\n"
      ],
      "text/latex": [
       "\\begin{tabular}{r|llllllllllllllllllllllllllllllllllllllllllllllll}\n",
       " yearID & lgID & teamID & franchID & divID & Rank & G & Ghome & W & L & ⋯ & DP & FP & name & park & attendance & BPF & PPF & teamIDBR & teamIDlahman45 & teamIDretro\\\\\n",
       "\\hline\n",
       "\t 1871                    & NA                      & BS1                     & BNA                     &                         & 3                       & 31                      & NA                      & 20                      & 10                      & ⋯                       & 24                      & 0.834                   & Boston Red Stockings    & South End Grounds I     & NA                      & 103                     &  98                     & BOS                     & BS1                     & BS1                    \\\\\n",
       "\t 1871                    & NA                      & CH1                     & CNA                     &                         & 2                       & 28                      & NA                      & 19                      &  9                      & ⋯                       & 16                      & 0.829                   & Chicago White Stockings & Union Base-Ball Grounds & NA                      & 104                     & 102                     & CHI                     & CH1                     & CH1                    \\\\\n",
       "\\end{tabular}\n"
      ],
      "text/markdown": [
       "\n",
       "| yearID | lgID | teamID | franchID | divID | Rank | G | Ghome | W | L | ⋯ | DP | FP | name | park | attendance | BPF | PPF | teamIDBR | teamIDlahman45 | teamIDretro |\n",
       "|---|---|---|---|---|---|---|---|---|---|---|---|---|---|---|---|---|---|---|---|---|\n",
       "| 1871                    | NA                      | BS1                     | BNA                     |                         | 3                       | 31                      | NA                      | 20                      | 10                      | ⋯                       | 24                      | 0.834                   | Boston Red Stockings    | South End Grounds I     | NA                      | 103                     |  98                     | BOS                     | BS1                     | BS1                     |\n",
       "| 1871                    | NA                      | CH1                     | CNA                     |                         | 2                       | 28                      | NA                      | 19                      |  9                      | ⋯                       | 16                      | 0.829                   | Chicago White Stockings | Union Base-Ball Grounds | NA                      | 104                     | 102                     | CHI                     | CH1                     | CH1                     |\n",
       "\n"
      ],
      "text/plain": [
       "  yearID lgID teamID franchID divID Rank G  Ghome W  L  ⋯ DP FP   \n",
       "1 1871   NA   BS1    BNA            3    31 NA    20 10 ⋯ 24 0.834\n",
       "2 1871   NA   CH1    CNA            2    28 NA    19  9 ⋯ 16 0.829\n",
       "  name                    park                    attendance BPF PPF teamIDBR\n",
       "1 Boston Red Stockings    South End Grounds I     NA         103  98 BOS     \n",
       "2 Chicago White Stockings Union Base-Ball Grounds NA         104 102 CHI     \n",
       "  teamIDlahman45 teamIDretro\n",
       "1 BS1            BS1        \n",
       "2 CH1            CH1        "
      ]
     },
     "metadata": {},
     "output_type": "display_data"
    }
   ],
   "source": [
    "teams <- read.csv(\"./data/baseball/core/Teams.csv\")\n",
    "teams %>% head(2)"
   ]
  },
  {
   "cell_type": "markdown",
   "metadata": {},
   "source": [
    "## <font color=\"blue\"> Key </font>"
   ]
  },
  {
   "cell_type": "code",
   "execution_count": 62,
   "metadata": {},
   "outputs": [
    {
     "data": {
      "text/html": [
       "<table>\n",
       "<thead><tr><th scope=col>playerID</th><th scope=col>teamID</th><th scope=col>yearID</th><th scope=col>HR</th></tr></thead>\n",
       "<tbody>\n",
       "\t<tr><td>ruthba01 </td><td>NYA      </td><td>1920     </td><td>54       </td></tr>\n",
       "\t<tr><td>ruthba01 </td><td>NYA      </td><td>1921     </td><td>59       </td></tr>\n",
       "\t<tr><td>ruthba01 </td><td>NYA      </td><td>1927     </td><td>60       </td></tr>\n",
       "\t<tr><td>ruthba01 </td><td>NYA      </td><td>1928     </td><td>54       </td></tr>\n",
       "\t<tr><td>wilsoha01</td><td>CHN      </td><td>1930     </td><td>56       </td></tr>\n",
       "\t<tr><td>foxxji01 </td><td>PHA      </td><td>1932     </td><td>58       </td></tr>\n",
       "</tbody>\n",
       "</table>\n"
      ],
      "text/latex": [
       "\\begin{tabular}{r|llll}\n",
       " playerID & teamID & yearID & HR\\\\\n",
       "\\hline\n",
       "\t ruthba01  & NYA       & 1920      & 54       \\\\\n",
       "\t ruthba01  & NYA       & 1921      & 59       \\\\\n",
       "\t ruthba01  & NYA       & 1927      & 60       \\\\\n",
       "\t ruthba01  & NYA       & 1928      & 54       \\\\\n",
       "\t wilsoha01 & CHN       & 1930      & 56       \\\\\n",
       "\t foxxji01  & PHA       & 1932      & 58       \\\\\n",
       "\\end{tabular}\n"
      ],
      "text/markdown": [
       "\n",
       "| playerID | teamID | yearID | HR |\n",
       "|---|---|---|---|\n",
       "| ruthba01  | NYA       | 1920      | 54        |\n",
       "| ruthba01  | NYA       | 1921      | 59        |\n",
       "| ruthba01  | NYA       | 1927      | 60        |\n",
       "| ruthba01  | NYA       | 1928      | 54        |\n",
       "| wilsoha01 | CHN       | 1930      | 56        |\n",
       "| foxxji01  | PHA       | 1932      | 58        |\n",
       "\n"
      ],
      "text/plain": [
       "  playerID  teamID yearID HR\n",
       "1 ruthba01  NYA    1920   54\n",
       "2 ruthba01  NYA    1921   59\n",
       "3 ruthba01  NYA    1927   60\n",
       "4 ruthba01  NYA    1928   54\n",
       "5 wilsoha01 CHN    1930   56\n",
       "6 foxxji01  PHA    1932   58"
      ]
     },
     "metadata": {},
     "output_type": "display_data"
    }
   ],
   "source": [
    "(batting \n",
    " %>% select(playerID, teamID, yearID, HR) \n",
    " %>% filter(HR >= 50)\n",
    " #%>% head\n",
    ") -> over50hr\n",
    "over50hr %>% head"
   ]
  },
  {
   "cell_type": "code",
   "execution_count": 82,
   "metadata": {
    "scrolled": true
   },
   "outputs": [
    {
     "data": {
      "text/html": [
       "<table>\n",
       "<thead><tr><th scope=col>playerID</th><th scope=col>nameFirst</th><th scope=col>nameLast</th></tr></thead>\n",
       "<tbody>\n",
       "\t<tr><td>aardsda01</td><td>David    </td><td>Aardsma  </td></tr>\n",
       "\t<tr><td>aaronha01</td><td>Hank     </td><td>Aaron    </td></tr>\n",
       "\t<tr><td>aaronto01</td><td>Tommie   </td><td>Aaron    </td></tr>\n",
       "\t<tr><td>aasedo01 </td><td>Don      </td><td>Aase     </td></tr>\n",
       "\t<tr><td>abadan01 </td><td>Andy     </td><td>Abad     </td></tr>\n",
       "\t<tr><td>abadfe01 </td><td>Fernando </td><td>Abad     </td></tr>\n",
       "</tbody>\n",
       "</table>\n"
      ],
      "text/latex": [
       "\\begin{tabular}{r|lll}\n",
       " playerID & nameFirst & nameLast\\\\\n",
       "\\hline\n",
       "\t aardsda01 & David     & Aardsma  \\\\\n",
       "\t aaronha01 & Hank      & Aaron    \\\\\n",
       "\t aaronto01 & Tommie    & Aaron    \\\\\n",
       "\t aasedo01  & Don       & Aase     \\\\\n",
       "\t abadan01  & Andy      & Abad     \\\\\n",
       "\t abadfe01  & Fernando  & Abad     \\\\\n",
       "\\end{tabular}\n"
      ],
      "text/markdown": [
       "\n",
       "| playerID | nameFirst | nameLast |\n",
       "|---|---|---|\n",
       "| aardsda01 | David     | Aardsma   |\n",
       "| aaronha01 | Hank      | Aaron     |\n",
       "| aaronto01 | Tommie    | Aaron     |\n",
       "| aasedo01  | Don       | Aase      |\n",
       "| abadan01  | Andy      | Abad      |\n",
       "| abadfe01  | Fernando  | Abad      |\n",
       "\n"
      ],
      "text/plain": [
       "  playerID  nameFirst nameLast\n",
       "1 aardsda01 David     Aardsma \n",
       "2 aaronha01 Hank      Aaron   \n",
       "3 aaronto01 Tommie    Aaron   \n",
       "4 aasedo01  Don       Aase    \n",
       "5 abadan01  Andy      Abad    \n",
       "6 abadfe01  Fernando  Abad    "
      ]
     },
     "metadata": {},
     "output_type": "display_data"
    }
   ],
   "source": [
    "(people \n",
    " %>% select(playerID, nameFirst, nameLast) \n",
    " %>% filter(playerID %in% over50hr$playerID)\n",
    ") -> players_names\n",
    "players_over_50_hr %>% head"
   ]
  },
  {
   "cell_type": "code",
   "execution_count": 91,
   "metadata": {},
   "outputs": [
    {
     "data": {
      "text/html": [
       "<table>\n",
       "<thead><tr><th scope=col>teamID</th><th scope=col>yearID</th><th scope=col>name</th><th scope=col>park</th></tr></thead>\n",
       "<tbody>\n",
       "\t<tr><td>NYA                   </td><td>1920                  </td><td>New York Yankees      </td><td>Polo Grounds IV       </td></tr>\n",
       "\t<tr><td>NYA                   </td><td>1921                  </td><td>New York Yankees      </td><td>Polo Grounds IV       </td></tr>\n",
       "\t<tr><td>NYA                   </td><td>1927                  </td><td>New York Yankees      </td><td>Yankee Stadium I      </td></tr>\n",
       "\t<tr><td>NYA                   </td><td>1928                  </td><td>New York Yankees      </td><td>Yankee Stadium I      </td></tr>\n",
       "\t<tr><td>CHN                   </td><td>1930                  </td><td>Chicago Cubs          </td><td>Wrigley Field         </td></tr>\n",
       "\t<tr><td>PHA                   </td><td>1932                  </td><td>Philadelphia Athletics</td><td>Shibe Park            </td></tr>\n",
       "</tbody>\n",
       "</table>\n"
      ],
      "text/latex": [
       "\\begin{tabular}{r|llll}\n",
       " teamID & yearID & name & park\\\\\n",
       "\\hline\n",
       "\t NYA                    & 1920                   & New York Yankees       & Polo Grounds IV       \\\\\n",
       "\t NYA                    & 1921                   & New York Yankees       & Polo Grounds IV       \\\\\n",
       "\t NYA                    & 1927                   & New York Yankees       & Yankee Stadium I      \\\\\n",
       "\t NYA                    & 1928                   & New York Yankees       & Yankee Stadium I      \\\\\n",
       "\t CHN                    & 1930                   & Chicago Cubs           & Wrigley Field         \\\\\n",
       "\t PHA                    & 1932                   & Philadelphia Athletics & Shibe Park            \\\\\n",
       "\\end{tabular}\n"
      ],
      "text/markdown": [
       "\n",
       "| teamID | yearID | name | park |\n",
       "|---|---|---|---|\n",
       "| NYA                    | 1920                   | New York Yankees       | Polo Grounds IV        |\n",
       "| NYA                    | 1921                   | New York Yankees       | Polo Grounds IV        |\n",
       "| NYA                    | 1927                   | New York Yankees       | Yankee Stadium I       |\n",
       "| NYA                    | 1928                   | New York Yankees       | Yankee Stadium I       |\n",
       "| CHN                    | 1930                   | Chicago Cubs           | Wrigley Field          |\n",
       "| PHA                    | 1932                   | Philadelphia Athletics | Shibe Park             |\n",
       "\n"
      ],
      "text/plain": [
       "  teamID yearID name                   park            \n",
       "1 NYA    1920   New York Yankees       Polo Grounds IV \n",
       "2 NYA    1921   New York Yankees       Polo Grounds IV \n",
       "3 NYA    1927   New York Yankees       Yankee Stadium I\n",
       "4 NYA    1928   New York Yankees       Yankee Stadium I\n",
       "5 CHN    1930   Chicago Cubs           Wrigley Field   \n",
       "6 PHA    1932   Philadelphia Athletics Shibe Park      "
      ]
     },
     "metadata": {},
     "output_type": "display_data"
    }
   ],
   "source": [
    "(teams\n",
    " %>% select(teamID, yearID, name, park)\n",
    " %>% mutate(temp_key = paste(teamID, yearID))\n",
    " %>% filter(temp_key %in% paste(over50hr$teamID, over50hr$yearID))\n",
    " %>% select(-one_of(\"temp_key\"))\n",
    " ) -> teams_name_park\n",
    "teams_name_park %>% head"
   ]
  },
  {
   "cell_type": "code",
   "execution_count": 81,
   "metadata": {
    "scrolled": true
   },
   "outputs": [
    {
     "name": "stderr",
     "output_type": "stream",
     "text": [
      "Warning message:\n",
      "“Column `playerID` joining factors with different levels, coercing to character vector”"
     ]
    },
    {
     "data": {
      "text/html": [
       "<table>\n",
       "<thead><tr><th scope=col>yearID</th><th scope=col>HR</th><th scope=col>nameFirst</th><th scope=col>nameLast</th><th scope=col>name</th><th scope=col>park</th></tr></thead>\n",
       "<tbody>\n",
       "\t<tr><td>2017                       </td><td>52                         </td><td>Aaron                      </td><td>Judge                      </td><td>New York Yankees           </td><td>Yankee Stadium III         </td></tr>\n",
       "\t<tr><td>2017                       </td><td>59                         </td><td>Giancarlo                  </td><td>Stanton                    </td><td>Miami Marlins              </td><td>Marlins Park               </td></tr>\n",
       "\t<tr><td>2013                       </td><td>53                         </td><td>Chris                      </td><td>Davis                      </td><td>Baltimore Orioles          </td><td>Oriole Park at Camden Yards</td></tr>\n",
       "\t<tr><td>2010                       </td><td>54                         </td><td>Jose                       </td><td>Bautista                   </td><td>Toronto Blue Jays          </td><td>Rogers Centre              </td></tr>\n",
       "\t<tr><td>2007                       </td><td>50                         </td><td>Prince                     </td><td>Fielder                    </td><td>Milwaukee Brewers          </td><td>Miller Park                </td></tr>\n",
       "\t<tr><td>2007                       </td><td>54                         </td><td>Alex                       </td><td>Rodriguez                  </td><td>New York Yankees           </td><td>Yankee Stadium II          </td></tr>\n",
       "\t<tr><td>2006                       </td><td>58                         </td><td>Ryan                       </td><td>Howard                     </td><td>Philadelphia Phillies      </td><td>Citizens Bank Park         </td></tr>\n",
       "\t<tr><td>2006                       </td><td>54                         </td><td>David                      </td><td>Ortiz                      </td><td>Boston Red Sox             </td><td>Fenway Park II             </td></tr>\n",
       "\t<tr><td>2005                       </td><td>51                         </td><td>Andruw                     </td><td>Jones                      </td><td>Atlanta Braves             </td><td>Turner Field               </td></tr>\n",
       "\t<tr><td>2002                       </td><td>57                         </td><td>Alex                       </td><td>Rodriguez                  </td><td>Texas Rangers              </td><td>The Ballpark at Arlington  </td></tr>\n",
       "\t<tr><td>2002                       </td><td>52                         </td><td>Jim                        </td><td>Thome                      </td><td>Cleveland Indians          </td><td>Jacobs Field               </td></tr>\n",
       "\t<tr><td>2001                       </td><td>73                         </td><td>Barry                      </td><td>Bonds                      </td><td>San Francisco Giants       </td><td>PacBell Park               </td></tr>\n",
       "\t<tr><td>2001                       </td><td>57                         </td><td>Luis                       </td><td>Gonzalez                   </td><td>Arizona Diamondbacks       </td><td>Bank One Ballpark          </td></tr>\n",
       "\t<tr><td>2001                       </td><td>52                         </td><td>Alex                       </td><td>Rodriguez                  </td><td>Texas Rangers              </td><td>The Ballpark at Arlington  </td></tr>\n",
       "\t<tr><td>2001                       </td><td>64                         </td><td>Sammy                      </td><td>Sosa                       </td><td>Chicago Cubs               </td><td>Wrigley Field              </td></tr>\n",
       "\t<tr><td>2000                       </td><td>50                         </td><td>Sammy                      </td><td>Sosa                       </td><td>Chicago Cubs               </td><td>Wrigley Field              </td></tr>\n",
       "\t<tr><td>1999                       </td><td>65                         </td><td>Mark                       </td><td>McGwire                    </td><td>St. Louis Cardinals        </td><td>Busch Stadium II           </td></tr>\n",
       "\t<tr><td>1999                       </td><td>63                         </td><td>Sammy                      </td><td>Sosa                       </td><td>Chicago Cubs               </td><td>Wrigley Field              </td></tr>\n",
       "\t<tr><td>1998                       </td><td>56                         </td><td>Ken                        </td><td>Griffey                    </td><td>Seattle Mariners           </td><td>Kingdome                   </td></tr>\n",
       "\t<tr><td>1998                       </td><td>70                         </td><td>Mark                       </td><td>McGwire                    </td><td>St. Louis Cardinals        </td><td>Busch Stadium II           </td></tr>\n",
       "\t<tr><td>1998                       </td><td>66                         </td><td>Sammy                      </td><td>Sosa                       </td><td>Chicago Cubs               </td><td>Wrigley Field              </td></tr>\n",
       "\t<tr><td>1998                       </td><td>50                         </td><td>Greg                       </td><td>Vaughn                     </td><td>San Diego Padres           </td><td>Qualcomm Stadium           </td></tr>\n",
       "\t<tr><td>1997                       </td><td>56                         </td><td>Ken                        </td><td>Griffey                    </td><td>Seattle Mariners           </td><td>Kingdome                   </td></tr>\n",
       "\t<tr><td>1996                       </td><td>50                         </td><td>Brady                      </td><td>Anderson                   </td><td>Baltimore Orioles          </td><td>Oriole Park at Camden Yards</td></tr>\n",
       "\t<tr><td>1996                       </td><td>52                         </td><td>Mark                       </td><td>McGwire                    </td><td>Oakland Athletics          </td><td>Oakland Coliseum           </td></tr>\n",
       "\t<tr><td>1995                       </td><td>50                         </td><td>Albert                     </td><td>Belle                      </td><td>Cleveland Indians          </td><td>Jacobs Field               </td></tr>\n",
       "\t<tr><td>1990                       </td><td>51                         </td><td>Cecil                      </td><td>Fielder                    </td><td>Detroit Tigers             </td><td>Tiger Stadium              </td></tr>\n",
       "\t<tr><td>1977                       </td><td>52                         </td><td>George                     </td><td>Foster                     </td><td>Cincinnati Reds            </td><td>Riverfront Stadium         </td></tr>\n",
       "\t<tr><td>1965                       </td><td>52                         </td><td>Willie                     </td><td>Mays                       </td><td>San Francisco Giants       </td><td>Candlestick Park           </td></tr>\n",
       "\t<tr><td>1961                       </td><td>54                         </td><td>Mickey                     </td><td>Mantle                     </td><td>New York Yankees           </td><td>Yankee Stadium I           </td></tr>\n",
       "\t<tr><td>1961                       </td><td>61                         </td><td>Roger                      </td><td>Maris                      </td><td>New York Yankees           </td><td>Yankee Stadium I           </td></tr>\n",
       "\t<tr><td>1956                       </td><td>52                         </td><td>Mickey                     </td><td>Mantle                     </td><td>New York Yankees           </td><td>Yankee Stadium I           </td></tr>\n",
       "\t<tr><td>1955                       </td><td>51                         </td><td>Willie                     </td><td>Mays                       </td><td>New York Giants            </td><td>Polo Grounds IV            </td></tr>\n",
       "\t<tr><td>1949                       </td><td>54                         </td><td>Ralph                      </td><td>Kiner                      </td><td>Pittsburgh Pirates         </td><td>Forbes Field               </td></tr>\n",
       "\t<tr><td>1947                       </td><td>51                         </td><td>Ralph                      </td><td>Kiner                      </td><td>Pittsburgh Pirates         </td><td>Forbes Field               </td></tr>\n",
       "\t<tr><td>1947                       </td><td>51                         </td><td>Johnny                     </td><td>Mize                       </td><td>New York Giants            </td><td>Polo Grounds IV            </td></tr>\n",
       "\t<tr><td>1938                       </td><td>50                         </td><td>Jimmie                     </td><td>Foxx                       </td><td>Boston Red Sox             </td><td>Fenway Park II             </td></tr>\n",
       "\t<tr><td>1938                       </td><td>58                         </td><td>Hank                       </td><td>Greenberg                  </td><td>Detroit Tigers             </td><td>Briggs Stadium             </td></tr>\n",
       "\t<tr><td>1932                       </td><td>58                         </td><td>Jimmie                     </td><td>Foxx                       </td><td>Philadelphia Athletics     </td><td>Shibe Park                 </td></tr>\n",
       "\t<tr><td>1930                       </td><td>56                         </td><td>Hack                       </td><td>Wilson                     </td><td>Chicago Cubs               </td><td>Wrigley Field              </td></tr>\n",
       "\t<tr><td>1928                       </td><td>54                         </td><td>Babe                       </td><td>Ruth                       </td><td>New York Yankees           </td><td>Yankee Stadium I           </td></tr>\n",
       "\t<tr><td>1927                       </td><td>60                         </td><td>Babe                       </td><td>Ruth                       </td><td>New York Yankees           </td><td>Yankee Stadium I           </td></tr>\n",
       "\t<tr><td>1921                       </td><td>59                         </td><td>Babe                       </td><td>Ruth                       </td><td>New York Yankees           </td><td>Polo Grounds IV            </td></tr>\n",
       "\t<tr><td>1920                       </td><td>54                         </td><td>Babe                       </td><td>Ruth                       </td><td>New York Yankees           </td><td>Polo Grounds IV            </td></tr>\n",
       "</tbody>\n",
       "</table>\n"
      ],
      "text/latex": [
       "\\begin{tabular}{r|llllll}\n",
       " yearID & HR & nameFirst & nameLast & name & park\\\\\n",
       "\\hline\n",
       "\t 2017                        & 52                          & Aaron                       & Judge                       & New York Yankees            & Yankee Stadium III         \\\\\n",
       "\t 2017                        & 59                          & Giancarlo                   & Stanton                     & Miami Marlins               & Marlins Park               \\\\\n",
       "\t 2013                        & 53                          & Chris                       & Davis                       & Baltimore Orioles           & Oriole Park at Camden Yards\\\\\n",
       "\t 2010                        & 54                          & Jose                        & Bautista                    & Toronto Blue Jays           & Rogers Centre              \\\\\n",
       "\t 2007                        & 50                          & Prince                      & Fielder                     & Milwaukee Brewers           & Miller Park                \\\\\n",
       "\t 2007                        & 54                          & Alex                        & Rodriguez                   & New York Yankees            & Yankee Stadium II          \\\\\n",
       "\t 2006                        & 58                          & Ryan                        & Howard                      & Philadelphia Phillies       & Citizens Bank Park         \\\\\n",
       "\t 2006                        & 54                          & David                       & Ortiz                       & Boston Red Sox              & Fenway Park II             \\\\\n",
       "\t 2005                        & 51                          & Andruw                      & Jones                       & Atlanta Braves              & Turner Field               \\\\\n",
       "\t 2002                        & 57                          & Alex                        & Rodriguez                   & Texas Rangers               & The Ballpark at Arlington  \\\\\n",
       "\t 2002                        & 52                          & Jim                         & Thome                       & Cleveland Indians           & Jacobs Field               \\\\\n",
       "\t 2001                        & 73                          & Barry                       & Bonds                       & San Francisco Giants        & PacBell Park               \\\\\n",
       "\t 2001                        & 57                          & Luis                        & Gonzalez                    & Arizona Diamondbacks        & Bank One Ballpark          \\\\\n",
       "\t 2001                        & 52                          & Alex                        & Rodriguez                   & Texas Rangers               & The Ballpark at Arlington  \\\\\n",
       "\t 2001                        & 64                          & Sammy                       & Sosa                        & Chicago Cubs                & Wrigley Field              \\\\\n",
       "\t 2000                        & 50                          & Sammy                       & Sosa                        & Chicago Cubs                & Wrigley Field              \\\\\n",
       "\t 1999                        & 65                          & Mark                        & McGwire                     & St. Louis Cardinals         & Busch Stadium II           \\\\\n",
       "\t 1999                        & 63                          & Sammy                       & Sosa                        & Chicago Cubs                & Wrigley Field              \\\\\n",
       "\t 1998                        & 56                          & Ken                         & Griffey                     & Seattle Mariners            & Kingdome                   \\\\\n",
       "\t 1998                        & 70                          & Mark                        & McGwire                     & St. Louis Cardinals         & Busch Stadium II           \\\\\n",
       "\t 1998                        & 66                          & Sammy                       & Sosa                        & Chicago Cubs                & Wrigley Field              \\\\\n",
       "\t 1998                        & 50                          & Greg                        & Vaughn                      & San Diego Padres            & Qualcomm Stadium           \\\\\n",
       "\t 1997                        & 56                          & Ken                         & Griffey                     & Seattle Mariners            & Kingdome                   \\\\\n",
       "\t 1996                        & 50                          & Brady                       & Anderson                    & Baltimore Orioles           & Oriole Park at Camden Yards\\\\\n",
       "\t 1996                        & 52                          & Mark                        & McGwire                     & Oakland Athletics           & Oakland Coliseum           \\\\\n",
       "\t 1995                        & 50                          & Albert                      & Belle                       & Cleveland Indians           & Jacobs Field               \\\\\n",
       "\t 1990                        & 51                          & Cecil                       & Fielder                     & Detroit Tigers              & Tiger Stadium              \\\\\n",
       "\t 1977                        & 52                          & George                      & Foster                      & Cincinnati Reds             & Riverfront Stadium         \\\\\n",
       "\t 1965                        & 52                          & Willie                      & Mays                        & San Francisco Giants        & Candlestick Park           \\\\\n",
       "\t 1961                        & 54                          & Mickey                      & Mantle                      & New York Yankees            & Yankee Stadium I           \\\\\n",
       "\t 1961                        & 61                          & Roger                       & Maris                       & New York Yankees            & Yankee Stadium I           \\\\\n",
       "\t 1956                        & 52                          & Mickey                      & Mantle                      & New York Yankees            & Yankee Stadium I           \\\\\n",
       "\t 1955                        & 51                          & Willie                      & Mays                        & New York Giants             & Polo Grounds IV            \\\\\n",
       "\t 1949                        & 54                          & Ralph                       & Kiner                       & Pittsburgh Pirates          & Forbes Field               \\\\\n",
       "\t 1947                        & 51                          & Ralph                       & Kiner                       & Pittsburgh Pirates          & Forbes Field               \\\\\n",
       "\t 1947                        & 51                          & Johnny                      & Mize                        & New York Giants             & Polo Grounds IV            \\\\\n",
       "\t 1938                        & 50                          & Jimmie                      & Foxx                        & Boston Red Sox              & Fenway Park II             \\\\\n",
       "\t 1938                        & 58                          & Hank                        & Greenberg                   & Detroit Tigers              & Briggs Stadium             \\\\\n",
       "\t 1932                        & 58                          & Jimmie                      & Foxx                        & Philadelphia Athletics      & Shibe Park                 \\\\\n",
       "\t 1930                        & 56                          & Hack                        & Wilson                      & Chicago Cubs                & Wrigley Field              \\\\\n",
       "\t 1928                        & 54                          & Babe                        & Ruth                        & New York Yankees            & Yankee Stadium I           \\\\\n",
       "\t 1927                        & 60                          & Babe                        & Ruth                        & New York Yankees            & Yankee Stadium I           \\\\\n",
       "\t 1921                        & 59                          & Babe                        & Ruth                        & New York Yankees            & Polo Grounds IV            \\\\\n",
       "\t 1920                        & 54                          & Babe                        & Ruth                        & New York Yankees            & Polo Grounds IV            \\\\\n",
       "\\end{tabular}\n"
      ],
      "text/markdown": [
       "\n",
       "| yearID | HR | nameFirst | nameLast | name | park |\n",
       "|---|---|---|---|---|---|\n",
       "| 2017                        | 52                          | Aaron                       | Judge                       | New York Yankees            | Yankee Stadium III          |\n",
       "| 2017                        | 59                          | Giancarlo                   | Stanton                     | Miami Marlins               | Marlins Park                |\n",
       "| 2013                        | 53                          | Chris                       | Davis                       | Baltimore Orioles           | Oriole Park at Camden Yards |\n",
       "| 2010                        | 54                          | Jose                        | Bautista                    | Toronto Blue Jays           | Rogers Centre               |\n",
       "| 2007                        | 50                          | Prince                      | Fielder                     | Milwaukee Brewers           | Miller Park                 |\n",
       "| 2007                        | 54                          | Alex                        | Rodriguez                   | New York Yankees            | Yankee Stadium II           |\n",
       "| 2006                        | 58                          | Ryan                        | Howard                      | Philadelphia Phillies       | Citizens Bank Park          |\n",
       "| 2006                        | 54                          | David                       | Ortiz                       | Boston Red Sox              | Fenway Park II              |\n",
       "| 2005                        | 51                          | Andruw                      | Jones                       | Atlanta Braves              | Turner Field                |\n",
       "| 2002                        | 57                          | Alex                        | Rodriguez                   | Texas Rangers               | The Ballpark at Arlington   |\n",
       "| 2002                        | 52                          | Jim                         | Thome                       | Cleveland Indians           | Jacobs Field                |\n",
       "| 2001                        | 73                          | Barry                       | Bonds                       | San Francisco Giants        | PacBell Park                |\n",
       "| 2001                        | 57                          | Luis                        | Gonzalez                    | Arizona Diamondbacks        | Bank One Ballpark           |\n",
       "| 2001                        | 52                          | Alex                        | Rodriguez                   | Texas Rangers               | The Ballpark at Arlington   |\n",
       "| 2001                        | 64                          | Sammy                       | Sosa                        | Chicago Cubs                | Wrigley Field               |\n",
       "| 2000                        | 50                          | Sammy                       | Sosa                        | Chicago Cubs                | Wrigley Field               |\n",
       "| 1999                        | 65                          | Mark                        | McGwire                     | St. Louis Cardinals         | Busch Stadium II            |\n",
       "| 1999                        | 63                          | Sammy                       | Sosa                        | Chicago Cubs                | Wrigley Field               |\n",
       "| 1998                        | 56                          | Ken                         | Griffey                     | Seattle Mariners            | Kingdome                    |\n",
       "| 1998                        | 70                          | Mark                        | McGwire                     | St. Louis Cardinals         | Busch Stadium II            |\n",
       "| 1998                        | 66                          | Sammy                       | Sosa                        | Chicago Cubs                | Wrigley Field               |\n",
       "| 1998                        | 50                          | Greg                        | Vaughn                      | San Diego Padres            | Qualcomm Stadium            |\n",
       "| 1997                        | 56                          | Ken                         | Griffey                     | Seattle Mariners            | Kingdome                    |\n",
       "| 1996                        | 50                          | Brady                       | Anderson                    | Baltimore Orioles           | Oriole Park at Camden Yards |\n",
       "| 1996                        | 52                          | Mark                        | McGwire                     | Oakland Athletics           | Oakland Coliseum            |\n",
       "| 1995                        | 50                          | Albert                      | Belle                       | Cleveland Indians           | Jacobs Field                |\n",
       "| 1990                        | 51                          | Cecil                       | Fielder                     | Detroit Tigers              | Tiger Stadium               |\n",
       "| 1977                        | 52                          | George                      | Foster                      | Cincinnati Reds             | Riverfront Stadium          |\n",
       "| 1965                        | 52                          | Willie                      | Mays                        | San Francisco Giants        | Candlestick Park            |\n",
       "| 1961                        | 54                          | Mickey                      | Mantle                      | New York Yankees            | Yankee Stadium I            |\n",
       "| 1961                        | 61                          | Roger                       | Maris                       | New York Yankees            | Yankee Stadium I            |\n",
       "| 1956                        | 52                          | Mickey                      | Mantle                      | New York Yankees            | Yankee Stadium I            |\n",
       "| 1955                        | 51                          | Willie                      | Mays                        | New York Giants             | Polo Grounds IV             |\n",
       "| 1949                        | 54                          | Ralph                       | Kiner                       | Pittsburgh Pirates          | Forbes Field                |\n",
       "| 1947                        | 51                          | Ralph                       | Kiner                       | Pittsburgh Pirates          | Forbes Field                |\n",
       "| 1947                        | 51                          | Johnny                      | Mize                        | New York Giants             | Polo Grounds IV             |\n",
       "| 1938                        | 50                          | Jimmie                      | Foxx                        | Boston Red Sox              | Fenway Park II              |\n",
       "| 1938                        | 58                          | Hank                        | Greenberg                   | Detroit Tigers              | Briggs Stadium              |\n",
       "| 1932                        | 58                          | Jimmie                      | Foxx                        | Philadelphia Athletics      | Shibe Park                  |\n",
       "| 1930                        | 56                          | Hack                        | Wilson                      | Chicago Cubs                | Wrigley Field               |\n",
       "| 1928                        | 54                          | Babe                        | Ruth                        | New York Yankees            | Yankee Stadium I            |\n",
       "| 1927                        | 60                          | Babe                        | Ruth                        | New York Yankees            | Yankee Stadium I            |\n",
       "| 1921                        | 59                          | Babe                        | Ruth                        | New York Yankees            | Polo Grounds IV             |\n",
       "| 1920                        | 54                          | Babe                        | Ruth                        | New York Yankees            | Polo Grounds IV             |\n",
       "\n"
      ],
      "text/plain": [
       "   yearID HR nameFirst nameLast  name                  \n",
       "1  2017   52 Aaron     Judge     New York Yankees      \n",
       "2  2017   59 Giancarlo Stanton   Miami Marlins         \n",
       "3  2013   53 Chris     Davis     Baltimore Orioles     \n",
       "4  2010   54 Jose      Bautista  Toronto Blue Jays     \n",
       "5  2007   50 Prince    Fielder   Milwaukee Brewers     \n",
       "6  2007   54 Alex      Rodriguez New York Yankees      \n",
       "7  2006   58 Ryan      Howard    Philadelphia Phillies \n",
       "8  2006   54 David     Ortiz     Boston Red Sox        \n",
       "9  2005   51 Andruw    Jones     Atlanta Braves        \n",
       "10 2002   57 Alex      Rodriguez Texas Rangers         \n",
       "11 2002   52 Jim       Thome     Cleveland Indians     \n",
       "12 2001   73 Barry     Bonds     San Francisco Giants  \n",
       "13 2001   57 Luis      Gonzalez  Arizona Diamondbacks  \n",
       "14 2001   52 Alex      Rodriguez Texas Rangers         \n",
       "15 2001   64 Sammy     Sosa      Chicago Cubs          \n",
       "16 2000   50 Sammy     Sosa      Chicago Cubs          \n",
       "17 1999   65 Mark      McGwire   St. Louis Cardinals   \n",
       "18 1999   63 Sammy     Sosa      Chicago Cubs          \n",
       "19 1998   56 Ken       Griffey   Seattle Mariners      \n",
       "20 1998   70 Mark      McGwire   St. Louis Cardinals   \n",
       "21 1998   66 Sammy     Sosa      Chicago Cubs          \n",
       "22 1998   50 Greg      Vaughn    San Diego Padres      \n",
       "23 1997   56 Ken       Griffey   Seattle Mariners      \n",
       "24 1996   50 Brady     Anderson  Baltimore Orioles     \n",
       "25 1996   52 Mark      McGwire   Oakland Athletics     \n",
       "26 1995   50 Albert    Belle     Cleveland Indians     \n",
       "27 1990   51 Cecil     Fielder   Detroit Tigers        \n",
       "28 1977   52 George    Foster    Cincinnati Reds       \n",
       "29 1965   52 Willie    Mays      San Francisco Giants  \n",
       "30 1961   54 Mickey    Mantle    New York Yankees      \n",
       "31 1961   61 Roger     Maris     New York Yankees      \n",
       "32 1956   52 Mickey    Mantle    New York Yankees      \n",
       "33 1955   51 Willie    Mays      New York Giants       \n",
       "34 1949   54 Ralph     Kiner     Pittsburgh Pirates    \n",
       "35 1947   51 Ralph     Kiner     Pittsburgh Pirates    \n",
       "36 1947   51 Johnny    Mize      New York Giants       \n",
       "37 1938   50 Jimmie    Foxx      Boston Red Sox        \n",
       "38 1938   58 Hank      Greenberg Detroit Tigers        \n",
       "39 1932   58 Jimmie    Foxx      Philadelphia Athletics\n",
       "40 1930   56 Hack      Wilson    Chicago Cubs          \n",
       "41 1928   54 Babe      Ruth      New York Yankees      \n",
       "42 1927   60 Babe      Ruth      New York Yankees      \n",
       "43 1921   59 Babe      Ruth      New York Yankees      \n",
       "44 1920   54 Babe      Ruth      New York Yankees      \n",
       "   park                       \n",
       "1  Yankee Stadium III         \n",
       "2  Marlins Park               \n",
       "3  Oriole Park at Camden Yards\n",
       "4  Rogers Centre              \n",
       "5  Miller Park                \n",
       "6  Yankee Stadium II          \n",
       "7  Citizens Bank Park         \n",
       "8  Fenway Park II             \n",
       "9  Turner Field               \n",
       "10 The Ballpark at Arlington  \n",
       "11 Jacobs Field               \n",
       "12 PacBell Park               \n",
       "13 Bank One Ballpark          \n",
       "14 The Ballpark at Arlington  \n",
       "15 Wrigley Field              \n",
       "16 Wrigley Field              \n",
       "17 Busch Stadium II           \n",
       "18 Wrigley Field              \n",
       "19 Kingdome                   \n",
       "20 Busch Stadium II           \n",
       "21 Wrigley Field              \n",
       "22 Qualcomm Stadium           \n",
       "23 Kingdome                   \n",
       "24 Oriole Park at Camden Yards\n",
       "25 Oakland Coliseum           \n",
       "26 Jacobs Field               \n",
       "27 Tiger Stadium              \n",
       "28 Riverfront Stadium         \n",
       "29 Candlestick Park           \n",
       "30 Yankee Stadium I           \n",
       "31 Yankee Stadium I           \n",
       "32 Yankee Stadium I           \n",
       "33 Polo Grounds IV            \n",
       "34 Forbes Field               \n",
       "35 Forbes Field               \n",
       "36 Polo Grounds IV            \n",
       "37 Fenway Park II             \n",
       "38 Briggs Stadium             \n",
       "39 Shibe Park                 \n",
       "40 Wrigley Field              \n",
       "41 Yankee Stadium I           \n",
       "42 Yankee Stadium I           \n",
       "43 Polo Grounds IV            \n",
       "44 Polo Grounds IV            "
      ]
     },
     "metadata": {},
     "output_type": "display_data"
    }
   ],
   "source": [
    "(over50hr\n",
    " %>% inner_join(players_names, by = 'playerID')\n",
    " %>% inner_join(teams_name_park, by=c('yearID', 'teamID'))\n",
    " %>% select(-one_of(\"playerID\", \"teamID\"))\n",
    " %>% arrange(desc(yearID))\n",
    " #%>% head\n",
    ")"
   ]
  },
  {
   "cell_type": "markdown",
   "metadata": {},
   "source": [
    "## Make a connection to the database\n",
    "\n",
    "We use `DBI` and `RSQLite` to establish a connection to the database."
   ]
  },
  {
   "cell_type": "code",
   "execution_count": 63,
   "metadata": {},
   "outputs": [],
   "source": [
    "library(dplyr)\n",
    "library(DBI)\n",
    "con <- DBI::dbConnect(RSQLite::SQLite(), path = \"./databases/baseball_full.db\")"
   ]
  },
  {
   "cell_type": "markdown",
   "metadata": {},
   "source": [
    "## List all tables\n",
    "\n",
    "The **should** list all of the tables in the database.\n",
    "\n",
    "# <font color=\"red\"> TODO - WTF is going on here!?! </font>"
   ]
  },
  {
   "cell_type": "code",
   "execution_count": 64,
   "metadata": {},
   "outputs": [
    {
     "data": {
      "text/html": [],
      "text/latex": [],
      "text/markdown": [],
      "text/plain": [
       "character(0)"
      ]
     },
     "metadata": {},
     "output_type": "display_data"
    }
   ],
   "source": [
    "dbListTables(con)"
   ]
  },
  {
   "cell_type": "code",
   "execution_count": 65,
   "metadata": {
    "scrolled": true
   },
   "outputs": [
    {
     "ename": "ERROR",
     "evalue": "Error in result_create(conn@ptr, statement): no such table: People\n",
     "output_type": "error",
     "traceback": [
      "Error in result_create(conn@ptr, statement): no such table: People\nTraceback:\n",
      "1. tbl(con, \"People\")",
      "2. tbl.DBIConnection(con, \"People\")",
      "3. tbl(dbplyr::src_dbi(src, auto_disconnect = FALSE), from = from, \n .     ...)",
      "4. tbl.src_dbi(dbplyr::src_dbi(src, auto_disconnect = FALSE), from = from, \n .     ...)",
      "5. tbl_sql(c(subclass, \"dbi\"), src = src, from = from)",
      "6. vars %||% db_query_fields(src$con, from)",
      "7. db_query_fields(src$con, from)",
      "8. db_query_fields.DBIConnection(src$con, from)",
      "9. dbSendQuery(con, sql)",
      "10. dbSendQuery(con, sql)",
      "11. .local(conn, statement, ...)",
      "12. new(\"SQLiteResult\", sql = statement, ptr = result_create(conn@ptr, \n  .     statement), conn = conn, bigint = conn@bigint)",
      "13. initialize(value, ...)",
      "14. initialize(value, ...)",
      "15. result_create(conn@ptr, statement)"
     ]
    }
   ],
   "source": [
    "people <- tbl(con, \"People\")"
   ]
  },
  {
   "cell_type": "markdown",
   "metadata": {},
   "source": [
    "## Checking if the problem is my database\n",
    "\n",
    "To double check that this isn't an issue with my database, I have downloaded someone else's sqlite baseball database.  Same issue."
   ]
  },
  {
   "cell_type": "code",
   "execution_count": 66,
   "metadata": {},
   "outputs": [],
   "source": [
    "library(dplyr)\n",
    "library(DBI)\n",
    "library(RSQLite)\n",
    "con2 <- dbConnect(SQLite(), path = \"./databases/lahman2016.sqlite\")"
   ]
  },
  {
   "cell_type": "code",
   "execution_count": 67,
   "metadata": {},
   "outputs": [
    {
     "data": {
      "text/html": [],
      "text/latex": [],
      "text/markdown": [],
      "text/plain": [
       "character(0)"
      ]
     },
     "metadata": {},
     "output_type": "display_data"
    }
   ],
   "source": [
    "dbListTables(con2)"
   ]
  },
  {
   "cell_type": "code",
   "execution_count": 68,
   "metadata": {
    "scrolled": false
   },
   "outputs": [
    {
     "ename": "ERROR",
     "evalue": "Error in result_create(conn@ptr, statement): no such table: People\n",
     "output_type": "error",
     "traceback": [
      "Error in result_create(conn@ptr, statement): no such table: People\nTraceback:\n",
      "1. tbl(con, \"People\")",
      "2. tbl.DBIConnection(con, \"People\")",
      "3. tbl(dbplyr::src_dbi(src, auto_disconnect = FALSE), from = from, \n .     ...)",
      "4. tbl.src_dbi(dbplyr::src_dbi(src, auto_disconnect = FALSE), from = from, \n .     ...)",
      "5. tbl_sql(c(subclass, \"dbi\"), src = src, from = from)",
      "6. vars %||% db_query_fields(src$con, from)",
      "7. db_query_fields(src$con, from)",
      "8. db_query_fields.DBIConnection(src$con, from)",
      "9. dbSendQuery(con, sql)",
      "10. dbSendQuery(con, sql)",
      "11. .local(conn, statement, ...)",
      "12. new(\"SQLiteResult\", sql = statement, ptr = result_create(conn@ptr, \n  .     statement), conn = conn, bigint = conn@bigint)",
      "13. initialize(value, ...)",
      "14. initialize(value, ...)",
      "15. result_create(conn@ptr, statement)"
     ]
    }
   ],
   "source": [
    "people <- tbl(con, \"People\")"
   ]
  },
  {
   "cell_type": "code",
   "execution_count": null,
   "metadata": {},
   "outputs": [],
   "source": []
  }
 ],
 "metadata": {
  "kernelspec": {
   "display_name": "R",
   "language": "R",
   "name": "ir"
  },
  "language_info": {
   "codemirror_mode": "r",
   "file_extension": ".r",
   "mimetype": "text/x-r-source",
   "name": "R",
   "pygments_lexer": "r",
   "version": "3.5.1"
  }
 },
 "nbformat": 4,
 "nbformat_minor": 2
}
