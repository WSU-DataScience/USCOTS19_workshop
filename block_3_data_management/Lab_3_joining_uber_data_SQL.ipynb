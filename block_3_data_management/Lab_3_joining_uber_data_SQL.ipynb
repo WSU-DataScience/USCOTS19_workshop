{
 "cells": [
  {
   "cell_type": "markdown",
   "metadata": {},
   "source": [
    "# Lab 3 - Joining Uber Pick-Ups, Stations, and Boroughs - SQL\n",
    "\n",
    "FiveThirtyEight obtained information about all Uber pick-ups in NYC for two 6 month periods through a FOIA request.  More information about the data and subsequent analyses can be found [here](https://github.com/fivethirtyeight/uber-tlc-foil-response).\n",
    "\n",
    "The combined data are too large for binder, so we have included a sample of 100,000 rows from each table.  In this exercise, you will join the base name and taxi zone name onto the original data from Jan-June 2015, add variaous date parts to the data, and finally aggregate the data to answer some questions about the frequency of Uber pick-ups.\n",
    "\n",
    "The sampled data have been provided in the SQLite database named `uber_samples.db`."
   ]
  },
  {
   "cell_type": "code",
   "execution_count": 2,
   "metadata": {},
   "outputs": [
    {
     "data": {
      "text/plain": [
       "['apr14',\n",
       " 'aug14',\n",
       " 'base_lookup',\n",
       " 'janjune15',\n",
       " 'jul14',\n",
       " 'jun14',\n",
       " 'may14',\n",
       " 'sep14',\n",
       " 'taxi_zone_lookup']"
      ]
     },
     "execution_count": 2,
     "metadata": {},
     "output_type": "execute_result"
    }
   ],
   "source": [
    "%load_ext pyensae\n",
    "%SQL_connect ./databases/uber_samples.db\n",
    "%SQL_tables"
   ]
  },
  {
   "cell_type": "markdown",
   "metadata": {},
   "source": [
    "## <font color=\"red\"> Problem 1 - Inspect the column names for the three tables of interest.\n",
    "\n",
    "First, we will focus on the January-June 2015 data.  **Inspect the column schema for this table.**"
   ]
  },
  {
   "cell_type": "code",
   "execution_count": 1,
   "metadata": {},
   "outputs": [],
   "source": [
    "# Your code here"
   ]
  },
  {
   "cell_type": "markdown",
   "metadata": {},
   "source": [
    "The name taxi zone for each location is provided in `taxi-zone-lookup` and the Uber base station names can be found in `base_lookup`.  **Inspect the column schema for each table.**"
   ]
  },
  {
   "cell_type": "code",
   "execution_count": 3,
   "metadata": {},
   "outputs": [],
   "source": [
    "# Your code here"
   ]
  },
  {
   "cell_type": "code",
   "execution_count": 2,
   "metadata": {},
   "outputs": [],
   "source": [
    "# Your code here"
   ]
  },
  {
   "cell_type": "markdown",
   "metadata": {},
   "source": [
    "Your next task will be joining all the names onto the January-June 2015 data.  **Discuss the columns that will need to be joined.  What type of joins?**"
   ]
  },
  {
   "cell_type": "markdown",
   "metadata": {},
   "source": [
    "* We need to join `base_lookup` to `janjune15` using `janjune15.Dispatching_base_num == base_lookup.base_code`\n",
    "* We need to join `taxi_zone_lookup` to `janjune15` using `janjune15.locationID == taxi_zone_lookup.LocationID`"
   ]
  },
  {
   "cell_type": "markdown",
   "metadata": {},
   "source": [
    "## <font color=\"red\"> Problem 2 - Joining the tables</font>\n",
    "\n",
    "**Use SQL to join the three tables together into one table.**"
   ]
  },
  {
   "cell_type": "code",
   "execution_count": 4,
   "metadata": {},
   "outputs": [],
   "source": [
    "# Your code here"
   ]
  },
  {
   "cell_type": "markdown",
   "metadata": {},
   "source": [
    "## <font color=\"red\"> Problem 3 - Adding Date Parts</font>\n",
    "\n",
    "The questions in the next section ask questions about the hour of the day.  The hour can be compute using the `strftime` function using `strftime('%d', column)` in the `SELECT` statement.  **Use SQL to add the hour of the day and day of the week to the table**"
   ]
  },
  {
   "cell_type": "code",
   "execution_count": 5,
   "metadata": {},
   "outputs": [],
   "source": [
    "# Your code here"
   ]
  },
  {
   "cell_type": "markdown",
   "metadata": {},
   "source": [
    "## <font color=\"red\"> Problem 4 - Prototyping a Helper Function</font>\n",
    "\n",
    "We are interested in answering the following questions.\n",
    "\n",
    "1. Which of the Uber base stations dispatched the most calls?\n",
    "2. Which of the Boroughs dispatched the most calls?\n",
    "3. Is there a difference between the Boroughs in terms of the distribution of pick-ups across the hours of the day?\n",
    "\n",
    "**Use SQL to answer the following questions.**"
   ]
  },
  {
   "cell_type": "markdown",
   "metadata": {},
   "source": [
    "#### Question 1"
   ]
  },
  {
   "cell_type": "code",
   "execution_count": 6,
   "metadata": {},
   "outputs": [],
   "source": [
    "# Your code here"
   ]
  },
  {
   "cell_type": "markdown",
   "metadata": {},
   "source": [
    "#### Question 2"
   ]
  },
  {
   "cell_type": "code",
   "execution_count": 7,
   "metadata": {},
   "outputs": [],
   "source": [
    "# Your code here"
   ]
  },
  {
   "cell_type": "markdown",
   "metadata": {},
   "source": [
    "#### Question 3"
   ]
  },
  {
   "cell_type": "code",
   "execution_count": 10,
   "metadata": {},
   "outputs": [],
   "source": [
    "# Your code here"
   ]
  },
  {
   "cell_type": "code",
   "execution_count": null,
   "metadata": {},
   "outputs": [],
   "source": []
  }
 ],
 "metadata": {
  "kernelspec": {
   "display_name": "Python 3",
   "language": "python",
   "name": "python3"
  },
  "language_info": {
   "codemirror_mode": {
    "name": "ipython",
    "version": 3
   },
   "file_extension": ".py",
   "mimetype": "text/x-python",
   "name": "python",
   "nbconvert_exporter": "python",
   "pygments_lexer": "ipython3",
   "version": "3.7.2"
  },
  "varInspector": {
   "cols": {
    "lenName": 16,
    "lenType": 16,
    "lenVar": 40
   },
   "kernels_config": {
    "python": {
     "delete_cmd_postfix": "",
     "delete_cmd_prefix": "del ",
     "library": "var_list.py",
     "varRefreshCmd": "print(var_dic_list())"
    },
    "r": {
     "delete_cmd_postfix": ") ",
     "delete_cmd_prefix": "rm(",
     "library": "var_list.r",
     "varRefreshCmd": "cat(var_dic_list()) "
    }
   },
   "types_to_exclude": [
    "module",
    "function",
    "builtin_function_or_method",
    "instance",
    "_Feature"
   ],
   "window_display": false
  }
 },
 "nbformat": 4,
 "nbformat_minor": 2
}
