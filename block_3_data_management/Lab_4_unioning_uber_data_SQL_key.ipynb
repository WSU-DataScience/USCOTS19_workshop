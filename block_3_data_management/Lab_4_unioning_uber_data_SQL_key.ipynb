{
 "cells": [
  {
   "cell_type": "markdown",
   "metadata": {},
   "source": [
    "# Lab 4 - Unioning Uber Pick-Ups, Stations, and Boroughs - SQL\n",
    "\n",
    "FiveThirtyEight obtained information about all Uber pick-ups in NYC for two 6 month periods through a FOIA request.  More information about the data and subsequent analyses can be found [here](https://github.com/fivethirtyeight/uber-tlc-foil-response).\n",
    "\n",
    "The combined data are too large for binder, so we have included a sample of 100,000 rows from each table.  In this exercise, you will union the original data from May-Sept 2014, add the base name, add variaous date parts to the data, and finally aggregate the data to answer some questions about the frequency of Uber pick-ups.\n",
    "\n",
    "The sampled data have been provided in the SQLite database named `uber_samples.db`."
   ]
  },
  {
   "cell_type": "code",
   "execution_count": 2,
   "metadata": {},
   "outputs": [
    {
     "name": "stdout",
     "output_type": "stream",
     "text": [
      "The pyensae extension is already loaded. To reload it, use:\n",
      "  %reload_ext pyensae\n"
     ]
    },
    {
     "data": {
      "text/plain": [
       "['apr14',\n",
       " 'aug14',\n",
       " 'base_lookup',\n",
       " 'janjune15',\n",
       " 'jul14',\n",
       " 'jun14',\n",
       " 'may14',\n",
       " 'sep14',\n",
       " 'taxi_zone_lookup']"
      ]
     },
     "execution_count": 2,
     "metadata": {},
     "output_type": "execute_result"
    }
   ],
   "source": [
    "%load_ext pyensae\n",
    "%SQL_connect ./databases/uber_samples.db\n",
    "%SQL_tables"
   ]
  },
  {
   "cell_type": "markdown",
   "metadata": {},
   "source": [
    "## <font color=\"red\"> Problem 1 - Inspect the column names for the seven tables of interest.\n",
    "\n",
    "First, we will focus on the six files from 2014.  **Inspect the column schema for each of these tables.**"
   ]
  },
  {
   "cell_type": "code",
   "execution_count": 3,
   "metadata": {},
   "outputs": [
    {
     "data": {
      "text/plain": [
       "{0: ('Date/Time', datetime.datetime),\n",
       " 1: ('Lat', float),\n",
       " 2: ('Lon', float),\n",
       " 3: ('Base', str)}"
      ]
     },
     "execution_count": 3,
     "metadata": {},
     "output_type": "execute_result"
    }
   ],
   "source": [
    "%SQL_schema apr14"
   ]
  },
  {
   "cell_type": "code",
   "execution_count": 3,
   "metadata": {},
   "outputs": [
    {
     "data": {
      "text/plain": [
       "{0: ('Date/Time', datetime.datetime),\n",
       " 1: ('Lat', float),\n",
       " 2: ('Lon', float),\n",
       " 3: ('Base', str)}"
      ]
     },
     "execution_count": 3,
     "metadata": {},
     "output_type": "execute_result"
    }
   ],
   "source": [
    "%SQL_schema may14"
   ]
  },
  {
   "cell_type": "code",
   "execution_count": 4,
   "metadata": {},
   "outputs": [
    {
     "data": {
      "text/plain": [
       "{0: ('Date/Time', datetime.datetime),\n",
       " 1: ('Lat', float),\n",
       " 2: ('Lon', float),\n",
       " 3: ('Base', str)}"
      ]
     },
     "execution_count": 4,
     "metadata": {},
     "output_type": "execute_result"
    }
   ],
   "source": [
    "%SQL_schema jun14"
   ]
  },
  {
   "cell_type": "code",
   "execution_count": 5,
   "metadata": {},
   "outputs": [
    {
     "data": {
      "text/plain": [
       "{0: ('Date/Time', datetime.datetime),\n",
       " 1: ('Lat', float),\n",
       " 2: ('Lon', float),\n",
       " 3: ('Base', str)}"
      ]
     },
     "execution_count": 5,
     "metadata": {},
     "output_type": "execute_result"
    }
   ],
   "source": [
    "%SQL_schema jul14"
   ]
  },
  {
   "cell_type": "code",
   "execution_count": 6,
   "metadata": {},
   "outputs": [
    {
     "data": {
      "text/plain": [
       "{0: ('Date/Time', datetime.datetime),\n",
       " 1: ('Lat', float),\n",
       " 2: ('Lon', float),\n",
       " 3: ('Base', str)}"
      ]
     },
     "execution_count": 6,
     "metadata": {},
     "output_type": "execute_result"
    }
   ],
   "source": [
    "%SQL_schema aug14"
   ]
  },
  {
   "cell_type": "code",
   "execution_count": 7,
   "metadata": {},
   "outputs": [
    {
     "data": {
      "text/plain": [
       "{0: ('Date/Time', datetime.datetime),\n",
       " 1: ('Lat', float),\n",
       " 2: ('Lon', float),\n",
       " 3: ('Base', str)}"
      ]
     },
     "execution_count": 7,
     "metadata": {},
     "output_type": "execute_result"
    }
   ],
   "source": [
    "%SQL_schema sep14"
   ]
  },
  {
   "cell_type": "markdown",
   "metadata": {},
   "source": [
    "The Uber base station names can be found in `base_lookup`.  **Inspect the column schema for each table.**"
   ]
  },
  {
   "cell_type": "code",
   "execution_count": 8,
   "metadata": {},
   "outputs": [
    {
     "data": {
      "text/plain": [
       "{0: ('base_code', str), 1: ('base_name', str)}"
      ]
     },
     "execution_count": 8,
     "metadata": {},
     "output_type": "execute_result"
    }
   ],
   "source": [
    "%SQL_schema base_lookup"
   ]
  },
  {
   "cell_type": "markdown",
   "metadata": {},
   "source": [
    "Your next task will be joining all the names onto the January-June 2015 data.  **Discuss the columns that will need to be joined.  What type of joins?**"
   ]
  },
  {
   "cell_type": "markdown",
   "metadata": {},
   "source": [
    "> *Your thoughts here*"
   ]
  },
  {
   "cell_type": "markdown",
   "metadata": {},
   "source": [
    "## <font color=\"red\"> Problem 2 - Unioning the tables</font>\n",
    "\n",
    "**Use SQL to join the six Uber tables together into one table.  Use `UNION ALL` to preserve all of the data.**"
   ]
  },
  {
   "cell_type": "code",
   "execution_count": 10,
   "metadata": {},
   "outputs": [
    {
     "data": {
      "text/html": [
       "<div>\n",
       "<style scoped>\n",
       "    .dataframe tbody tr th:only-of-type {\n",
       "        vertical-align: middle;\n",
       "    }\n",
       "\n",
       "    .dataframe tbody tr th {\n",
       "        vertical-align: top;\n",
       "    }\n",
       "\n",
       "    .dataframe thead th {\n",
       "        text-align: right;\n",
       "    }\n",
       "</style>\n",
       "<table border=\"1\" class=\"dataframe\">\n",
       "  <thead>\n",
       "    <tr style=\"text-align: right;\">\n",
       "      <th></th>\n",
       "      <th>Date/Time</th>\n",
       "      <th>Lat</th>\n",
       "      <th>Lon</th>\n",
       "      <th>Base</th>\n",
       "      <th>Month</th>\n",
       "    </tr>\n",
       "  </thead>\n",
       "  <tbody>\n",
       "    <tr>\n",
       "      <th>0</th>\n",
       "      <td>2014-04-18 21:38:00.000000</td>\n",
       "      <td>40.7359</td>\n",
       "      <td>-73.9852</td>\n",
       "      <td>B02682</td>\n",
       "      <td>April</td>\n",
       "    </tr>\n",
       "    <tr>\n",
       "      <th>1</th>\n",
       "      <td>2014-04-23 15:19:00.000000</td>\n",
       "      <td>40.7642</td>\n",
       "      <td>-73.9543</td>\n",
       "      <td>B02598</td>\n",
       "      <td>April</td>\n",
       "    </tr>\n",
       "    <tr>\n",
       "      <th>2</th>\n",
       "      <td>2014-04-10 07:15:00.000000</td>\n",
       "      <td>40.7138</td>\n",
       "      <td>-74.0103</td>\n",
       "      <td>B02598</td>\n",
       "      <td>April</td>\n",
       "    </tr>\n",
       "    <tr>\n",
       "      <th>3</th>\n",
       "      <td>2014-04-11 15:23:00.000000</td>\n",
       "      <td>40.7847</td>\n",
       "      <td>-73.9698</td>\n",
       "      <td>B02682</td>\n",
       "      <td>April</td>\n",
       "    </tr>\n",
       "    <tr>\n",
       "      <th>4</th>\n",
       "      <td>2014-04-07 17:26:00.000000</td>\n",
       "      <td>40.6460</td>\n",
       "      <td>-73.7767</td>\n",
       "      <td>B02598</td>\n",
       "      <td>April</td>\n",
       "    </tr>\n",
       "    <tr>\n",
       "      <th>5</th>\n",
       "      <td>2014-04-10 16:56:00.000000</td>\n",
       "      <td>40.7414</td>\n",
       "      <td>-74.0071</td>\n",
       "      <td>B02682</td>\n",
       "      <td>April</td>\n",
       "    </tr>\n",
       "    <tr>\n",
       "      <th>6</th>\n",
       "      <td>2014-04-24 23:26:00.000000</td>\n",
       "      <td>40.7181</td>\n",
       "      <td>-73.9500</td>\n",
       "      <td>B02682</td>\n",
       "      <td>April</td>\n",
       "    </tr>\n",
       "    <tr>\n",
       "      <th>7</th>\n",
       "      <td>2014-04-23 13:44:00.000000</td>\n",
       "      <td>40.7634</td>\n",
       "      <td>-73.9964</td>\n",
       "      <td>B02598</td>\n",
       "      <td>April</td>\n",
       "    </tr>\n",
       "    <tr>\n",
       "      <th>8</th>\n",
       "      <td>2014-04-09 07:05:00.000000</td>\n",
       "      <td>40.7167</td>\n",
       "      <td>-73.9635</td>\n",
       "      <td>B02682</td>\n",
       "      <td>April</td>\n",
       "    </tr>\n",
       "    <tr>\n",
       "      <th>9</th>\n",
       "      <td>2014-04-27 15:07:00.000000</td>\n",
       "      <td>40.7216</td>\n",
       "      <td>-73.9977</td>\n",
       "      <td>B02598</td>\n",
       "      <td>April</td>\n",
       "    </tr>\n",
       "  </tbody>\n",
       "</table>\n",
       "</div>"
      ],
      "text/plain": [
       "                    Date/Time      Lat      Lon    Base  Month\n",
       "0  2014-04-18 21:38:00.000000  40.7359 -73.9852  B02682  April\n",
       "1  2014-04-23 15:19:00.000000  40.7642 -73.9543  B02598  April\n",
       "2  2014-04-10 07:15:00.000000  40.7138 -74.0103  B02598  April\n",
       "3  2014-04-11 15:23:00.000000  40.7847 -73.9698  B02682  April\n",
       "4  2014-04-07 17:26:00.000000  40.6460 -73.7767  B02598  April\n",
       "5  2014-04-10 16:56:00.000000  40.7414 -74.0071  B02682  April\n",
       "6  2014-04-24 23:26:00.000000  40.7181 -73.9500  B02682  April\n",
       "7  2014-04-23 13:44:00.000000  40.7634 -73.9964  B02598  April\n",
       "8  2014-04-09 07:05:00.000000  40.7167 -73.9635  B02682  April\n",
       "9  2014-04-27 15:07:00.000000  40.7216 -73.9977  B02598  April"
      ]
     },
     "execution_count": 10,
     "metadata": {},
     "output_type": "execute_result"
    }
   ],
   "source": [
    "%%SQL\n",
    "SELECT *, 'April' as Month\n",
    "FROM apr14\n",
    "UNION ALL\n",
    "SELECT *, 'May' as Month\n",
    "FROM may14\n",
    "UNION ALL\n",
    "SELECT *, 'June' as Month\n",
    "FROM jun14\n",
    "UNION ALL\n",
    "SELECT *, 'July' as Month\n",
    "FROM jul14\n",
    "UNION ALL\n",
    "SELECT *, 'August' as Month\n",
    "FROM aug14\n",
    "UNION ALL\n",
    "SELECT *, 'September' as Month\n",
    "FROM sep14"
   ]
  },
  {
   "cell_type": "markdown",
   "metadata": {},
   "source": [
    "## <font color=\"red\"> Problem 3 - Adding Date Parts</font>\n",
    "\n",
    "The questions in the next section ask questions about the day of the day.  The day can be compute using the `strftime` function using `strftime('%d', column)` in the `SELECT` statement.  **Use SQL to add the hour of the day and day of the week to the table**"
   ]
  },
  {
   "cell_type": "code",
   "execution_count": 15,
   "metadata": {},
   "outputs": [
    {
     "data": {
      "text/html": [
       "<div>\n",
       "<style scoped>\n",
       "    .dataframe tbody tr th:only-of-type {\n",
       "        vertical-align: middle;\n",
       "    }\n",
       "\n",
       "    .dataframe tbody tr th {\n",
       "        vertical-align: top;\n",
       "    }\n",
       "\n",
       "    .dataframe thead th {\n",
       "        text-align: right;\n",
       "    }\n",
       "</style>\n",
       "<table border=\"1\" class=\"dataframe\">\n",
       "  <thead>\n",
       "    <tr style=\"text-align: right;\">\n",
       "      <th></th>\n",
       "      <th>Date</th>\n",
       "      <th>Lat</th>\n",
       "      <th>Lon</th>\n",
       "      <th>Base</th>\n",
       "      <th>Month</th>\n",
       "      <th>Day</th>\n",
       "    </tr>\n",
       "  </thead>\n",
       "  <tbody>\n",
       "    <tr>\n",
       "      <th>0</th>\n",
       "      <td>2014-04-18 21:38:00.000000</td>\n",
       "      <td>40.7359</td>\n",
       "      <td>-73.9852</td>\n",
       "      <td>B02682</td>\n",
       "      <td>April</td>\n",
       "      <td>5</td>\n",
       "    </tr>\n",
       "    <tr>\n",
       "      <th>1</th>\n",
       "      <td>2014-04-23 15:19:00.000000</td>\n",
       "      <td>40.7642</td>\n",
       "      <td>-73.9543</td>\n",
       "      <td>B02598</td>\n",
       "      <td>April</td>\n",
       "      <td>3</td>\n",
       "    </tr>\n",
       "    <tr>\n",
       "      <th>2</th>\n",
       "      <td>2014-04-10 07:15:00.000000</td>\n",
       "      <td>40.7138</td>\n",
       "      <td>-74.0103</td>\n",
       "      <td>B02598</td>\n",
       "      <td>April</td>\n",
       "      <td>4</td>\n",
       "    </tr>\n",
       "    <tr>\n",
       "      <th>3</th>\n",
       "      <td>2014-04-11 15:23:00.000000</td>\n",
       "      <td>40.7847</td>\n",
       "      <td>-73.9698</td>\n",
       "      <td>B02682</td>\n",
       "      <td>April</td>\n",
       "      <td>5</td>\n",
       "    </tr>\n",
       "    <tr>\n",
       "      <th>4</th>\n",
       "      <td>2014-04-07 17:26:00.000000</td>\n",
       "      <td>40.6460</td>\n",
       "      <td>-73.7767</td>\n",
       "      <td>B02598</td>\n",
       "      <td>April</td>\n",
       "      <td>1</td>\n",
       "    </tr>\n",
       "    <tr>\n",
       "      <th>5</th>\n",
       "      <td>2014-04-10 16:56:00.000000</td>\n",
       "      <td>40.7414</td>\n",
       "      <td>-74.0071</td>\n",
       "      <td>B02682</td>\n",
       "      <td>April</td>\n",
       "      <td>4</td>\n",
       "    </tr>\n",
       "    <tr>\n",
       "      <th>6</th>\n",
       "      <td>2014-04-24 23:26:00.000000</td>\n",
       "      <td>40.7181</td>\n",
       "      <td>-73.9500</td>\n",
       "      <td>B02682</td>\n",
       "      <td>April</td>\n",
       "      <td>4</td>\n",
       "    </tr>\n",
       "    <tr>\n",
       "      <th>7</th>\n",
       "      <td>2014-04-23 13:44:00.000000</td>\n",
       "      <td>40.7634</td>\n",
       "      <td>-73.9964</td>\n",
       "      <td>B02598</td>\n",
       "      <td>April</td>\n",
       "      <td>3</td>\n",
       "    </tr>\n",
       "    <tr>\n",
       "      <th>8</th>\n",
       "      <td>2014-04-09 07:05:00.000000</td>\n",
       "      <td>40.7167</td>\n",
       "      <td>-73.9635</td>\n",
       "      <td>B02682</td>\n",
       "      <td>April</td>\n",
       "      <td>3</td>\n",
       "    </tr>\n",
       "    <tr>\n",
       "      <th>9</th>\n",
       "      <td>2014-04-27 15:07:00.000000</td>\n",
       "      <td>40.7216</td>\n",
       "      <td>-73.9977</td>\n",
       "      <td>B02598</td>\n",
       "      <td>April</td>\n",
       "      <td>0</td>\n",
       "    </tr>\n",
       "  </tbody>\n",
       "</table>\n",
       "</div>"
      ],
      "text/plain": [
       "                         Date      Lat      Lon    Base  Month Day\n",
       "0  2014-04-18 21:38:00.000000  40.7359 -73.9852  B02682  April   5\n",
       "1  2014-04-23 15:19:00.000000  40.7642 -73.9543  B02598  April   3\n",
       "2  2014-04-10 07:15:00.000000  40.7138 -74.0103  B02598  April   4\n",
       "3  2014-04-11 15:23:00.000000  40.7847 -73.9698  B02682  April   5\n",
       "4  2014-04-07 17:26:00.000000  40.6460 -73.7767  B02598  April   1\n",
       "5  2014-04-10 16:56:00.000000  40.7414 -74.0071  B02682  April   4\n",
       "6  2014-04-24 23:26:00.000000  40.7181 -73.9500  B02682  April   4\n",
       "7  2014-04-23 13:44:00.000000  40.7634 -73.9964  B02598  April   3\n",
       "8  2014-04-09 07:05:00.000000  40.7167 -73.9635  B02682  April   3\n",
       "9  2014-04-27 15:07:00.000000  40.7216 -73.9977  B02598  April   0"
      ]
     },
     "execution_count": 15,
     "metadata": {},
     "output_type": "execute_result"
    }
   ],
   "source": [
    "%%SQL\n",
    "SELECT *, strftime('%w', Date) AS Day\n",
    "FROM (SELECT \"Date/Time\" AS Date, Lat, Lon, Base, 'April' as Month\n",
    "      FROM apr14\n",
    "      UNION ALL\n",
    "      SELECT \"Date/Time\" AS Date, Lat, Lon, Base, 'May' as Month\n",
    "      FROM may14\n",
    "      UNION ALL\n",
    "      SELECT \"Date/Time\" AS Date, Lat, Lon, Base, 'June' as Month\n",
    "      FROM jun14\n",
    "      UNION ALL\n",
    "      SELECT \"Date/Time\" AS Date, Lat, Lon, Base, 'July' as Month\n",
    "      FROM jul14\n",
    "      UNION ALL\n",
    "      SELECT \"Date/Time\" AS Date, Lat, Lon, Base, 'August' as Month\n",
    "      FROM aug14\n",
    "      UNION ALL\n",
    "      SELECT \"Date/Time\" AS Date, Lat, Lon, Base, 'September' as Month\n",
    "      FROM sep14)"
   ]
  },
  {
   "cell_type": "markdown",
   "metadata": {},
   "source": [
    "## <font color=\"red\"> Problem 4 - Join the base station name</font>\n",
    "\n",
    "**Join the unioned table to the `base_lookup` file**"
   ]
  },
  {
   "cell_type": "code",
   "execution_count": 18,
   "metadata": {},
   "outputs": [
    {
     "data": {
      "text/html": [
       "<div>\n",
       "<style scoped>\n",
       "    .dataframe tbody tr th:only-of-type {\n",
       "        vertical-align: middle;\n",
       "    }\n",
       "\n",
       "    .dataframe tbody tr th {\n",
       "        vertical-align: top;\n",
       "    }\n",
       "\n",
       "    .dataframe thead th {\n",
       "        text-align: right;\n",
       "    }\n",
       "</style>\n",
       "<table border=\"1\" class=\"dataframe\">\n",
       "  <thead>\n",
       "    <tr style=\"text-align: right;\">\n",
       "      <th></th>\n",
       "      <th>Date</th>\n",
       "      <th>Lat</th>\n",
       "      <th>Lon</th>\n",
       "      <th>Base</th>\n",
       "      <th>Month</th>\n",
       "      <th>Day</th>\n",
       "      <th>base_code</th>\n",
       "      <th>base_name</th>\n",
       "    </tr>\n",
       "  </thead>\n",
       "  <tbody>\n",
       "    <tr>\n",
       "      <th>0</th>\n",
       "      <td>2014-04-18 21:38:00.000000</td>\n",
       "      <td>40.7359</td>\n",
       "      <td>-73.9852</td>\n",
       "      <td>B02682</td>\n",
       "      <td>April</td>\n",
       "      <td>5</td>\n",
       "      <td>B02682</td>\n",
       "      <td>Schmecken</td>\n",
       "    </tr>\n",
       "    <tr>\n",
       "      <th>1</th>\n",
       "      <td>2014-04-23 15:19:00.000000</td>\n",
       "      <td>40.7642</td>\n",
       "      <td>-73.9543</td>\n",
       "      <td>B02598</td>\n",
       "      <td>April</td>\n",
       "      <td>3</td>\n",
       "      <td>B02598</td>\n",
       "      <td>Hinter</td>\n",
       "    </tr>\n",
       "    <tr>\n",
       "      <th>2</th>\n",
       "      <td>2014-04-10 07:15:00.000000</td>\n",
       "      <td>40.7138</td>\n",
       "      <td>-74.0103</td>\n",
       "      <td>B02598</td>\n",
       "      <td>April</td>\n",
       "      <td>4</td>\n",
       "      <td>B02598</td>\n",
       "      <td>Hinter</td>\n",
       "    </tr>\n",
       "    <tr>\n",
       "      <th>3</th>\n",
       "      <td>2014-04-11 15:23:00.000000</td>\n",
       "      <td>40.7847</td>\n",
       "      <td>-73.9698</td>\n",
       "      <td>B02682</td>\n",
       "      <td>April</td>\n",
       "      <td>5</td>\n",
       "      <td>B02682</td>\n",
       "      <td>Schmecken</td>\n",
       "    </tr>\n",
       "    <tr>\n",
       "      <th>4</th>\n",
       "      <td>2014-04-07 17:26:00.000000</td>\n",
       "      <td>40.6460</td>\n",
       "      <td>-73.7767</td>\n",
       "      <td>B02598</td>\n",
       "      <td>April</td>\n",
       "      <td>1</td>\n",
       "      <td>B02598</td>\n",
       "      <td>Hinter</td>\n",
       "    </tr>\n",
       "    <tr>\n",
       "      <th>5</th>\n",
       "      <td>2014-04-10 16:56:00.000000</td>\n",
       "      <td>40.7414</td>\n",
       "      <td>-74.0071</td>\n",
       "      <td>B02682</td>\n",
       "      <td>April</td>\n",
       "      <td>4</td>\n",
       "      <td>B02682</td>\n",
       "      <td>Schmecken</td>\n",
       "    </tr>\n",
       "    <tr>\n",
       "      <th>6</th>\n",
       "      <td>2014-04-24 23:26:00.000000</td>\n",
       "      <td>40.7181</td>\n",
       "      <td>-73.9500</td>\n",
       "      <td>B02682</td>\n",
       "      <td>April</td>\n",
       "      <td>4</td>\n",
       "      <td>B02682</td>\n",
       "      <td>Schmecken</td>\n",
       "    </tr>\n",
       "    <tr>\n",
       "      <th>7</th>\n",
       "      <td>2014-04-23 13:44:00.000000</td>\n",
       "      <td>40.7634</td>\n",
       "      <td>-73.9964</td>\n",
       "      <td>B02598</td>\n",
       "      <td>April</td>\n",
       "      <td>3</td>\n",
       "      <td>B02598</td>\n",
       "      <td>Hinter</td>\n",
       "    </tr>\n",
       "    <tr>\n",
       "      <th>8</th>\n",
       "      <td>2014-04-09 07:05:00.000000</td>\n",
       "      <td>40.7167</td>\n",
       "      <td>-73.9635</td>\n",
       "      <td>B02682</td>\n",
       "      <td>April</td>\n",
       "      <td>3</td>\n",
       "      <td>B02682</td>\n",
       "      <td>Schmecken</td>\n",
       "    </tr>\n",
       "    <tr>\n",
       "      <th>9</th>\n",
       "      <td>2014-04-27 15:07:00.000000</td>\n",
       "      <td>40.7216</td>\n",
       "      <td>-73.9977</td>\n",
       "      <td>B02598</td>\n",
       "      <td>April</td>\n",
       "      <td>0</td>\n",
       "      <td>B02598</td>\n",
       "      <td>Hinter</td>\n",
       "    </tr>\n",
       "  </tbody>\n",
       "</table>\n",
       "</div>"
      ],
      "text/plain": [
       "                         Date      Lat      Lon    Base  Month Day base_code  \\\n",
       "0  2014-04-18 21:38:00.000000  40.7359 -73.9852  B02682  April   5    B02682   \n",
       "1  2014-04-23 15:19:00.000000  40.7642 -73.9543  B02598  April   3    B02598   \n",
       "2  2014-04-10 07:15:00.000000  40.7138 -74.0103  B02598  April   4    B02598   \n",
       "3  2014-04-11 15:23:00.000000  40.7847 -73.9698  B02682  April   5    B02682   \n",
       "4  2014-04-07 17:26:00.000000  40.6460 -73.7767  B02598  April   1    B02598   \n",
       "5  2014-04-10 16:56:00.000000  40.7414 -74.0071  B02682  April   4    B02682   \n",
       "6  2014-04-24 23:26:00.000000  40.7181 -73.9500  B02682  April   4    B02682   \n",
       "7  2014-04-23 13:44:00.000000  40.7634 -73.9964  B02598  April   3    B02598   \n",
       "8  2014-04-09 07:05:00.000000  40.7167 -73.9635  B02682  April   3    B02682   \n",
       "9  2014-04-27 15:07:00.000000  40.7216 -73.9977  B02598  April   0    B02598   \n",
       "\n",
       "   base_name  \n",
       "0  Schmecken  \n",
       "1     Hinter  \n",
       "2     Hinter  \n",
       "3  Schmecken  \n",
       "4     Hinter  \n",
       "5  Schmecken  \n",
       "6  Schmecken  \n",
       "7     Hinter  \n",
       "8  Schmecken  \n",
       "9     Hinter  "
      ]
     },
     "execution_count": 18,
     "metadata": {},
     "output_type": "execute_result"
    }
   ],
   "source": [
    "%%SQL\n",
    "SELECT *\n",
    "FROM (\n",
    "        SELECT *, strftime('%w', Date) AS Day\n",
    "        FROM (SELECT \"Date/Time\" AS Date, Lat, Lon, Base, 'April' as Month\n",
    "              FROM apr14\n",
    "              UNION ALL\n",
    "              SELECT \"Date/Time\" AS Date, Lat, Lon, Base, 'May' as Month\n",
    "              FROM may14\n",
    "              UNION ALL\n",
    "              SELECT \"Date/Time\" AS Date, Lat, Lon, Base, 'June' as Month\n",
    "              FROM jun14\n",
    "              UNION ALL\n",
    "              SELECT \"Date/Time\" AS Date, Lat, Lon, Base, 'July' as Month\n",
    "              FROM jul14\n",
    "              UNION ALL\n",
    "              SELECT \"Date/Time\" AS Date, Lat, Lon, Base, 'August' as Month\n",
    "              FROM aug14\n",
    "              UNION ALL\n",
    "              SELECT \"Date/Time\" AS Date, Lat, Lon, Base, 'September' as Month\n",
    "              FROM sep14)) AS U LEFT JOIN base_lookup ON U.Base == base_lookup.base_code"
   ]
  },
  {
   "cell_type": "code",
   "execution_count": 16,
   "metadata": {},
   "outputs": [
    {
     "data": {
      "text/html": [
       "<div>\n",
       "<style scoped>\n",
       "    .dataframe tbody tr th:only-of-type {\n",
       "        vertical-align: middle;\n",
       "    }\n",
       "\n",
       "    .dataframe tbody tr th {\n",
       "        vertical-align: top;\n",
       "    }\n",
       "\n",
       "    .dataframe thead th {\n",
       "        text-align: right;\n",
       "    }\n",
       "</style>\n",
       "<table border=\"1\" class=\"dataframe\">\n",
       "  <thead>\n",
       "    <tr style=\"text-align: right;\">\n",
       "      <th></th>\n",
       "      <th>base_code</th>\n",
       "      <th>base_name</th>\n",
       "    </tr>\n",
       "  </thead>\n",
       "  <tbody>\n",
       "    <tr>\n",
       "      <th>0</th>\n",
       "      <td>B02512</td>\n",
       "      <td>Unter</td>\n",
       "    </tr>\n",
       "    <tr>\n",
       "      <th>1</th>\n",
       "      <td>B02598</td>\n",
       "      <td>Hinter</td>\n",
       "    </tr>\n",
       "    <tr>\n",
       "      <th>2</th>\n",
       "      <td>B02617</td>\n",
       "      <td>Weiter</td>\n",
       "    </tr>\n",
       "    <tr>\n",
       "      <th>3</th>\n",
       "      <td>B02682</td>\n",
       "      <td>Schmecken</td>\n",
       "    </tr>\n",
       "    <tr>\n",
       "      <th>4</th>\n",
       "      <td>B02764</td>\n",
       "      <td>Danach-NY</td>\n",
       "    </tr>\n",
       "    <tr>\n",
       "      <th>5</th>\n",
       "      <td>B02765</td>\n",
       "      <td>Grun</td>\n",
       "    </tr>\n",
       "    <tr>\n",
       "      <th>6</th>\n",
       "      <td>B02835</td>\n",
       "      <td>Dreist</td>\n",
       "    </tr>\n",
       "    <tr>\n",
       "      <th>7</th>\n",
       "      <td>B02836</td>\n",
       "      <td>Drinnen</td>\n",
       "    </tr>\n",
       "  </tbody>\n",
       "</table>\n",
       "</div>"
      ],
      "text/plain": [
       "  base_code  base_name\n",
       "0    B02512      Unter\n",
       "1    B02598     Hinter\n",
       "2    B02617     Weiter\n",
       "3    B02682  Schmecken\n",
       "4    B02764  Danach-NY\n",
       "5    B02765       Grun\n",
       "6    B02835     Dreist\n",
       "7    B02836    Drinnen"
      ]
     },
     "execution_count": 16,
     "metadata": {},
     "output_type": "execute_result"
    }
   ],
   "source": [
    "%%SQL\n",
    "SELECT *\n",
    "FROM base_lookup"
   ]
  },
  {
   "cell_type": "markdown",
   "metadata": {},
   "source": [
    "## <font color=\"red\"> Problem 4 - Answer some questions</font>\n",
    "\n",
    "We are interested in answering the following questions.\n",
    "\n",
    "1. Which of the Uber base stations dispatched the most calls?\n",
    "2. Which of the days had the most dispatched calls?\n",
    "3. Is there a difference between the Months in terms of the distribution of pick-ups across weekdays?\n",
    "\n",
    "**Use SQL to answer the following questions.**"
   ]
  },
  {
   "cell_type": "markdown",
   "metadata": {},
   "source": [
    "#### Question 1"
   ]
  },
  {
   "cell_type": "code",
   "execution_count": 19,
   "metadata": {},
   "outputs": [
    {
     "data": {
      "text/html": [
       "<div>\n",
       "<style scoped>\n",
       "    .dataframe tbody tr th:only-of-type {\n",
       "        vertical-align: middle;\n",
       "    }\n",
       "\n",
       "    .dataframe tbody tr th {\n",
       "        vertical-align: top;\n",
       "    }\n",
       "\n",
       "    .dataframe thead th {\n",
       "        text-align: right;\n",
       "    }\n",
       "</style>\n",
       "<table border=\"1\" class=\"dataframe\">\n",
       "  <thead>\n",
       "    <tr style=\"text-align: right;\">\n",
       "      <th></th>\n",
       "      <th>Base</th>\n",
       "      <th>CNT</th>\n",
       "    </tr>\n",
       "  </thead>\n",
       "  <tbody>\n",
       "    <tr>\n",
       "      <th>0</th>\n",
       "      <td>B02512</td>\n",
       "      <td>28519</td>\n",
       "    </tr>\n",
       "    <tr>\n",
       "      <th>1</th>\n",
       "      <td>B02598</td>\n",
       "      <td>189559</td>\n",
       "    </tr>\n",
       "    <tr>\n",
       "      <th>2</th>\n",
       "      <td>B02617</td>\n",
       "      <td>184408</td>\n",
       "    </tr>\n",
       "    <tr>\n",
       "      <th>3</th>\n",
       "      <td>B02682</td>\n",
       "      <td>168613</td>\n",
       "    </tr>\n",
       "    <tr>\n",
       "      <th>4</th>\n",
       "      <td>B02764</td>\n",
       "      <td>28901</td>\n",
       "    </tr>\n",
       "  </tbody>\n",
       "</table>\n",
       "</div>"
      ],
      "text/plain": [
       "     Base     CNT\n",
       "0  B02512   28519\n",
       "1  B02598  189559\n",
       "2  B02617  184408\n",
       "3  B02682  168613\n",
       "4  B02764   28901"
      ]
     },
     "execution_count": 19,
     "metadata": {},
     "output_type": "execute_result"
    }
   ],
   "source": [
    "%%SQL\n",
    "SELECT Base, Count(*) AS CNT\n",
    "FROM (\n",
    "        SELECT *, strftime('%w', Date) AS Day\n",
    "        FROM (SELECT \"Date/Time\" AS Date, Lat, Lon, Base, 'April' as Month\n",
    "              FROM apr14\n",
    "              UNION ALL\n",
    "              SELECT \"Date/Time\" AS Date, Lat, Lon, Base, 'May' as Month\n",
    "              FROM may14\n",
    "              UNION ALL\n",
    "              SELECT \"Date/Time\" AS Date, Lat, Lon, Base, 'June' as Month\n",
    "              FROM jun14\n",
    "              UNION ALL\n",
    "              SELECT \"Date/Time\" AS Date, Lat, Lon, Base, 'July' as Month\n",
    "              FROM jul14\n",
    "              UNION ALL\n",
    "              SELECT \"Date/Time\" AS Date, Lat, Lon, Base, 'August' as Month\n",
    "              FROM aug14\n",
    "              UNION ALL\n",
    "              SELECT \"Date/Time\" AS Date, Lat, Lon, Base, 'September' as Month\n",
    "              FROM sep14)) AS U LEFT JOIN base_lookup ON U.Base == base_lookup.base_code\n",
    "GROUP BY Base"
   ]
  },
  {
   "cell_type": "markdown",
   "metadata": {},
   "source": [
    "#### Question 2"
   ]
  },
  {
   "cell_type": "code",
   "execution_count": 21,
   "metadata": {},
   "outputs": [
    {
     "data": {
      "text/html": [
       "<div>\n",
       "<style scoped>\n",
       "    .dataframe tbody tr th:only-of-type {\n",
       "        vertical-align: middle;\n",
       "    }\n",
       "\n",
       "    .dataframe tbody tr th {\n",
       "        vertical-align: top;\n",
       "    }\n",
       "\n",
       "    .dataframe thead th {\n",
       "        text-align: right;\n",
       "    }\n",
       "</style>\n",
       "<table border=\"1\" class=\"dataframe\">\n",
       "  <thead>\n",
       "    <tr style=\"text-align: right;\">\n",
       "      <th></th>\n",
       "      <th>Day</th>\n",
       "      <th>CNT</th>\n",
       "    </tr>\n",
       "  </thead>\n",
       "  <tbody>\n",
       "    <tr>\n",
       "      <th>0</th>\n",
       "      <td>0</td>\n",
       "      <td>64178</td>\n",
       "    </tr>\n",
       "    <tr>\n",
       "      <th>1</th>\n",
       "      <td>1</td>\n",
       "      <td>71296</td>\n",
       "    </tr>\n",
       "    <tr>\n",
       "      <th>2</th>\n",
       "      <td>2</td>\n",
       "      <td>87101</td>\n",
       "    </tr>\n",
       "    <tr>\n",
       "      <th>3</th>\n",
       "      <td>3</td>\n",
       "      <td>93669</td>\n",
       "    </tr>\n",
       "    <tr>\n",
       "      <th>4</th>\n",
       "      <td>4</td>\n",
       "      <td>100803</td>\n",
       "    </tr>\n",
       "    <tr>\n",
       "      <th>5</th>\n",
       "      <td>5</td>\n",
       "      <td>98710</td>\n",
       "    </tr>\n",
       "    <tr>\n",
       "      <th>6</th>\n",
       "      <td>6</td>\n",
       "      <td>84243</td>\n",
       "    </tr>\n",
       "  </tbody>\n",
       "</table>\n",
       "</div>"
      ],
      "text/plain": [
       "  Day     CNT\n",
       "0   0   64178\n",
       "1   1   71296\n",
       "2   2   87101\n",
       "3   3   93669\n",
       "4   4  100803\n",
       "5   5   98710\n",
       "6   6   84243"
      ]
     },
     "execution_count": 21,
     "metadata": {},
     "output_type": "execute_result"
    }
   ],
   "source": [
    "%%SQL\n",
    "SELECT Day, Count(*) AS CNT\n",
    "FROM (\n",
    "        SELECT *, strftime('%w', Date) AS Day\n",
    "        FROM (SELECT \"Date/Time\" AS Date, Lat, Lon, Base, 'April' as Month\n",
    "              FROM apr14\n",
    "              UNION ALL\n",
    "              SELECT \"Date/Time\" AS Date, Lat, Lon, Base, 'May' as Month\n",
    "              FROM may14\n",
    "              UNION ALL\n",
    "              SELECT \"Date/Time\" AS Date, Lat, Lon, Base, 'June' as Month\n",
    "              FROM jun14\n",
    "              UNION ALL\n",
    "              SELECT \"Date/Time\" AS Date, Lat, Lon, Base, 'July' as Month\n",
    "              FROM jul14\n",
    "              UNION ALL\n",
    "              SELECT \"Date/Time\" AS Date, Lat, Lon, Base, 'August' as Month\n",
    "              FROM aug14\n",
    "              UNION ALL\n",
    "              SELECT \"Date/Time\" AS Date, Lat, Lon, Base, 'September' as Month\n",
    "              FROM sep14)) AS U LEFT JOIN base_lookup ON U.Base == base_lookup.base_code\n",
    "GROUP BY Day"
   ]
  },
  {
   "cell_type": "markdown",
   "metadata": {},
   "source": [
    "#### Question 3"
   ]
  },
  {
   "cell_type": "code",
   "execution_count": 22,
   "metadata": {},
   "outputs": [
    {
     "data": {
      "text/html": [
       "<div>\n",
       "<style scoped>\n",
       "    .dataframe tbody tr th:only-of-type {\n",
       "        vertical-align: middle;\n",
       "    }\n",
       "\n",
       "    .dataframe tbody tr th {\n",
       "        vertical-align: top;\n",
       "    }\n",
       "\n",
       "    .dataframe thead th {\n",
       "        text-align: right;\n",
       "    }\n",
       "</style>\n",
       "<table border=\"1\" class=\"dataframe\">\n",
       "  <thead>\n",
       "    <tr style=\"text-align: right;\">\n",
       "      <th></th>\n",
       "      <th>Day</th>\n",
       "      <th>Month</th>\n",
       "      <th>CNT</th>\n",
       "    </tr>\n",
       "  </thead>\n",
       "  <tbody>\n",
       "    <tr>\n",
       "      <th>0</th>\n",
       "      <td>0</td>\n",
       "      <td>April</td>\n",
       "      <td>9017</td>\n",
       "    </tr>\n",
       "    <tr>\n",
       "      <th>1</th>\n",
       "      <td>1</td>\n",
       "      <td>April</td>\n",
       "      <td>10882</td>\n",
       "    </tr>\n",
       "    <tr>\n",
       "      <th>2</th>\n",
       "      <td>2</td>\n",
       "      <td>April</td>\n",
       "      <td>16171</td>\n",
       "    </tr>\n",
       "    <tr>\n",
       "      <th>3</th>\n",
       "      <td>3</td>\n",
       "      <td>April</td>\n",
       "      <td>19154</td>\n",
       "    </tr>\n",
       "    <tr>\n",
       "      <th>4</th>\n",
       "      <td>4</td>\n",
       "      <td>April</td>\n",
       "      <td>15277</td>\n",
       "    </tr>\n",
       "    <tr>\n",
       "      <th>5</th>\n",
       "      <td>5</td>\n",
       "      <td>April</td>\n",
       "      <td>15930</td>\n",
       "    </tr>\n",
       "    <tr>\n",
       "      <th>6</th>\n",
       "      <td>6</td>\n",
       "      <td>April</td>\n",
       "      <td>13569</td>\n",
       "    </tr>\n",
       "    <tr>\n",
       "      <th>7</th>\n",
       "      <td>0</td>\n",
       "      <td>August</td>\n",
       "      <td>13339</td>\n",
       "    </tr>\n",
       "    <tr>\n",
       "      <th>8</th>\n",
       "      <td>1</td>\n",
       "      <td>August</td>\n",
       "      <td>11211</td>\n",
       "    </tr>\n",
       "    <tr>\n",
       "      <th>9</th>\n",
       "      <td>2</td>\n",
       "      <td>August</td>\n",
       "      <td>12848</td>\n",
       "    </tr>\n",
       "  </tbody>\n",
       "</table>\n",
       "</div>"
      ],
      "text/plain": [
       "  Day   Month    CNT\n",
       "0   0   April   9017\n",
       "1   1   April  10882\n",
       "2   2   April  16171\n",
       "3   3   April  19154\n",
       "4   4   April  15277\n",
       "5   5   April  15930\n",
       "6   6   April  13569\n",
       "7   0  August  13339\n",
       "8   1  August  11211\n",
       "9   2  August  12848"
      ]
     },
     "execution_count": 22,
     "metadata": {},
     "output_type": "execute_result"
    }
   ],
   "source": [
    "%%SQL\n",
    "SELECT Day, Month, Count(*) AS CNT\n",
    "FROM (\n",
    "        SELECT *, strftime('%w', Date) AS Day\n",
    "        FROM (SELECT \"Date/Time\" AS Date, Lat, Lon, Base, 'April' as Month\n",
    "              FROM apr14\n",
    "              UNION ALL\n",
    "              SELECT \"Date/Time\" AS Date, Lat, Lon, Base, 'May' as Month\n",
    "              FROM may14\n",
    "              UNION ALL\n",
    "              SELECT \"Date/Time\" AS Date, Lat, Lon, Base, 'June' as Month\n",
    "              FROM jun14\n",
    "              UNION ALL\n",
    "              SELECT \"Date/Time\" AS Date, Lat, Lon, Base, 'July' as Month\n",
    "              FROM jul14\n",
    "              UNION ALL\n",
    "              SELECT \"Date/Time\" AS Date, Lat, Lon, Base, 'August' as Month\n",
    "              FROM aug14\n",
    "              UNION ALL\n",
    "              SELECT \"Date/Time\" AS Date, Lat, Lon, Base, 'September' as Month\n",
    "              FROM sep14)) AS U LEFT JOIN base_lookup ON U.Base == base_lookup.base_code\n",
    "GROUP BY Month, Day"
   ]
  },
  {
   "cell_type": "code",
   "execution_count": 41,
   "metadata": {},
   "outputs": [
    {
     "data": {
      "text/plain": [
       "<matplotlib.axes._subplots.AxesSubplot at 0x1a1c249a20>"
      ]
     },
     "execution_count": 41,
     "metadata": {},
     "output_type": "execute_result"
    },
    {
     "data": {
      "image/png": "[encoded data removed]",
      "text/plain": [
       "<Figure size 432x288 with 1 Axes>"
      ]
     },
     "metadata": {
      "needs_background": "light"
     },
     "output_type": "display_data"
    }
   ],
   "source": [
    "import seaborn as sns\n",
    "\n",
    "sns.barplot(x='hour', y=\"cnt\", hue ='Borough', data = out)"
   ]
  },
  {
   "cell_type": "code",
   "execution_count": null,
   "metadata": {},
   "outputs": [],
   "source": []
  }
 ],
 "metadata": {
  "kernelspec": {
   "display_name": "Python 3",
   "language": "python",
   "name": "python3"
  },
  "language_info": {
   "codemirror_mode": {
    "name": "ipython",
    "version": 3
   },
   "file_extension": ".py",
   "mimetype": "text/x-python",
   "name": "python",
   "nbconvert_exporter": "python",
   "pygments_lexer": "ipython3",
   "version": "3.7.2"
  },
  "varInspector": {
   "cols": {
    "lenName": 16,
    "lenType": 16,
    "lenVar": 40
   },
   "kernels_config": {
    "python": {
     "delete_cmd_postfix": "",
     "delete_cmd_prefix": "del ",
     "library": "var_list.py",
     "varRefreshCmd": "print(var_dic_list())"
    },
    "r": {
     "delete_cmd_postfix": ") ",
     "delete_cmd_prefix": "rm(",
     "library": "var_list.r",
     "varRefreshCmd": "cat(var_dic_list()) "
    }
   },
   "types_to_exclude": [
    "module",
    "function",
    "builtin_function_or_method",
    "instance",
    "_Feature"
   ],
   "window_display": false
  }
 },
 "nbformat": 4,
 "nbformat_minor": 2
}
