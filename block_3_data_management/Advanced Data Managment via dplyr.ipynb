{
 "cells": [
  {
   "cell_type": "markdown",
   "metadata": {},
   "source": [
    "# USCOTS 2019 Block 3 - Advanced Data Management with dplyr\n",
    "\n",
    "Students need time and practice to learn how to best to utilize the data wrangling verbs.  The exercise presented here will put into practice many verbs including:  \n",
    "\n",
    "* Filter\n",
    "* Select\n",
    "* Mutate\n",
    "* Gather / Spread\n",
    "* Join\n",
    "\n",
    "## Goal: Investigate the proportion women & men ages 19-34 who do not have health insurance.  \n",
    "\n",
    "This exercise will use data obtained from the Census Bureau's American Community Survey [Link](https://www.census.gov/programs-surveys/acs).  Information from the American Community Survey 5-Year Estimates (ACS5) will be obtained for this exercise.  This investigation will require information about number of females / males in the desired age categories, the number of females / males without health insurance.  Information regarding per capita income will be obtained as well.\n",
    "\n",
    "\n",
    "* Population: Female / Male, Ages 18 - 34 [ACS5 Link](https://api.census.gov/data/2017/acs/acs5?get=B01001_007E,B01001_008E,B01001_009E,B01001_010E,B01001_011E,B01001_012E,B01001_031E,B01001_032E,B01001_033E,B01001_034E,B01001_035E,B01001_036E&for=county:*&for=state:*)\n",
    "    * Males: B01001_007E - B01001_012E\n",
    "    * Females: B01001_031E - B01001_036E\n",
    "* Not Insured: Female / Malne, Ages 19-34 [ACS5 Link](https://api.census.gov/data/2017/acs/acs5?get=B27001_011E,B27001_014E,B27001_039E,B27001_042E&for=county:*&for=state:*)\n",
    "    * Males: B27001_011E, B27001_014E\n",
    "    * Females: B27001_039E, B27001_042E\n",
    "* (Median) Per Capita Income [ACS5 Link](https://api.census.gov/data/2017/acs/acs5?get=B19301_001E&for=county:*&for=state:*)\n",
    "    * B19301_001E\n",
    "* Name: Crosswalk between FIPS and County Names [ACS5 Link](https://api.census.gov/data/2017/acs/acs5?get=NAME&for=county:*&for=state:*)\n",
    "\n",
    "## Guiding Questions\n",
    "1. What counties have the highest proportion of individuals without health insurance for ages 19-34?\n",
    "2. What counties have the highest proportion of females without health insurance for ages 19-34?\n",
    "3. Are the counties identified above for females the same as those for males?  Briefly discuss.\n",
    "\n"
   ]
  },
  {
   "cell_type": "markdown",
   "metadata": {},
   "source": [
    "## Loading the required packages in R\n",
    "This excerise will require the following packages / libraries in R.  The library() command will load this packages."
   ]
  },
  {
   "cell_type": "code",
   "execution_count": 2,
   "metadata": {
    "scrolled": true
   },
   "outputs": [
    {
     "name": "stderr",
     "output_type": "stream",
     "text": [
      "Warning message:\n",
      "\"package 'tidyr' was built under R version 3.5.3\"Warning message:\n",
      "\"package 'dplyr' was built under R version 3.5.3\"\n",
      "Attaching package: 'dplyr'\n",
      "\n",
      "The following objects are masked from 'package:stats':\n",
      "\n",
      "    filter, lag\n",
      "\n",
      "The following objects are masked from 'package:base':\n",
      "\n",
      "    intersect, setdiff, setequal, union\n",
      "\n",
      "Warning message:\n",
      "\"package 'readr' was built under R version 3.5.3\""
     ]
    }
   ],
   "source": [
    "#Load tidyr, dplyr, and readr libraries\n",
    "library(tidyr)\n",
    "library(dplyr)\n",
    "library(readr)"
   ]
  },
  {
   "cell_type": "markdown",
   "metadata": {},
   "source": [
    "## Reading in the four datasets from the American Community Survey API\n",
    "1. ACS5_Name: Identifies the names of the counties and their associated FIPS code\n",
    "2. ACS5_Income: Dataset that contains median per capita income\n",
    "3. ACS5_NoInsurance: Dataset that contains a count of the number of females and males without health insurance in the desired age range\n",
    "4. ACS5_Population: Dataset that contains population counts for the desired age range"
   ]
  },
  {
   "cell_type": "code",
   "execution_count": 3,
   "metadata": {},
   "outputs": [],
   "source": [
    "ACS5_Names <- read_csv(\"./data/ACS5_Names.csv\", col_types = cols())\n",
    "ACS5_Income <- read_csv(\"./data/ACS5_Income.csv\", col_types = cols())\n",
    "ACS5_NoInsurance <- read_csv(\"./data/ACS5_NoInsurance.csv\", col_types = cols())\n",
    "ACS5_Population <- read_csv(\"./data/ACS5_Population.csv\", col_types = cols())\n"
   ]
  },
  {
   "attachments": {},
   "cell_type": "markdown",
   "metadata": {},
   "source": [
    "The following provides a snipit of the initial population table provided by the ACS5 API.  The variable names were edited as shown.  The desired table is provided as well.  The code below will produce this table.\n",
    "\n",
    "\n",
    "## Initial Population Table\n",
    "\n",
    "<img src=\"./data/PopulationTable_Initial.JPG\">\n",
    "\n",
    "## Desired Table for Population\n",
    "\n",
    "<img src=\"./data/PopulationTable_Final.JPG\">"
   ]
  },
  {
   "cell_type": "markdown",
   "metadata": {},
   "source": [
    "The followning code will produce the desired population table.  Sequentially remove the \\# from the beginning of each line and run the code in this cell after each removal.  \n",
    "\n",
    "### Questions\n",
    "1. What is the purpose of the gather() function?\n",
    "2. What does separate() do?\n",
    "3. Why must separate() be used before group_by() and summarise()?\n",
    "4. Verify the calculation being done by summarise() for at least one FIPS code.\n"
   ]
  },
  {
   "cell_type": "code",
   "execution_count": 7,
   "metadata": {},
   "outputs": [
    {
     "data": {
      "text/html": [
       "<table>\n",
       "<thead><tr><th scope=col>FIPS</th><th scope=col>Gender:Age</th><th scope=col>Count</th></tr></thead>\n",
       "<tbody>\n",
       "\t<tr><td>72-047       </td><td>Male:Age18_19</td><td> 526         </td></tr>\n",
       "\t<tr><td>72-095       </td><td>Male:Age18_19</td><td> 170         </td></tr>\n",
       "\t<tr><td>72-111       </td><td>Male:Age18_19</td><td> 299         </td></tr>\n",
       "\t<tr><td>72-113       </td><td>Male:Age18_19</td><td>2259         </td></tr>\n",
       "\t<tr><td>72-131       </td><td>Male:Age18_19</td><td> 533         </td></tr>\n",
       "\t<tr><td>72-135       </td><td>Male:Age18_19</td><td>1154         </td></tr>\n",
       "\t<tr><td>72-137       </td><td>Male:Age18_19</td><td>1140         </td></tr>\n",
       "\t<tr><td>72-147       </td><td>Male:Age18_19</td><td>  72         </td></tr>\n",
       "\t<tr><td>72-151       </td><td>Male:Age18_19</td><td> 486         </td></tr>\n",
       "\t<tr><td>72-003       </td><td>Male:Age18_19</td><td> 566         </td></tr>\n",
       "</tbody>\n",
       "</table>\n"
      ],
      "text/latex": [
       "\\begin{tabular}{r|lll}\n",
       " FIPS & Gender:Age & Count\\\\\n",
       "\\hline\n",
       "\t 72-047          & Male:Age18\\_19 &  526           \\\\\n",
       "\t 72-095          & Male:Age18\\_19 &  170           \\\\\n",
       "\t 72-111          & Male:Age18\\_19 &  299           \\\\\n",
       "\t 72-113          & Male:Age18\\_19 & 2259           \\\\\n",
       "\t 72-131          & Male:Age18\\_19 &  533           \\\\\n",
       "\t 72-135          & Male:Age18\\_19 & 1154           \\\\\n",
       "\t 72-137          & Male:Age18\\_19 & 1140           \\\\\n",
       "\t 72-147          & Male:Age18\\_19 &   72           \\\\\n",
       "\t 72-151          & Male:Age18\\_19 &  486           \\\\\n",
       "\t 72-003          & Male:Age18\\_19 &  566           \\\\\n",
       "\\end{tabular}\n"
      ],
      "text/markdown": [
       "\n",
       "FIPS | Gender:Age | Count | \n",
       "|---|---|---|---|---|---|---|---|---|---|\n",
       "| 72-047        | Male:Age18_19 |  526          | \n",
       "| 72-095        | Male:Age18_19 |  170          | \n",
       "| 72-111        | Male:Age18_19 |  299          | \n",
       "| 72-113        | Male:Age18_19 | 2259          | \n",
       "| 72-131        | Male:Age18_19 |  533          | \n",
       "| 72-135        | Male:Age18_19 | 1154          | \n",
       "| 72-137        | Male:Age18_19 | 1140          | \n",
       "| 72-147        | Male:Age18_19 |   72          | \n",
       "| 72-151        | Male:Age18_19 |  486          | \n",
       "| 72-003        | Male:Age18_19 |  566          | \n",
       "\n",
       "\n"
      ],
      "text/plain": [
       "   FIPS   Gender:Age    Count\n",
       "1  72-047 Male:Age18_19  526 \n",
       "2  72-095 Male:Age18_19  170 \n",
       "3  72-111 Male:Age18_19  299 \n",
       "4  72-113 Male:Age18_19 2259 \n",
       "5  72-131 Male:Age18_19  533 \n",
       "6  72-135 Male:Age18_19 1154 \n",
       "7  72-137 Male:Age18_19 1140 \n",
       "8  72-147 Male:Age18_19   72 \n",
       "9  72-151 Male:Age18_19  486 \n",
       "10 72-003 Male:Age18_19  566 "
      ]
     },
     "metadata": {},
     "output_type": "display_data"
    }
   ],
   "source": [
    "#Data Managament for Population Table\n",
    "(ACS5_Population\n",
    "  #%>% gather(key=\"Gender:Age\", value=\"Count\", 2:13)\n",
    "  #%>% separate(`Gender:Age`,c(\"Gender\",\"Age\"), sep=\":\")\n",
    "  #%>% group_by(FIPS,Gender)\n",
    "  #%>% summarise('N'=sum(Count))\n",
    "  #%>% spread(key=\"Gender\", value='N')\n",
    "  %>% head(10)\n",
    ") #-> ACS5_Population_F_and_M\n",
    "#Printing first few lines of table produced\n",
    "#head(ACS5_Population_F_and_M)"
   ]
  },
  {
   "cell_type": "markdown",
   "metadata": {},
   "source": [
    "## Working with the NoInsurance Table\n",
    "\n",
    "The following code produces the desired outcome for the NoInsurance table."
   ]
  },
  {
   "cell_type": "code",
   "execution_count": 8,
   "metadata": {},
   "outputs": [],
   "source": [
    "#Data Managament for NoInsurance Table\n",
    "(ACS5_NoInsurance\n",
    "  #%>% gather(key=\"Gender:Age\", value=\"Count\", 2:5)\n",
    "  #%>% separate(`Gender:Age`,c(\"Gender\",\"Age\"),sep=\":\")\n",
    "  #%>% group_by(FIPS,Gender)\n",
    "  #%>% summarise('N'=sum(Count))\n",
    "  #%>% spread(key=\"Gender\", value='N')\n",
    "  %>% head(10)\n",
    ") -> ACS5_NoInsurance_F_and_M\n",
    "#Printing first few lines of table produced\n",
    "#head(ACS5_NoInsurance_F_and_M)"
   ]
  },
  {
   "cell_type": "markdown",
   "metadata": {},
   "source": [
    "# JOIN: Joining the Four Tables\n",
    "\n",
    "The following tables will be joined together.  The primary key being used for the join is FIPS.\n",
    "* ACS5_Population_F_and_M\n",
    "* ACS5_NoInsurance_F_and_M\n",
    "* ACS5_Income (original data read in above)\n",
    "* ACS5_Names (original data read in above)\n",
    "\n",
    "The rename() function will be used to provide viable columns names for the new table."
   ]
  },
  {
   "cell_type": "code",
   "execution_count": 5,
   "metadata": {},
   "outputs": [],
   "source": [
    "#Join Population, NoInsurance, Income, and Names\n",
    "(ACS5_Population_F_and_M\n",
    "  %>% left_join(ACS5_NoInsurance_F_and_M,by=\"FIPS\")\n",
    "  %>% left_join(ACS5_Income,by=\"FIPS\")\n",
    "  %>% left_join(ACS5_Names,by=\"FIPS\")\n",
    "  %>% rename(\"Pop_Female\"=Female.x,\"Pop_Male\"=Male.x,\"NoIns_Female\"=Female.y,\"NoIns_Male\"=Male.y)\n",
    ") -> ACS5_Population_NoInsurance_Income\n"
   ]
  },
  {
   "cell_type": "markdown",
   "metadata": {},
   "source": [
    "# Computing the \\% No Insurance by Gender\n",
    "\n",
    "The proportion of individuals, the proportion of females, and the proportion of males that have no health insurance needs to be computed.  The mutate() function will be used to do these calculations.\n",
    "\n",
    "$NoIns\\_Percent = \\frac{NoIns\\_Female + NoIns\\_Male}{Pop\\_Female + Pop\\_Male}$\n",
    "\n",
    "$Female\\_NoIns\\_Percent = \\frac{NoIns\\_Female}{Pop\\_Female}$\n",
    "\n",
    "$Male\\_NoIns\\_Percent = \\frac{NoIns\\_Male}{Pop\\_Male}$\n",
    "\n",
    "\n",
    "\n"
   ]
  },
  {
   "cell_type": "code",
   "execution_count": 6,
   "metadata": {},
   "outputs": [],
   "source": [
    "#Compute perentage NoInsurance for Females and Males\n",
    "(ACS5_Population_NoInsurance_Income\n",
    "  %>%mutate(\"Female_NoIns_Percent\"=round(NoIns_Female/Pop_Female, 3),\"Male_NoIns_Percent\"=round(NoIns_Male/Pop_Male,3), \"NoIns_Percent\" = round(((NoIns_Female+NoIns_Male)/(Pop_Female+Pop_Male)),3))\n",
    ") -> ACS5_Population_NoInsurance_Income_Percents\n"
   ]
  },
  {
   "cell_type": "markdown",
   "metadata": {},
   "source": [
    "# Getting Top 10 Counties"
   ]
  },
  {
   "cell_type": "code",
   "execution_count": 7,
   "metadata": {},
   "outputs": [
    {
     "data": {
      "text/html": [
       "<table>\n",
       "<thead><tr><th scope=col>FIPS</th><th scope=col>NAME</th><th scope=col>NoIns_Percent</th></tr></thead>\n",
       "<tbody>\n",
       "\t<tr><td>48-261                        </td><td>Kenedy County, Texas          </td><td>0.667                         </td></tr>\n",
       "\t<tr><td>46-017                        </td><td>Buffalo County, South Dakota  </td><td>0.653                         </td></tr>\n",
       "\t<tr><td>48-327                        </td><td>Menard County, Texas          </td><td>0.628                         </td></tr>\n",
       "\t<tr><td>48-505                        </td><td>Zapata County, Texas          </td><td>0.605                         </td></tr>\n",
       "\t<tr><td>46-095                        </td><td>Mellette County, South Dakota </td><td>0.601                         </td></tr>\n",
       "\t<tr><td>02-013                        </td><td>Aleutians East Borough, Alaska</td><td>0.578                         </td></tr>\n",
       "\t<tr><td>30-035                        </td><td>Glacier County, Montana       </td><td>0.572                         </td></tr>\n",
       "\t<tr><td>41-055                        </td><td>Sherman County, Oregon        </td><td>0.567                         </td></tr>\n",
       "\t<tr><td>46-121                        </td><td>Todd County, South Dakota     </td><td>0.565                         </td></tr>\n",
       "\t<tr><td>30-003                        </td><td>Big Horn County, Montana      </td><td>0.564                         </td></tr>\n",
       "</tbody>\n",
       "</table>\n"
      ],
      "text/latex": [
       "\\begin{tabular}{r|lll}\n",
       " FIPS & NAME & NoIns\\_Percent\\\\\n",
       "\\hline\n",
       "\t 48-261                         & Kenedy County, Texas           & 0.667                         \\\\\n",
       "\t 46-017                         & Buffalo County, South Dakota   & 0.653                         \\\\\n",
       "\t 48-327                         & Menard County, Texas           & 0.628                         \\\\\n",
       "\t 48-505                         & Zapata County, Texas           & 0.605                         \\\\\n",
       "\t 46-095                         & Mellette County, South Dakota  & 0.601                         \\\\\n",
       "\t 02-013                         & Aleutians East Borough, Alaska & 0.578                         \\\\\n",
       "\t 30-035                         & Glacier County, Montana        & 0.572                         \\\\\n",
       "\t 41-055                         & Sherman County, Oregon         & 0.567                         \\\\\n",
       "\t 46-121                         & Todd County, South Dakota      & 0.565                         \\\\\n",
       "\t 30-003                         & Big Horn County, Montana       & 0.564                         \\\\\n",
       "\\end{tabular}\n"
      ],
      "text/markdown": [
       "\n",
       "FIPS | NAME | NoIns_Percent | \n",
       "|---|---|---|---|---|---|---|---|---|---|\n",
       "| 48-261                         | Kenedy County, Texas           | 0.667                          | \n",
       "| 46-017                         | Buffalo County, South Dakota   | 0.653                          | \n",
       "| 48-327                         | Menard County, Texas           | 0.628                          | \n",
       "| 48-505                         | Zapata County, Texas           | 0.605                          | \n",
       "| 46-095                         | Mellette County, South Dakota  | 0.601                          | \n",
       "| 02-013                         | Aleutians East Borough, Alaska | 0.578                          | \n",
       "| 30-035                         | Glacier County, Montana        | 0.572                          | \n",
       "| 41-055                         | Sherman County, Oregon         | 0.567                          | \n",
       "| 46-121                         | Todd County, South Dakota      | 0.565                          | \n",
       "| 30-003                         | Big Horn County, Montana       | 0.564                          | \n",
       "\n",
       "\n"
      ],
      "text/plain": [
       "   FIPS   NAME                           NoIns_Percent\n",
       "1  48-261 Kenedy County, Texas           0.667        \n",
       "2  46-017 Buffalo County, South Dakota   0.653        \n",
       "3  48-327 Menard County, Texas           0.628        \n",
       "4  48-505 Zapata County, Texas           0.605        \n",
       "5  46-095 Mellette County, South Dakota  0.601        \n",
       "6  02-013 Aleutians East Borough, Alaska 0.578        \n",
       "7  30-035 Glacier County, Montana        0.572        \n",
       "8  41-055 Sherman County, Oregon         0.567        \n",
       "9  46-121 Todd County, South Dakota      0.565        \n",
       "10 30-003 Big Horn County, Montana       0.564        "
      ]
     },
     "metadata": {},
     "output_type": "display_data"
    }
   ],
   "source": [
    "#Get top 10 list, based on invdividuals with no health insurance\n",
    "(ACS5_Population_NoInsurance_Income_Percents\n",
    "  %>%arrange(desc(NoIns_Percent))\n",
    "  %>%select(FIPS,NAME,NoIns_Percent)\n",
    "  %>%head(10)  \n",
    ") -> OutputTable_Top10\n",
    "#Print the table to the screen\n",
    "OutputTable_Top10\n"
   ]
  },
  {
   "cell_type": "markdown",
   "metadata": {},
   "source": [
    "# Getting Top 10 Counties for Females"
   ]
  },
  {
   "cell_type": "code",
   "execution_count": 8,
   "metadata": {},
   "outputs": [
    {
     "data": {
      "text/html": [
       "<table>\n",
       "<thead><tr><th scope=col>FIPS</th><th scope=col>NAME</th><th scope=col>Female_NoIns_Percent</th></tr></thead>\n",
       "<tbody>\n",
       "\t<tr><td>32-009                        </td><td>Esmeralda County, Nevada      </td><td>0.709                         </td></tr>\n",
       "\t<tr><td>46-017                        </td><td>Buffalo County, South Dakota  </td><td>0.616                         </td></tr>\n",
       "\t<tr><td>48-505                        </td><td>Zapata County, Texas          </td><td>0.594                         </td></tr>\n",
       "\t<tr><td>02-013                        </td><td>Aleutians East Borough, Alaska</td><td>0.553                         </td></tr>\n",
       "\t<tr><td>48-383                        </td><td>Reagan County, Texas          </td><td>0.549                         </td></tr>\n",
       "\t<tr><td>48-191                        </td><td>Hall County, Texas            </td><td>0.548                         </td></tr>\n",
       "\t<tr><td>13-309                        </td><td>Wheeler County, Georgia       </td><td>0.545                         </td></tr>\n",
       "\t<tr><td>30-035                        </td><td>Glacier County, Montana       </td><td>0.545                         </td></tr>\n",
       "\t<tr><td>48-385                        </td><td>Real County, Texas            </td><td>0.534                         </td></tr>\n",
       "\t<tr><td>48-083                        </td><td>Coleman County, Texas         </td><td>0.528                         </td></tr>\n",
       "</tbody>\n",
       "</table>\n"
      ],
      "text/latex": [
       "\\begin{tabular}{r|lll}\n",
       " FIPS & NAME & Female\\_NoIns\\_Percent\\\\\n",
       "\\hline\n",
       "\t 32-009                         & Esmeralda County, Nevada       & 0.709                         \\\\\n",
       "\t 46-017                         & Buffalo County, South Dakota   & 0.616                         \\\\\n",
       "\t 48-505                         & Zapata County, Texas           & 0.594                         \\\\\n",
       "\t 02-013                         & Aleutians East Borough, Alaska & 0.553                         \\\\\n",
       "\t 48-383                         & Reagan County, Texas           & 0.549                         \\\\\n",
       "\t 48-191                         & Hall County, Texas             & 0.548                         \\\\\n",
       "\t 13-309                         & Wheeler County, Georgia        & 0.545                         \\\\\n",
       "\t 30-035                         & Glacier County, Montana        & 0.545                         \\\\\n",
       "\t 48-385                         & Real County, Texas             & 0.534                         \\\\\n",
       "\t 48-083                         & Coleman County, Texas          & 0.528                         \\\\\n",
       "\\end{tabular}\n"
      ],
      "text/markdown": [
       "\n",
       "FIPS | NAME | Female_NoIns_Percent | \n",
       "|---|---|---|---|---|---|---|---|---|---|\n",
       "| 32-009                         | Esmeralda County, Nevada       | 0.709                          | \n",
       "| 46-017                         | Buffalo County, South Dakota   | 0.616                          | \n",
       "| 48-505                         | Zapata County, Texas           | 0.594                          | \n",
       "| 02-013                         | Aleutians East Borough, Alaska | 0.553                          | \n",
       "| 48-383                         | Reagan County, Texas           | 0.549                          | \n",
       "| 48-191                         | Hall County, Texas             | 0.548                          | \n",
       "| 13-309                         | Wheeler County, Georgia        | 0.545                          | \n",
       "| 30-035                         | Glacier County, Montana        | 0.545                          | \n",
       "| 48-385                         | Real County, Texas             | 0.534                          | \n",
       "| 48-083                         | Coleman County, Texas          | 0.528                          | \n",
       "\n",
       "\n"
      ],
      "text/plain": [
       "   FIPS   NAME                           Female_NoIns_Percent\n",
       "1  32-009 Esmeralda County, Nevada       0.709               \n",
       "2  46-017 Buffalo County, South Dakota   0.616               \n",
       "3  48-505 Zapata County, Texas           0.594               \n",
       "4  02-013 Aleutians East Borough, Alaska 0.553               \n",
       "5  48-383 Reagan County, Texas           0.549               \n",
       "6  48-191 Hall County, Texas             0.548               \n",
       "7  13-309 Wheeler County, Georgia        0.545               \n",
       "8  30-035 Glacier County, Montana        0.545               \n",
       "9  48-385 Real County, Texas             0.534               \n",
       "10 48-083 Coleman County, Texas          0.528               "
      ]
     },
     "metadata": {},
     "output_type": "display_data"
    }
   ],
   "source": [
    "#Get top 25 list, based on Female NoInsurance\n",
    "(ACS5_Population_NoInsurance_Income_Percents\n",
    "  %>%arrange(desc(Female_NoIns_Percent))\n",
    "  %>%select(FIPS,NAME,Female_NoIns_Percent)\n",
    "  %>%head(10)\n",
    ") -> OutputTable_Top10_Females\n",
    "#Print the table to the screen\n",
    "OutputTable_Top10_Females"
   ]
  },
  {
   "cell_type": "markdown",
   "metadata": {},
   "source": [
    "# Getting Top 10 Counties for Males"
   ]
  },
  {
   "cell_type": "code",
   "execution_count": 9,
   "metadata": {},
   "outputs": [
    {
     "data": {
      "text/html": [
       "<table>\n",
       "<thead><tr><th scope=col>FIPS</th><th scope=col>NAME</th><th scope=col>Male_NoIns_Percent</th></tr></thead>\n",
       "<tbody>\n",
       "\t<tr><td>48-261                            </td><td>Kenedy County, Texas              </td><td>0.895                             </td></tr>\n",
       "\t<tr><td>48-269                            </td><td>King County, Texas                </td><td>0.736                             </td></tr>\n",
       "\t<tr><td>48-327                            </td><td>Menard County, Texas              </td><td>0.725                             </td></tr>\n",
       "\t<tr><td>46-095                            </td><td>Mellette County, South Dakota     </td><td>0.722                             </td></tr>\n",
       "\t<tr><td>46-017                            </td><td>Buffalo County, South Dakota      </td><td>0.693                             </td></tr>\n",
       "\t<tr><td>46-102                            </td><td>Oglala Lakota County, South Dakota</td><td>0.681                             </td></tr>\n",
       "\t<tr><td>46-121                            </td><td>Todd County, South Dakota         </td><td>0.664                             </td></tr>\n",
       "\t<tr><td>13-061                            </td><td>Clay County, Georgia              </td><td>0.652                             </td></tr>\n",
       "\t<tr><td>46-041                            </td><td>Dewey County, South Dakota        </td><td>0.652                             </td></tr>\n",
       "\t<tr><td>41-055                            </td><td>Sherman County, Oregon            </td><td>0.643                             </td></tr>\n",
       "</tbody>\n",
       "</table>\n"
      ],
      "text/latex": [
       "\\begin{tabular}{r|lll}\n",
       " FIPS & NAME & Male\\_NoIns\\_Percent\\\\\n",
       "\\hline\n",
       "\t 48-261                             & Kenedy County, Texas               & 0.895                             \\\\\n",
       "\t 48-269                             & King County, Texas                 & 0.736                             \\\\\n",
       "\t 48-327                             & Menard County, Texas               & 0.725                             \\\\\n",
       "\t 46-095                             & Mellette County, South Dakota      & 0.722                             \\\\\n",
       "\t 46-017                             & Buffalo County, South Dakota       & 0.693                             \\\\\n",
       "\t 46-102                             & Oglala Lakota County, South Dakota & 0.681                             \\\\\n",
       "\t 46-121                             & Todd County, South Dakota          & 0.664                             \\\\\n",
       "\t 13-061                             & Clay County, Georgia               & 0.652                             \\\\\n",
       "\t 46-041                             & Dewey County, South Dakota         & 0.652                             \\\\\n",
       "\t 41-055                             & Sherman County, Oregon             & 0.643                             \\\\\n",
       "\\end{tabular}\n"
      ],
      "text/markdown": [
       "\n",
       "FIPS | NAME | Male_NoIns_Percent | \n",
       "|---|---|---|---|---|---|---|---|---|---|\n",
       "| 48-261                             | Kenedy County, Texas               | 0.895                              | \n",
       "| 48-269                             | King County, Texas                 | 0.736                              | \n",
       "| 48-327                             | Menard County, Texas               | 0.725                              | \n",
       "| 46-095                             | Mellette County, South Dakota      | 0.722                              | \n",
       "| 46-017                             | Buffalo County, South Dakota       | 0.693                              | \n",
       "| 46-102                             | Oglala Lakota County, South Dakota | 0.681                              | \n",
       "| 46-121                             | Todd County, South Dakota          | 0.664                              | \n",
       "| 13-061                             | Clay County, Georgia               | 0.652                              | \n",
       "| 46-041                             | Dewey County, South Dakota         | 0.652                              | \n",
       "| 41-055                             | Sherman County, Oregon             | 0.643                              | \n",
       "\n",
       "\n"
      ],
      "text/plain": [
       "   FIPS   NAME                               Male_NoIns_Percent\n",
       "1  48-261 Kenedy County, Texas               0.895             \n",
       "2  48-269 King County, Texas                 0.736             \n",
       "3  48-327 Menard County, Texas               0.725             \n",
       "4  46-095 Mellette County, South Dakota      0.722             \n",
       "5  46-017 Buffalo County, South Dakota       0.693             \n",
       "6  46-102 Oglala Lakota County, South Dakota 0.681             \n",
       "7  46-121 Todd County, South Dakota          0.664             \n",
       "8  13-061 Clay County, Georgia               0.652             \n",
       "9  46-041 Dewey County, South Dakota         0.652             \n",
       "10 41-055 Sherman County, Oregon             0.643             "
      ]
     },
     "metadata": {},
     "output_type": "display_data"
    }
   ],
   "source": [
    "#Get top 25 list, based on Female NoInsurance\n",
    "(ACS5_Population_NoInsurance_Income_Percents\n",
    "  %>%arrange(desc(Male_NoIns_Percent))\n",
    "  %>%select(FIPS,NAME,Male_NoIns_Percent)\n",
    "  %>%head(10)\n",
    ") -> OutputTable_Top10_Males\n",
    "#Print the table to the screen\n",
    "OutputTable_Top10_Males"
   ]
  },
  {
   "attachments": {},
   "cell_type": "markdown",
   "metadata": {},
   "source": [
    "## Questions\n",
    "1. How much overlap is there between the Top 10 list for Females and Males?  Briefly discuss.\n",
    "2. Some counties may suffer from small population counts.  Apply a reasonable filter to the code above to exclude such counties from their respective Top 10 lists.\n",
    "3. Suppose a Top 100 list was obtained instead of a Top 10 list.  Which state has the most counties in this Top 100 list?\n",
    "\n",
    "<img src=\"./data/Top10_Image.JPG\">"
   ]
  },
  {
   "cell_type": "code",
   "execution_count": null,
   "metadata": {},
   "outputs": [],
   "source": []
  }
 ],
 "metadata": {
  "kernelspec": {
   "display_name": "R",
   "language": "R",
   "name": "ir"
  },
  "language_info": {
   "codemirror_mode": "r",
   "file_extension": ".r",
   "mimetype": "text/x-r-source",
   "name": "R",
   "pygments_lexer": "r",
   "version": "3.5.1"
  }
 },
 "nbformat": 4,
 "nbformat_minor": 2
}
