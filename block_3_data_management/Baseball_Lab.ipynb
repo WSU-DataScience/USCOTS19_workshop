{
 "cells": [
  {
   "cell_type": "code",
   "execution_count": 1,
   "metadata": {},
   "outputs": [],
   "source": [
    "%load_ext pyensae"
   ]
  },
  {
   "cell_type": "code",
   "execution_count": 4,
   "metadata": {},
   "outputs": [
    {
     "data": {
      "text/plain": [
       "<pyensae.sql.sql_interface_database.InterfaceSQLDatabase at 0x26654551470>"
      ]
     },
     "execution_count": 4,
     "metadata": {},
     "output_type": "execute_result"
    }
   ],
   "source": [
    "%SQL_connect ./databases/baseball_full.db"
   ]
  },
  {
   "cell_type": "markdown",
   "metadata": {},
   "source": [
    "### **Question 1, Part a**\n",
    "Calculating the ERAs considered OK for Minnesota Twins and Milwauke Brewers Players.\n",
    "\n",
    "**dplyr code**\n",
    "\n",
    "```\n",
    "Pitching\n",
    "    %>% select(playerID, teamID, ER, IPouts)\n",
    "    %>% filter((teamID == \"MIL\" | teamID == \"MIN\") & YearID == '2000)\n",
    "    %>% mutate(Calc_Era = (ER/(Ipouts/3))*9\n",
    "    %>% filter(Calc_ERA < 4)\n",
    "    %>% select(playerID, teamID, Calc_ERA)```"
   ]
  },
  {
   "cell_type": "code",
   "execution_count": null,
   "metadata": {},
   "outputs": [],
   "source": [
    "%%SQL\n"
   ]
  },
  {
   "cell_type": "markdown",
   "metadata": {},
   "source": [
    "### Question 1, Part b\n",
    "\n",
    "Calculating the ERA for the Minnesota Twins and Milwauke Brewers for the years 2000, 2005, 2010, and 2015.\n",
    "\n",
    "**dplyr code**\n",
    "\n",
    "```\n",
    "  Teams\n",
    "    %>% select(teamID, yearID, ER, IPouts)\n",
    "    %>% filter((teamID == \"MIL\" | teamID == \"MIN) & (yearID %in% ('2000', '2005', '2010', '2015)))\n",
    "    %>% mutate(Calc_ERA = (ER/(IPouts/3))*9)\n",
    "    %>% select(yearID, teamID, Calc_ERA)\n",
    "    %>% arrange(yearID, teamID)```"
   ]
  },
  {
   "cell_type": "code",
   "execution_count": null,
   "metadata": {},
   "outputs": [],
   "source": [
    "%%SQL\n"
   ]
  },
  {
   "cell_type": "markdown",
   "metadata": {},
   "source": [
    "### Question 2, Part a\n",
    "\n",
    "Finding the average salary by team for 2006 and 2012.  \n",
    "\n",
    "**dplyr code**\n",
    "\n",
    "\n",
    "```\n",
    "(Franchises\n",
    "    %>% select(franchID, franchName)\n",
    "  ) -> Franch\n",
    "  \n",
    "  (Teams\n",
    "      %>% select(yearID, teamID, franchID)\n",
    "      %>% left_join(Franch, by = \"franchID\")\n",
    "      %>% select(teamID, franchName)\n",
    "  )-> Teams_Franch\n",
    "  \n",
    "  Salaries\n",
    "      %>% select(yearID, teamID, salary)\n",
    "      %>% filter(yearID %in% ('2006', '2012')\n",
    "      %>% inner_join(Teams_Franch, by = \"teamID\")\n",
    "      %>% group_by(franchName, teamID, yearID)\n",
    "      %>% summarize(Avg_Salary = mean(salary))```"
   ]
  },
  {
   "cell_type": "code",
   "execution_count": null,
   "metadata": {},
   "outputs": [],
   "source": [
    "%%SQL\n"
   ]
  },
  {
   "cell_type": "markdown",
   "metadata": {},
   "source": [
    "### Question 2, Part b\n",
    "\n",
    "Find the team with the largest salary overall, regardless of year.\n",
    "\n",
    "**dplyr code**\n",
    "\n",
    "```\n",
    " Salaries\n",
    "    %>% select(yearID, teamID, salary)\n",
    "    %>% inner_join(Teams_Franch, by = \"teamID\")\n",
    "    %>% group_by(franchName, teamID, yearID)\n",
    "    %>% summarize(Avg_Salary = mean(salary))\n",
    "    arrange(desc(Avg_Salary))```"
   ]
  },
  {
   "cell_type": "code",
   "execution_count": null,
   "metadata": {},
   "outputs": [],
   "source": [
    "%%SQL\n"
   ]
  },
  {
   "cell_type": "markdown",
   "metadata": {},
   "source": [
    "### Question 3\n",
    "\n",
    "Get a list of the players' names for the Detriot Tigers that have been born since 1980.\n",
    "\n",
    "**dplyr code**\n",
    "\n",
    "```\n",
    "(Batting\n",
    "    %>% select(teamID, playerID)\n",
    "    %>% distinct(teamID, playerID)\n",
    "    %>% filter(teamID == \"DET\")\n",
    "  ) -> Batting2\n",
    "  \n",
    "  People\n",
    "      %>% select(nameFirst, nameLast, playerID, birthYear)\n",
    "      %>% filter(birthYear >= \"1980\")\n",
    "      %>% left_join(Batting2, by = \"playerID\")\n",
    "      %>% filter(teamID != \"<NA>\")\n",
    "      %>% arrange(desc(nameLast))\n",
    "      %>% transmute(TeamID = teamID, Player_Name = paste(namefirst, nameLast, sep = \" \"))```"
   ]
  },
  {
   "cell_type": "code",
   "execution_count": null,
   "metadata": {},
   "outputs": [],
   "source": [
    "%%SQL\n"
   ]
  },
  {
   "cell_type": "markdown",
   "metadata": {},
   "source": [
    "### Question 4\n",
    "\n",
    "Calculating OPS for each player since 2010.\n",
    "\n",
    "**dplyr code**\n",
    "\n",
    "```\n",
    " Batting\n",
    "    %>% filter(yearID >= \"2010\" & HBP != \"NA\" & SH != \"NA\")\n",
    "    %>% transmute(ID = playerID, OBP = ((H + BB + HBP)/(AB + BB + SH + HBP)), SLG = ((H + 2*X2B + 3*X3B + 4*HR)/AB))\n",
    "    %>% transmute(ID = ID, OBP = OBP, SLG = SLG, OPS = OBP + SLG)\n",
    "    %>% filter(OPS != \"NaN\" & OPS != \"0\")```"
   ]
  },
  {
   "cell_type": "code",
   "execution_count": null,
   "metadata": {},
   "outputs": [],
   "source": [
    "%%SQL\n"
   ]
  },
  {
   "cell_type": "markdown",
   "metadata": {},
   "source": [
    "### Question 5\n",
    "\n",
    "Find the number of players from each college or university for 2009.\n",
    "\n",
    "**dplyr code**\n",
    "\n",
    "```\n",
    "(CollegePlaying\n",
    "    %>% select(schooID, yearID)\n",
    "    %>% filter(yearID == '2009)\n",
    "    %>% group_by(schoolID)\n",
    "    %>% summarize(Num_Play = n())\n",
    "  ) -> College\n",
    "  \n",
    "  Schools\n",
    "      %>% select(name_full, schoolID)\n",
    "      %>% left_join(College, by = \"schoolID\")\n",
    "      %>% arrange(desc(Num_Play))\n",
    "      %>% select(name_full, Num_Play)```"
   ]
  },
  {
   "cell_type": "code",
   "execution_count": null,
   "metadata": {},
   "outputs": [],
   "source": [
    "%%SQL\n"
   ]
  }
 ],
 "metadata": {
  "kernelspec": {
   "display_name": "Python 3",
   "language": "python",
   "name": "python3"
  },
  "language_info": {
   "codemirror_mode": {
    "name": "ipython",
    "version": 3
   },
   "file_extension": ".py",
   "mimetype": "text/x-python",
   "name": "python",
   "nbconvert_exporter": "python",
   "pygments_lexer": "ipython3",
   "version": "3.7.3"
  }
 },
 "nbformat": 4,
 "nbformat_minor": 2
}
