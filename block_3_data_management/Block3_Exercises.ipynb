{
 "cells": [
  {
   "cell_type": "code",
   "execution_count": 1,
   "metadata": {},
   "outputs": [
    {
     "name": "stdout",
     "output_type": "stream",
     "text": [
      "Requirement already satisfied: pyensae in /Users/bn8210wy/.pyenv/versions/anaconda3-5.3.0/lib/python3.7/site-packages (1.2.788)\n",
      "Requirement already satisfied: pyquickhelper>=1.5.2259 in /Users/bn8210wy/.pyenv/versions/anaconda3-5.3.0/lib/python3.7/site-packages (from pyensae) (1.9.3100)\n",
      "Requirement already satisfied: entrypoints in /Users/bn8210wy/.pyenv/versions/anaconda3-5.3.0/lib/python3.7/site-packages (from pyquickhelper>=1.5.2259->pyensae) (0.2.3)\n",
      "Requirement already satisfied: autopep8 in /Users/bn8210wy/.pyenv/versions/anaconda3-5.3.0/lib/python3.7/site-packages (from pyquickhelper>=1.5.2259->pyensae) (1.4.3)\n",
      "Requirement already satisfied: semantic-version in /Users/bn8210wy/.pyenv/versions/anaconda3-5.3.0/lib/python3.7/site-packages (from pyquickhelper>=1.5.2259->pyensae) (2.6.0)\n",
      "Requirement already satisfied: jupyter in /Users/bn8210wy/.pyenv/versions/anaconda3-5.3.0/lib/python3.7/site-packages (from pyquickhelper>=1.5.2259->pyensae) (1.0.0)\n",
      "Requirement already satisfied: sphinx-gallery in /Users/bn8210wy/.pyenv/versions/anaconda3-5.3.0/lib/python3.7/site-packages (from pyquickhelper>=1.5.2259->pyensae) (0.3.1)\n",
      "Requirement already satisfied: matplotlib in /Users/bn8210wy/.pyenv/versions/anaconda3-5.3.0/lib/python3.7/site-packages (from pyquickhelper>=1.5.2259->pyensae) (2.2.3)\n",
      "Requirement already satisfied: docformatter in /Users/bn8210wy/.pyenv/versions/anaconda3-5.3.0/lib/python3.7/site-packages (from pyquickhelper>=1.5.2259->pyensae) (1.1)\n",
      "Requirement already satisfied: coverage in /Users/bn8210wy/.pyenv/versions/anaconda3-5.3.0/lib/python3.7/site-packages (from pyquickhelper>=1.5.2259->pyensae) (4.5.3)\n",
      "Requirement already satisfied: pandas>=0.20.0 in /Users/bn8210wy/.pyenv/versions/anaconda3-5.3.0/lib/python3.7/site-packages (from pyquickhelper>=1.5.2259->pyensae) (0.24.1)\n",
      "Requirement already satisfied: babel!=2.0 in /Users/bn8210wy/.pyenv/versions/anaconda3-5.3.0/lib/python3.7/site-packages (from pyquickhelper>=1.5.2259->pyensae) (2.6.0)\n",
      "Requirement already satisfied: multi-key-dict in /Users/bn8210wy/.pyenv/versions/anaconda3-5.3.0/lib/python3.7/site-packages (from pyquickhelper>=1.5.2259->pyensae) (2.0.3)\n",
      "Requirement already satisfied: pycodestyle>=2.0.0 in /Users/bn8210wy/.pyenv/versions/anaconda3-5.3.0/lib/python3.7/site-packages (from pyquickhelper>=1.5.2259->pyensae) (2.4.0)\n",
      "Requirement already satisfied: metakernel in /Users/bn8210wy/.pyenv/versions/anaconda3-5.3.0/lib/python3.7/site-packages (from pyquickhelper>=1.5.2259->pyensae) (0.20.14)\n",
      "Requirement already satisfied: nbpresent in /Users/bn8210wy/.pyenv/versions/anaconda3-5.3.0/lib/python3.7/site-packages (from pyquickhelper>=1.5.2259->pyensae) (3.0.0)\n",
      "Requirement already satisfied: pylint in /Users/bn8210wy/.pyenv/versions/anaconda3-5.3.0/lib/python3.7/site-packages (from pyquickhelper>=1.5.2259->pyensae) (2.1.1)\n",
      "Requirement already satisfied: pydocstyle in /Users/bn8210wy/.pyenv/versions/anaconda3-5.3.0/lib/python3.7/site-packages (from pyquickhelper>=1.5.2259->pyensae) (3.0.0)\n",
      "Requirement already satisfied: sphinxcontrib-imagesvg in /Users/bn8210wy/.pyenv/versions/anaconda3-5.3.0/lib/python3.7/site-packages (from pyquickhelper>=1.5.2259->pyensae) (0.1)\n",
      "Requirement already satisfied: numpy>=1.11.1 in /Users/bn8210wy/.pyenv/versions/anaconda3-5.3.0/lib/python3.7/site-packages (from pyquickhelper>=1.5.2259->pyensae) (1.15.1)\n",
      "Requirement already satisfied: unify in /Users/bn8210wy/.pyenv/versions/anaconda3-5.3.0/lib/python3.7/site-packages (from pyquickhelper>=1.5.2259->pyensae) (0.4)\n",
      "Requirement already satisfied: simplegeneric in /Users/bn8210wy/.pyenv/versions/anaconda3-5.3.0/lib/python3.7/site-packages (from pyquickhelper>=1.5.2259->pyensae) (0.8.1)\n",
      "Requirement already satisfied: docutils in /Users/bn8210wy/.pyenv/versions/anaconda3-5.3.0/lib/python3.7/site-packages (from pyquickhelper>=1.5.2259->pyensae) (0.14)\n",
      "Requirement already satisfied: IPython>=5.0.0 in /Users/bn8210wy/.pyenv/versions/anaconda3-5.3.0/lib/python3.7/site-packages (from pyquickhelper>=1.5.2259->pyensae) (6.5.0)\n",
      "Requirement already satisfied: notebook>=4.2.0 in /Users/bn8210wy/.pyenv/versions/anaconda3-5.3.0/lib/python3.7/site-packages (from pyquickhelper>=1.5.2259->pyensae) (5.6.0)\n",
      "Requirement already satisfied: nbformat in /Users/bn8210wy/.pyenv/versions/anaconda3-5.3.0/lib/python3.7/site-packages (from pyquickhelper>=1.5.2259->pyensae) (4.4.0)\n",
      "Requirement already satisfied: nbconvert in /Users/bn8210wy/.pyenv/versions/anaconda3-5.3.0/lib/python3.7/site-packages (from pyquickhelper>=1.5.2259->pyensae) (5.4.0)\n",
      "Requirement already satisfied: jupyter-core in /Users/bn8210wy/.pyenv/versions/anaconda3-5.3.0/lib/python3.7/site-packages (from pyquickhelper>=1.5.2259->pyensae) (4.4.0)\n",
      "Requirement already satisfied: jyquickhelper in /Users/bn8210wy/.pyenv/versions/anaconda3-5.3.0/lib/python3.7/site-packages (from pyquickhelper>=1.5.2259->pyensae) (0.3.128)\n",
      "Requirement already satisfied: jupyter-sphinx in /Users/bn8210wy/.pyenv/versions/anaconda3-5.3.0/lib/python3.7/site-packages (from pyquickhelper>=1.5.2259->pyensae) (0.1.4)\n",
      "Requirement already satisfied: jupyter-client in /Users/bn8210wy/.pyenv/versions/anaconda3-5.3.0/lib/python3.7/site-packages (from pyquickhelper>=1.5.2259->pyensae) (5.2.3)\n",
      "Requirement already satisfied: sphinx>=1.8 in /Users/bn8210wy/.pyenv/versions/anaconda3-5.3.0/lib/python3.7/site-packages (from pyquickhelper>=1.5.2259->pyensae) (2.0.1)\n",
      "Requirement already satisfied: tqdm in /Users/bn8210wy/.pyenv/versions/anaconda3-5.3.0/lib/python3.7/site-packages (from pyquickhelper>=1.5.2259->pyensae) (4.26.0)\n",
      "Requirement already satisfied: qtconsole in /Users/bn8210wy/.pyenv/versions/anaconda3-5.3.0/lib/python3.7/site-packages (from jupyter->pyquickhelper>=1.5.2259->pyensae) (4.4.1)\n",
      "Requirement already satisfied: ipykernel in /Users/bn8210wy/.pyenv/versions/anaconda3-5.3.0/lib/python3.7/site-packages (from jupyter->pyquickhelper>=1.5.2259->pyensae) (4.9.0)\n",
      "Requirement already satisfied: ipywidgets in /Users/bn8210wy/.pyenv/versions/anaconda3-5.3.0/lib/python3.7/site-packages (from jupyter->pyquickhelper>=1.5.2259->pyensae) (7.4.1)\n",
      "Requirement already satisfied: jupyter-console in /Users/bn8210wy/.pyenv/versions/anaconda3-5.3.0/lib/python3.7/site-packages (from jupyter->pyquickhelper>=1.5.2259->pyensae) (5.2.0)\n",
      "Requirement already satisfied: setuptools in /Users/bn8210wy/.pyenv/versions/anaconda3-5.3.0/lib/python3.7/site-packages (from sphinx-gallery->pyquickhelper>=1.5.2259->pyensae) (40.2.0)\n",
      "Requirement already satisfied: pillow in /Users/bn8210wy/.pyenv/versions/anaconda3-5.3.0/lib/python3.7/site-packages (from sphinx-gallery->pyquickhelper>=1.5.2259->pyensae) (5.2.0)\n",
      "Requirement already satisfied: cycler>=0.10 in /Users/bn8210wy/.pyenv/versions/anaconda3-5.3.0/lib/python3.7/site-packages (from matplotlib->pyquickhelper>=1.5.2259->pyensae) (0.10.0)\n",
      "Requirement already satisfied: pyparsing!=2.0.4,!=2.1.2,!=2.1.6,>=2.0.1 in /Users/bn8210wy/.pyenv/versions/anaconda3-5.3.0/lib/python3.7/site-packages (from matplotlib->pyquickhelper>=1.5.2259->pyensae) (2.2.0)\n",
      "Requirement already satisfied: python-dateutil>=2.1 in /Users/bn8210wy/.pyenv/versions/anaconda3-5.3.0/lib/python3.7/site-packages (from matplotlib->pyquickhelper>=1.5.2259->pyensae) (2.7.3)\n",
      "Requirement already satisfied: pytz in /Users/bn8210wy/.pyenv/versions/anaconda3-5.3.0/lib/python3.7/site-packages (from matplotlib->pyquickhelper>=1.5.2259->pyensae) (2018.5)\n",
      "Requirement already satisfied: six>=1.10 in /Users/bn8210wy/.pyenv/versions/anaconda3-5.3.0/lib/python3.7/site-packages (from matplotlib->pyquickhelper>=1.5.2259->pyensae) (1.11.0)\n",
      "Requirement already satisfied: kiwisolver>=1.0.1 in /Users/bn8210wy/.pyenv/versions/anaconda3-5.3.0/lib/python3.7/site-packages (from matplotlib->pyquickhelper>=1.5.2259->pyensae) (1.0.1)\n",
      "Requirement already satisfied: untokenize in /Users/bn8210wy/.pyenv/versions/anaconda3-5.3.0/lib/python3.7/site-packages (from docformatter->pyquickhelper>=1.5.2259->pyensae) (0.1.1)\n",
      "Requirement already satisfied: pexpect>=4.2 in /Users/bn8210wy/.pyenv/versions/anaconda3-5.3.0/lib/python3.7/site-packages (from metakernel->pyquickhelper>=1.5.2259->pyensae) (4.6.0)\n",
      "Requirement already satisfied: astroid>=2.0.0 in /Users/bn8210wy/.pyenv/versions/anaconda3-5.3.0/lib/python3.7/site-packages (from pylint->pyquickhelper>=1.5.2259->pyensae) (2.0.4)\n",
      "Requirement already satisfied: isort>=4.2.5 in /Users/bn8210wy/.pyenv/versions/anaconda3-5.3.0/lib/python3.7/site-packages (from pylint->pyquickhelper>=1.5.2259->pyensae) (4.3.4)\n",
      "Requirement already satisfied: mccabe in /Users/bn8210wy/.pyenv/versions/anaconda3-5.3.0/lib/python3.7/site-packages (from pylint->pyquickhelper>=1.5.2259->pyensae) (0.6.1)\n",
      "Requirement already satisfied: snowballstemmer in /Users/bn8210wy/.pyenv/versions/anaconda3-5.3.0/lib/python3.7/site-packages (from pydocstyle->pyquickhelper>=1.5.2259->pyensae) (1.2.1)\n",
      "Requirement already satisfied: decorator in /Users/bn8210wy/.pyenv/versions/anaconda3-5.3.0/lib/python3.7/site-packages (from IPython>=5.0.0->pyquickhelper>=1.5.2259->pyensae) (4.3.0)\n",
      "Requirement already satisfied: jedi>=0.10 in /Users/bn8210wy/.pyenv/versions/anaconda3-5.3.0/lib/python3.7/site-packages (from IPython>=5.0.0->pyquickhelper>=1.5.2259->pyensae) (0.12.1)\n"
     ]
    },
    {
     "name": "stdout",
     "output_type": "stream",
     "text": [
      "Requirement already satisfied: pygments in /Users/bn8210wy/.pyenv/versions/anaconda3-5.3.0/lib/python3.7/site-packages (from IPython>=5.0.0->pyquickhelper>=1.5.2259->pyensae) (2.2.0)\n",
      "Requirement already satisfied: traitlets>=4.2 in /Users/bn8210wy/.pyenv/versions/anaconda3-5.3.0/lib/python3.7/site-packages (from IPython>=5.0.0->pyquickhelper>=1.5.2259->pyensae) (4.3.2)\n",
      "Requirement already satisfied: prompt-toolkit<2.0.0,>=1.0.15 in /Users/bn8210wy/.pyenv/versions/anaconda3-5.3.0/lib/python3.7/site-packages (from IPython>=5.0.0->pyquickhelper>=1.5.2259->pyensae) (1.0.15)\n",
      "Requirement already satisfied: backcall in /Users/bn8210wy/.pyenv/versions/anaconda3-5.3.0/lib/python3.7/site-packages (from IPython>=5.0.0->pyquickhelper>=1.5.2259->pyensae) (0.1.0)\n",
      "Requirement already satisfied: pickleshare in /Users/bn8210wy/.pyenv/versions/anaconda3-5.3.0/lib/python3.7/site-packages (from IPython>=5.0.0->pyquickhelper>=1.5.2259->pyensae) (0.7.4)\n",
      "Requirement already satisfied: appnope; sys_platform == \"darwin\" in /Users/bn8210wy/.pyenv/versions/anaconda3-5.3.0/lib/python3.7/site-packages (from IPython>=5.0.0->pyquickhelper>=1.5.2259->pyensae) (0.1.0)\n",
      "Requirement already satisfied: terminado>=0.8.1 in /Users/bn8210wy/.pyenv/versions/anaconda3-5.3.0/lib/python3.7/site-packages (from notebook>=4.2.0->pyquickhelper>=1.5.2259->pyensae) (0.8.1)\n",
      "Requirement already satisfied: prometheus-client in /Users/bn8210wy/.pyenv/versions/anaconda3-5.3.0/lib/python3.7/site-packages (from notebook>=4.2.0->pyquickhelper>=1.5.2259->pyensae) (0.3.1)\n",
      "Requirement already satisfied: pyzmq>=17 in /Users/bn8210wy/.pyenv/versions/anaconda3-5.3.0/lib/python3.7/site-packages (from notebook>=4.2.0->pyquickhelper>=1.5.2259->pyensae) (17.1.2)\n",
      "Requirement already satisfied: tornado>=4 in /Users/bn8210wy/.pyenv/versions/anaconda3-5.3.0/lib/python3.7/site-packages (from notebook>=4.2.0->pyquickhelper>=1.5.2259->pyensae) (5.1)\n",
      "Requirement already satisfied: Send2Trash in /Users/bn8210wy/.pyenv/versions/anaconda3-5.3.0/lib/python3.7/site-packages (from notebook>=4.2.0->pyquickhelper>=1.5.2259->pyensae) (1.5.0)\n",
      "Requirement already satisfied: ipython-genutils in /Users/bn8210wy/.pyenv/versions/anaconda3-5.3.0/lib/python3.7/site-packages (from notebook>=4.2.0->pyquickhelper>=1.5.2259->pyensae) (0.2.0)\n",
      "Requirement already satisfied: jinja2 in /Users/bn8210wy/.pyenv/versions/anaconda3-5.3.0/lib/python3.7/site-packages (from notebook>=4.2.0->pyquickhelper>=1.5.2259->pyensae) (2.10)\n",
      "Requirement already satisfied: jsonschema!=2.5.0,>=2.4 in /Users/bn8210wy/.pyenv/versions/anaconda3-5.3.0/lib/python3.7/site-packages (from nbformat->pyquickhelper>=1.5.2259->pyensae) (2.6.0)\n",
      "Requirement already satisfied: mistune>=0.8.1 in /Users/bn8210wy/.pyenv/versions/anaconda3-5.3.0/lib/python3.7/site-packages (from nbconvert->pyquickhelper>=1.5.2259->pyensae) (0.8.3)\n",
      "Requirement already satisfied: bleach in /Users/bn8210wy/.pyenv/versions/anaconda3-5.3.0/lib/python3.7/site-packages (from nbconvert->pyquickhelper>=1.5.2259->pyensae) (2.1.4)\n",
      "Requirement already satisfied: pandocfilters>=1.4.1 in /Users/bn8210wy/.pyenv/versions/anaconda3-5.3.0/lib/python3.7/site-packages (from nbconvert->pyquickhelper>=1.5.2259->pyensae) (1.4.2)\n",
      "Requirement already satisfied: testpath in /Users/bn8210wy/.pyenv/versions/anaconda3-5.3.0/lib/python3.7/site-packages (from nbconvert->pyquickhelper>=1.5.2259->pyensae) (0.3.1)\n",
      "Requirement already satisfied: defusedxml in /Users/bn8210wy/.pyenv/versions/anaconda3-5.3.0/lib/python3.7/site-packages (from nbconvert->pyquickhelper>=1.5.2259->pyensae) (0.5.0)\n",
      "Requirement already satisfied: sphinxcontrib-applehelp in /Users/bn8210wy/.pyenv/versions/anaconda3-5.3.0/lib/python3.7/site-packages (from sphinx>=1.8->pyquickhelper>=1.5.2259->pyensae) (1.0.1)\n",
      "Requirement already satisfied: imagesize in /Users/bn8210wy/.pyenv/versions/anaconda3-5.3.0/lib/python3.7/site-packages (from sphinx>=1.8->pyquickhelper>=1.5.2259->pyensae) (1.1.0)\n",
      "Requirement already satisfied: packaging in /Users/bn8210wy/.pyenv/versions/anaconda3-5.3.0/lib/python3.7/site-packages (from sphinx>=1.8->pyquickhelper>=1.5.2259->pyensae) (17.1)\n",
      "Requirement already satisfied: requests>=2.5.0 in /Users/bn8210wy/.pyenv/versions/anaconda3-5.3.0/lib/python3.7/site-packages (from sphinx>=1.8->pyquickhelper>=1.5.2259->pyensae) (2.19.1)\n",
      "Requirement already satisfied: sphinxcontrib-jsmath in /Users/bn8210wy/.pyenv/versions/anaconda3-5.3.0/lib/python3.7/site-packages (from sphinx>=1.8->pyquickhelper>=1.5.2259->pyensae) (1.0.1)\n",
      "Requirement already satisfied: alabaster<0.8,>=0.7 in /Users/bn8210wy/.pyenv/versions/anaconda3-5.3.0/lib/python3.7/site-packages (from sphinx>=1.8->pyquickhelper>=1.5.2259->pyensae) (0.7.11)\n",
      "Requirement already satisfied: sphinxcontrib-serializinghtml in /Users/bn8210wy/.pyenv/versions/anaconda3-5.3.0/lib/python3.7/site-packages (from sphinx>=1.8->pyquickhelper>=1.5.2259->pyensae) (1.1.3)\n",
      "Requirement already satisfied: sphinxcontrib-devhelp in /Users/bn8210wy/.pyenv/versions/anaconda3-5.3.0/lib/python3.7/site-packages (from sphinx>=1.8->pyquickhelper>=1.5.2259->pyensae) (1.0.1)\n",
      "Requirement already satisfied: sphinxcontrib-htmlhelp in /Users/bn8210wy/.pyenv/versions/anaconda3-5.3.0/lib/python3.7/site-packages (from sphinx>=1.8->pyquickhelper>=1.5.2259->pyensae) (1.0.1)\n",
      "Requirement already satisfied: sphinxcontrib-qthelp in /Users/bn8210wy/.pyenv/versions/anaconda3-5.3.0/lib/python3.7/site-packages (from sphinx>=1.8->pyquickhelper>=1.5.2259->pyensae) (1.0.2)\n",
      "Requirement already satisfied: widgetsnbextension~=3.4.0 in /Users/bn8210wy/.pyenv/versions/anaconda3-5.3.0/lib/python3.7/site-packages (from ipywidgets->jupyter->pyquickhelper>=1.5.2259->pyensae) (3.4.1)\n",
      "Requirement already satisfied: ptyprocess>=0.5 in /Users/bn8210wy/.pyenv/versions/anaconda3-5.3.0/lib/python3.7/site-packages (from pexpect>=4.2->metakernel->pyquickhelper>=1.5.2259->pyensae) (0.6.0)\n",
      "Requirement already satisfied: lazy_object_proxy in /Users/bn8210wy/.pyenv/versions/anaconda3-5.3.0/lib/python3.7/site-packages (from astroid>=2.0.0->pylint->pyquickhelper>=1.5.2259->pyensae) (1.3.1)\n",
      "Requirement already satisfied: wrapt in /Users/bn8210wy/.pyenv/versions/anaconda3-5.3.0/lib/python3.7/site-packages (from astroid>=2.0.0->pylint->pyquickhelper>=1.5.2259->pyensae) (1.10.11)\n",
      "Requirement already satisfied: parso>=0.3.0 in /Users/bn8210wy/.pyenv/versions/anaconda3-5.3.0/lib/python3.7/site-packages (from jedi>=0.10->IPython>=5.0.0->pyquickhelper>=1.5.2259->pyensae) (0.3.1)\n",
      "Requirement already satisfied: wcwidth in /Users/bn8210wy/.pyenv/versions/anaconda3-5.3.0/lib/python3.7/site-packages (from prompt-toolkit<2.0.0,>=1.0.15->IPython>=5.0.0->pyquickhelper>=1.5.2259->pyensae) (0.1.7)\n",
      "Requirement already satisfied: MarkupSafe>=0.23 in /Users/bn8210wy/.pyenv/versions/anaconda3-5.3.0/lib/python3.7/site-packages (from jinja2->notebook>=4.2.0->pyquickhelper>=1.5.2259->pyensae) (1.0)\n",
      "Requirement already satisfied: html5lib!=1.0b1,!=1.0b2,!=1.0b3,!=1.0b4,!=1.0b5,!=1.0b6,!=1.0b7,!=1.0b8,>=0.99999999pre in /Users/bn8210wy/.pyenv/versions/anaconda3-5.3.0/lib/python3.7/site-packages (from bleach->nbconvert->pyquickhelper>=1.5.2259->pyensae) (1.0.1)\n",
      "Requirement already satisfied: idna<2.8,>=2.5 in /Users/bn8210wy/.pyenv/versions/anaconda3-5.3.0/lib/python3.7/site-packages (from requests>=2.5.0->sphinx>=1.8->pyquickhelper>=1.5.2259->pyensae) (2.7)\n",
      "Requirement already satisfied: certifi>=2017.4.17 in /Users/bn8210wy/.pyenv/versions/anaconda3-5.3.0/lib/python3.7/site-packages (from requests>=2.5.0->sphinx>=1.8->pyquickhelper>=1.5.2259->pyensae) (2018.11.29)\n",
      "Requirement already satisfied: urllib3<1.24,>=1.21.1 in /Users/bn8210wy/.pyenv/versions/anaconda3-5.3.0/lib/python3.7/site-packages (from requests>=2.5.0->sphinx>=1.8->pyquickhelper>=1.5.2259->pyensae) (1.23)\n",
      "Requirement already satisfied: chardet<3.1.0,>=3.0.2 in /Users/bn8210wy/.pyenv/versions/anaconda3-5.3.0/lib/python3.7/site-packages (from requests>=2.5.0->sphinx>=1.8->pyquickhelper>=1.5.2259->pyensae) (3.0.4)\n",
      "Requirement already satisfied: webencodings in /Users/bn8210wy/.pyenv/versions/anaconda3-5.3.0/lib/python3.7/site-packages (from html5lib!=1.0b1,!=1.0b2,!=1.0b3,!=1.0b4,!=1.0b5,!=1.0b6,!=1.0b7,!=1.0b8,>=0.99999999pre->bleach->nbconvert->pyquickhelper>=1.5.2259->pyensae) (0.5.1)\n"
     ]
    }
   ],
   "source": [
    "!pip install pyensae"
   ]
  },
  {
   "cell_type": "code",
   "execution_count": 2,
   "metadata": {
    "scrolled": true
   },
   "outputs": [
    {
     "name": "stdout",
     "output_type": "stream",
     "text": [
      "Requirement already satisfied: qgrid in /Users/bn8210wy/.pyenv/versions/anaconda3-5.3.0/lib/python3.7/site-packages (1.1.1)\n",
      "Requirement already satisfied: ipywidgets>=7.0.0 in /Users/bn8210wy/.pyenv/versions/anaconda3-5.3.0/lib/python3.7/site-packages (from qgrid) (7.4.1)\n",
      "Requirement already satisfied: pandas>=0.18.0 in /Users/bn8210wy/.pyenv/versions/anaconda3-5.3.0/lib/python3.7/site-packages (from qgrid) (0.24.1)\n",
      "Requirement already satisfied: notebook>=4.0.0 in /Users/bn8210wy/.pyenv/versions/anaconda3-5.3.0/lib/python3.7/site-packages (from qgrid) (5.6.0)\n",
      "Requirement already satisfied: ipykernel>=4.5.1 in /Users/bn8210wy/.pyenv/versions/anaconda3-5.3.0/lib/python3.7/site-packages (from ipywidgets>=7.0.0->qgrid) (4.9.0)\n",
      "Requirement already satisfied: traitlets>=4.3.1 in /Users/bn8210wy/.pyenv/versions/anaconda3-5.3.0/lib/python3.7/site-packages (from ipywidgets>=7.0.0->qgrid) (4.3.2)\n",
      "Requirement already satisfied: nbformat>=4.2.0 in /Users/bn8210wy/.pyenv/versions/anaconda3-5.3.0/lib/python3.7/site-packages (from ipywidgets>=7.0.0->qgrid) (4.4.0)\n",
      "Requirement already satisfied: widgetsnbextension~=3.4.0 in /Users/bn8210wy/.pyenv/versions/anaconda3-5.3.0/lib/python3.7/site-packages (from ipywidgets>=7.0.0->qgrid) (3.4.1)\n",
      "Requirement already satisfied: ipython>=4.0.0 in /Users/bn8210wy/.pyenv/versions/anaconda3-5.3.0/lib/python3.7/site-packages (from ipywidgets>=7.0.0->qgrid) (6.5.0)\n",
      "Requirement already satisfied: numpy>=1.12.0 in /Users/bn8210wy/.pyenv/versions/anaconda3-5.3.0/lib/python3.7/site-packages (from pandas>=0.18.0->qgrid) (1.15.1)\n",
      "Requirement already satisfied: python-dateutil>=2.5.0 in /Users/bn8210wy/.pyenv/versions/anaconda3-5.3.0/lib/python3.7/site-packages (from pandas>=0.18.0->qgrid) (2.7.3)\n",
      "Requirement already satisfied: pytz>=2011k in /Users/bn8210wy/.pyenv/versions/anaconda3-5.3.0/lib/python3.7/site-packages (from pandas>=0.18.0->qgrid) (2018.5)\n",
      "Requirement already satisfied: terminado>=0.8.1 in /Users/bn8210wy/.pyenv/versions/anaconda3-5.3.0/lib/python3.7/site-packages (from notebook>=4.0.0->qgrid) (0.8.1)\n",
      "Requirement already satisfied: jupyter-core>=4.4.0 in /Users/bn8210wy/.pyenv/versions/anaconda3-5.3.0/lib/python3.7/site-packages (from notebook>=4.0.0->qgrid) (4.4.0)\n",
      "Requirement already satisfied: jinja2 in /Users/bn8210wy/.pyenv/versions/anaconda3-5.3.0/lib/python3.7/site-packages (from notebook>=4.0.0->qgrid) (2.10)\n",
      "Requirement already satisfied: jupyter-client>=5.2.0 in /Users/bn8210wy/.pyenv/versions/anaconda3-5.3.0/lib/python3.7/site-packages (from notebook>=4.0.0->qgrid) (5.2.3)\n",
      "Requirement already satisfied: nbconvert in /Users/bn8210wy/.pyenv/versions/anaconda3-5.3.0/lib/python3.7/site-packages (from notebook>=4.0.0->qgrid) (5.4.0)\n",
      "Requirement already satisfied: prometheus-client in /Users/bn8210wy/.pyenv/versions/anaconda3-5.3.0/lib/python3.7/site-packages (from notebook>=4.0.0->qgrid) (0.3.1)\n",
      "Requirement already satisfied: tornado>=4 in /Users/bn8210wy/.pyenv/versions/anaconda3-5.3.0/lib/python3.7/site-packages (from notebook>=4.0.0->qgrid) (5.1)\n",
      "Requirement already satisfied: Send2Trash in /Users/bn8210wy/.pyenv/versions/anaconda3-5.3.0/lib/python3.7/site-packages (from notebook>=4.0.0->qgrid) (1.5.0)\n",
      "Requirement already satisfied: pyzmq>=17 in /Users/bn8210wy/.pyenv/versions/anaconda3-5.3.0/lib/python3.7/site-packages (from notebook>=4.0.0->qgrid) (17.1.2)\n",
      "Requirement already satisfied: ipython-genutils in /Users/bn8210wy/.pyenv/versions/anaconda3-5.3.0/lib/python3.7/site-packages (from notebook>=4.0.0->qgrid) (0.2.0)\n",
      "Requirement already satisfied: decorator in /Users/bn8210wy/.pyenv/versions/anaconda3-5.3.0/lib/python3.7/site-packages (from traitlets>=4.3.1->ipywidgets>=7.0.0->qgrid) (4.3.0)\n",
      "Requirement already satisfied: six in /Users/bn8210wy/.pyenv/versions/anaconda3-5.3.0/lib/python3.7/site-packages (from traitlets>=4.3.1->ipywidgets>=7.0.0->qgrid) (1.11.0)\n",
      "Requirement already satisfied: jsonschema!=2.5.0,>=2.4 in /Users/bn8210wy/.pyenv/versions/anaconda3-5.3.0/lib/python3.7/site-packages (from nbformat>=4.2.0->ipywidgets>=7.0.0->qgrid) (2.6.0)\n",
      "Requirement already satisfied: appnope; sys_platform == \"darwin\" in /Users/bn8210wy/.pyenv/versions/anaconda3-5.3.0/lib/python3.7/site-packages (from ipython>=4.0.0->ipywidgets>=7.0.0->qgrid) (0.1.0)\n",
      "Requirement already satisfied: simplegeneric>0.8 in /Users/bn8210wy/.pyenv/versions/anaconda3-5.3.0/lib/python3.7/site-packages (from ipython>=4.0.0->ipywidgets>=7.0.0->qgrid) (0.8.1)\n",
      "Requirement already satisfied: pickleshare in /Users/bn8210wy/.pyenv/versions/anaconda3-5.3.0/lib/python3.7/site-packages (from ipython>=4.0.0->ipywidgets>=7.0.0->qgrid) (0.7.4)\n",
      "Requirement already satisfied: backcall in /Users/bn8210wy/.pyenv/versions/anaconda3-5.3.0/lib/python3.7/site-packages (from ipython>=4.0.0->ipywidgets>=7.0.0->qgrid) (0.1.0)\n",
      "Requirement already satisfied: jedi>=0.10 in /Users/bn8210wy/.pyenv/versions/anaconda3-5.3.0/lib/python3.7/site-packages (from ipython>=4.0.0->ipywidgets>=7.0.0->qgrid) (0.12.1)\n",
      "Requirement already satisfied: setuptools>=18.5 in /Users/bn8210wy/.pyenv/versions/anaconda3-5.3.0/lib/python3.7/site-packages (from ipython>=4.0.0->ipywidgets>=7.0.0->qgrid) (40.2.0)\n",
      "Requirement already satisfied: pygments in /Users/bn8210wy/.pyenv/versions/anaconda3-5.3.0/lib/python3.7/site-packages (from ipython>=4.0.0->ipywidgets>=7.0.0->qgrid) (2.2.0)\n",
      "Requirement already satisfied: pexpect; sys_platform != \"win32\" in /Users/bn8210wy/.pyenv/versions/anaconda3-5.3.0/lib/python3.7/site-packages (from ipython>=4.0.0->ipywidgets>=7.0.0->qgrid) (4.6.0)\n",
      "Requirement already satisfied: prompt-toolkit<2.0.0,>=1.0.15 in /Users/bn8210wy/.pyenv/versions/anaconda3-5.3.0/lib/python3.7/site-packages (from ipython>=4.0.0->ipywidgets>=7.0.0->qgrid) (1.0.15)\n",
      "Requirement already satisfied: MarkupSafe>=0.23 in /Users/bn8210wy/.pyenv/versions/anaconda3-5.3.0/lib/python3.7/site-packages (from jinja2->notebook>=4.0.0->qgrid) (1.0)\n",
      "Requirement already satisfied: mistune>=0.8.1 in /Users/bn8210wy/.pyenv/versions/anaconda3-5.3.0/lib/python3.7/site-packages (from nbconvert->notebook>=4.0.0->qgrid) (0.8.3)\n",
      "Requirement already satisfied: entrypoints>=0.2.2 in /Users/bn8210wy/.pyenv/versions/anaconda3-5.3.0/lib/python3.7/site-packages (from nbconvert->notebook>=4.0.0->qgrid) (0.2.3)\n",
      "Requirement already satisfied: bleach in /Users/bn8210wy/.pyenv/versions/anaconda3-5.3.0/lib/python3.7/site-packages (from nbconvert->notebook>=4.0.0->qgrid) (2.1.4)\n",
      "Requirement already satisfied: pandocfilters>=1.4.1 in /Users/bn8210wy/.pyenv/versions/anaconda3-5.3.0/lib/python3.7/site-packages (from nbconvert->notebook>=4.0.0->qgrid) (1.4.2)\n",
      "Requirement already satisfied: testpath in /Users/bn8210wy/.pyenv/versions/anaconda3-5.3.0/lib/python3.7/site-packages (from nbconvert->notebook>=4.0.0->qgrid) (0.3.1)\n",
      "Requirement already satisfied: defusedxml in /Users/bn8210wy/.pyenv/versions/anaconda3-5.3.0/lib/python3.7/site-packages (from nbconvert->notebook>=4.0.0->qgrid) (0.5.0)\n",
      "Requirement already satisfied: parso>=0.3.0 in /Users/bn8210wy/.pyenv/versions/anaconda3-5.3.0/lib/python3.7/site-packages (from jedi>=0.10->ipython>=4.0.0->ipywidgets>=7.0.0->qgrid) (0.3.1)\n",
      "Requirement already satisfied: ptyprocess>=0.5 in /Users/bn8210wy/.pyenv/versions/anaconda3-5.3.0/lib/python3.7/site-packages (from pexpect; sys_platform != \"win32\"->ipython>=4.0.0->ipywidgets>=7.0.0->qgrid) (0.6.0)\n",
      "Requirement already satisfied: wcwidth in /Users/bn8210wy/.pyenv/versions/anaconda3-5.3.0/lib/python3.7/site-packages (from prompt-toolkit<2.0.0,>=1.0.15->ipython>=4.0.0->ipywidgets>=7.0.0->qgrid) (0.1.7)\n",
      "Requirement already satisfied: html5lib!=1.0b1,!=1.0b2,!=1.0b3,!=1.0b4,!=1.0b5,!=1.0b6,!=1.0b7,!=1.0b8,>=0.99999999pre in /Users/bn8210wy/.pyenv/versions/anaconda3-5.3.0/lib/python3.7/site-packages (from bleach->nbconvert->notebook>=4.0.0->qgrid) (1.0.1)\n",
      "Requirement already satisfied: webencodings in /Users/bn8210wy/.pyenv/versions/anaconda3-5.3.0/lib/python3.7/site-packages (from html5lib!=1.0b1,!=1.0b2,!=1.0b3,!=1.0b4,!=1.0b5,!=1.0b6,!=1.0b7,!=1.0b8,>=0.99999999pre->bleach->nbconvert->notebook>=4.0.0->qgrid) (0.5.1)\n"
     ]
    }
   ],
   "source": [
    "!pip install qgrid"
   ]
  },
  {
   "cell_type": "code",
   "execution_count": 1,
   "metadata": {},
   "outputs": [],
   "source": [
    "%load_ext pyensae"
   ]
  },
  {
   "cell_type": "code",
   "execution_count": 2,
   "metadata": {},
   "outputs": [
    {
     "data": {
      "text/plain": [
       "<pyensae.sql.sql_interface_database.InterfaceSQLDatabase at 0x1e7e1428a20>"
      ]
     },
     "execution_count": 2,
     "metadata": {},
     "output_type": "execute_result"
    }
   ],
   "source": [
    "%SQL_connect ./databases/baseball_full.db"
   ]
  },
  {
   "cell_type": "markdown",
   "metadata": {},
   "source": [
    "## Exercise\n",
    "\n",
    "Find the highest salary earned for 2014"
   ]
  },
  {
   "cell_type": "code",
   "execution_count": null,
   "metadata": {},
   "outputs": [],
   "source": []
  },
  {
   "cell_type": "markdown",
   "metadata": {},
   "source": [
    "## Exercise\n",
    "\n",
    "Highest salary earned for 2014 using aggregate."
   ]
  },
  {
   "cell_type": "code",
   "execution_count": null,
   "metadata": {},
   "outputs": [],
   "source": []
  },
  {
   "cell_type": "markdown",
   "metadata": {},
   "source": [
    "## Exercise\n",
    "\n",
    "Number of players that batted at least once"
   ]
  },
  {
   "cell_type": "code",
   "execution_count": null,
   "metadata": {},
   "outputs": [],
   "source": [
    "\n",
    "    "
   ]
  },
  {
   "cell_type": "markdown",
   "metadata": {},
   "source": [
    "## Exercise\n",
    "\n",
    "Average Salary for each team."
   ]
  },
  {
   "cell_type": "code",
   "execution_count": null,
   "metadata": {},
   "outputs": [],
   "source": []
  }
 ],
 "metadata": {
  "kernelspec": {
   "display_name": "Python 3",
   "language": "python",
   "name": "python3"
  },
  "language_info": {
   "codemirror_mode": {
    "name": "ipython",
    "version": 3
   },
   "file_extension": ".py",
   "mimetype": "text/x-python",
   "name": "python",
   "nbconvert_exporter": "python",
   "pygments_lexer": "ipython3",
   "version": "3.7.3"
  }
 },
 "nbformat": 4,
 "nbformat_minor": 2
}
