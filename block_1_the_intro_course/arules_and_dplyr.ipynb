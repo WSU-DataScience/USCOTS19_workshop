{
 "cells": [
  {
   "cell_type": "markdown",
   "metadata": {},
   "source": [
    "## Recall - Association Rules\n",
    "\n",
    "* Example: $\\{butter\\} \\rightarrow \\{whole.milk\\}$\n",
    "  * $Support(\\textrm{butter and milk}) = \\frac{\\textrm{Num butter and milk}}{\\textrm{Num Total}}$\n",
    "  * $Support(\\textrm{butter}) = \\frac{\\textrm{Num butter}}{\\textrm{Nu\n",
    "  m Total}}$\n",
    "  * $Confidence= \\frac{Support(\\textrm{butter and milk})}{Support(\\textrm{butter})}$\n",
    "  * $Confidence= \\frac{Confidence}{Support(\\textrm{butter})}$\n",
    "  "
   ]
  },
  {
   "cell_type": "markdown",
   "metadata": {},
   "source": [
    "## Exercise - Compute the confidence and lift (small example)\n",
    "![](./img/small_example.png)"
   ]
  },
  {
   "cell_type": "markdown",
   "metadata": {},
   "source": [
    "## Arules with R (The long way)\n",
    "\n",
    "* Use `dyplr` to \n",
    "  * mutate to compute logical values\n",
    "  * summarize to compute counts and percents\n",
    "  \n",
    "  "
   ]
  },
  {
   "cell_type": "markdown",
   "metadata": {},
   "source": [
    "## Read the data set"
   ]
  },
  {
   "cell_type": "code",
   "execution_count": 47,
   "metadata": {
    "scrolled": true
   },
   "outputs": [
    {
     "data": {
      "text/html": [
       "<table>\n",
       "<thead><tr><th scope=col>frankfurter</th><th scope=col>sausage</th><th scope=col>liver.loaf</th><th scope=col>ham</th><th scope=col>meat</th><th scope=col>finished.products</th><th scope=col>organic.sausage</th><th scope=col>chicken</th><th scope=col>turkey</th><th scope=col>pork</th><th scope=col>⋯</th><th scope=col>candles</th><th scope=col>light.bulbs</th><th scope=col>sound.storage.medium</th><th scope=col>newspapers</th><th scope=col>photo.film</th><th scope=col>pot.plants</th><th scope=col>flower.soil.fertilizer</th><th scope=col>flower..seeds.</th><th scope=col>shopping.bags</th><th scope=col>bags</th></tr></thead>\n",
       "<tbody>\n",
       "\t<tr><td>0</td><td>0</td><td>0</td><td>0</td><td>0</td><td>0</td><td>0</td><td>0</td><td>0</td><td>0</td><td>⋯</td><td>0</td><td>0</td><td>0</td><td>0</td><td>0</td><td>0</td><td>0</td><td>0</td><td>0</td><td>0</td></tr>\n",
       "\t<tr><td>0</td><td>0</td><td>0</td><td>0</td><td>0</td><td>0</td><td>0</td><td>0</td><td>0</td><td>0</td><td>⋯</td><td>0</td><td>0</td><td>0</td><td>0</td><td>0</td><td>0</td><td>0</td><td>0</td><td>0</td><td>0</td></tr>\n",
       "</tbody>\n",
       "</table>\n"
      ],
      "text/latex": [
       "\\begin{tabular}{r|lllllllllllllllllllllllllllllllllllllllllllllllllllllllllllllllllllllllllllllllllllllllllllllllllllllllllllllllllllllllllllllllllllllllllllllllllllllllllllllllllllllllll}\n",
       " frankfurter & sausage & liver.loaf & ham & meat & finished.products & organic.sausage & chicken & turkey & pork & ⋯ & candles & light.bulbs & sound.storage.medium & newspapers & photo.film & pot.plants & flower.soil.fertilizer & flower..seeds. & shopping.bags & bags\\\\\n",
       "\\hline\n",
       "\t 0 & 0 & 0 & 0 & 0 & 0 & 0 & 0 & 0 & 0 & ⋯ & 0 & 0 & 0 & 0 & 0 & 0 & 0 & 0 & 0 & 0\\\\\n",
       "\t 0 & 0 & 0 & 0 & 0 & 0 & 0 & 0 & 0 & 0 & ⋯ & 0 & 0 & 0 & 0 & 0 & 0 & 0 & 0 & 0 & 0\\\\\n",
       "\\end{tabular}\n"
      ],
      "text/markdown": [
       "\n",
       "| frankfurter | sausage | liver.loaf | ham | meat | finished.products | organic.sausage | chicken | turkey | pork | ⋯ | candles | light.bulbs | sound.storage.medium | newspapers | photo.film | pot.plants | flower.soil.fertilizer | flower..seeds. | shopping.bags | bags |\n",
       "|---|---|---|---|---|---|---|---|---|---|---|---|---|---|---|---|---|---|---|---|---|\n",
       "| 0 | 0 | 0 | 0 | 0 | 0 | 0 | 0 | 0 | 0 | ⋯ | 0 | 0 | 0 | 0 | 0 | 0 | 0 | 0 | 0 | 0 |\n",
       "| 0 | 0 | 0 | 0 | 0 | 0 | 0 | 0 | 0 | 0 | ⋯ | 0 | 0 | 0 | 0 | 0 | 0 | 0 | 0 | 0 | 0 |\n",
       "\n"
      ],
      "text/plain": [
       "  frankfurter sausage liver.loaf ham meat finished.products organic.sausage\n",
       "1 0           0       0          0   0    0                 0              \n",
       "2 0           0       0          0   0    0                 0              \n",
       "  chicken turkey pork ⋯ candles light.bulbs sound.storage.medium newspapers\n",
       "1 0       0      0    ⋯ 0       0           0                    0         \n",
       "2 0       0      0    ⋯ 0       0           0                    0         \n",
       "  photo.film pot.plants flower.soil.fertilizer flower..seeds. shopping.bags\n",
       "1 0          0          0                      0              0            \n",
       "2 0          0          0                      0              0            \n",
       "  bags\n",
       "1 0   \n",
       "2 0   "
      ]
     },
     "metadata": {},
     "output_type": "display_data"
    }
   ],
   "source": [
    "library(dplyr)\n",
    "groceries <- read.csv(\"./data/Groceries.csv\",\n",
    "                      header = TRUE,\n",
    "                      sep=\",\")\n",
    "head(groceries, 2)"
   ]
  },
  {
   "cell_type": "markdown",
   "metadata": {},
   "source": [
    "## Getting the total number of transactions"
   ]
  },
  {
   "cell_type": "code",
   "execution_count": 48,
   "metadata": {},
   "outputs": [
    {
     "data": {
      "text/html": [
       "9835"
      ],
      "text/latex": [
       "9835"
      ],
      "text/markdown": [
       "9835"
      ],
      "text/plain": [
       "[1] 9835"
      ]
     },
     "metadata": {},
     "output_type": "display_data"
    }
   ],
   "source": [
    "N <- nrow(groceries)\n",
    "N"
   ]
  },
  {
   "cell_type": "markdown",
   "metadata": {},
   "source": [
    "## Set Up"
   ]
  },
  {
   "cell_type": "code",
   "execution_count": 49,
   "metadata": {},
   "outputs": [
    {
     "data": {
      "text/html": [
       "<table>\n",
       "<thead><tr><th scope=col>butter</th><th scope=col>whole.milk</th></tr></thead>\n",
       "<tbody>\n",
       "\t<tr><td>0</td><td>0</td></tr>\n",
       "\t<tr><td>0</td><td>0</td></tr>\n",
       "\t<tr><td>0</td><td>1</td></tr>\n",
       "\t<tr><td>0</td><td>0</td></tr>\n",
       "\t<tr><td>0</td><td>1</td></tr>\n",
       "\t<tr><td>1</td><td>1</td></tr>\n",
       "</tbody>\n",
       "</table>\n"
      ],
      "text/latex": [
       "\\begin{tabular}{r|ll}\n",
       " butter & whole.milk\\\\\n",
       "\\hline\n",
       "\t 0 & 0\\\\\n",
       "\t 0 & 0\\\\\n",
       "\t 0 & 1\\\\\n",
       "\t 0 & 0\\\\\n",
       "\t 0 & 1\\\\\n",
       "\t 1 & 1\\\\\n",
       "\\end{tabular}\n"
      ],
      "text/markdown": [
       "\n",
       "| butter | whole.milk |\n",
       "|---|---|\n",
       "| 0 | 0 |\n",
       "| 0 | 0 |\n",
       "| 0 | 1 |\n",
       "| 0 | 0 |\n",
       "| 0 | 1 |\n",
       "| 1 | 1 |\n",
       "\n"
      ],
      "text/plain": [
       "  butter whole.milk\n",
       "1 0      0         \n",
       "2 0      0         \n",
       "3 0      1         \n",
       "4 0      0         \n",
       "5 0      1         \n",
       "6 1      1         "
      ]
     },
     "metadata": {},
     "output_type": "display_data"
    }
   ],
   "source": [
    "(groceries \n",
    " %>% select(\"butter\", \"whole.milk\")\n",
    " %>% head\n",
    " ) "
   ]
  },
  {
   "cell_type": "markdown",
   "metadata": {},
   "source": [
    "Compute the Total for Butter\n",
    "========================================================"
   ]
  },
  {
   "cell_type": "code",
   "execution_count": 100,
   "metadata": {},
   "outputs": [
    {
     "data": {
      "text/html": [
       "<table>\n",
       "<thead><tr><th scope=col>total_butter</th><th scope=col>support_butter</th></tr></thead>\n",
       "<tbody>\n",
       "\t<tr><td>545       </td><td>0.05541434</td></tr>\n",
       "</tbody>\n",
       "</table>\n"
      ],
      "text/latex": [
       "\\begin{tabular}{r|ll}\n",
       " total\\_butter & support\\_butter\\\\\n",
       "\\hline\n",
       "\t 545        & 0.05541434\\\\\n",
       "\\end{tabular}\n"
      ],
      "text/markdown": [
       "\n",
       "| total_butter | support_butter |\n",
       "|---|---|\n",
       "| 545        | 0.05541434 |\n",
       "\n"
      ],
      "text/plain": [
       "  total_butter support_butter\n",
       "1 545          0.05541434    "
      ]
     },
     "metadata": {},
     "output_type": "display_data"
    }
   ],
   "source": [
    "(groceries \n",
    " %>% select(\"butter\", \"whole.milk\")\n",
    " %>% filter(butter == 1) \n",
    " %>% summarise(total_butter = sum(butter),\n",
    "               support_butter = total_butter/N)\n",
    ")"
   ]
  },
  {
   "cell_type": "markdown",
   "metadata": {},
   "source": [
    "Compute the Proportion for Butter Directly\n",
    "========================================================\n",
    "\n",
    "* Why doesn't the `filter` matter?\n",
    "* How did we get by without computing `total_butter`"
   ]
  },
  {
   "cell_type": "code",
   "execution_count": 101,
   "metadata": {},
   "outputs": [
    {
     "data": {
      "text/html": [
       "<table>\n",
       "<thead><tr><th scope=col>support_butter</th></tr></thead>\n",
       "<tbody>\n",
       "\t<tr><td>0.05541434</td></tr>\n",
       "</tbody>\n",
       "</table>\n"
      ],
      "text/latex": [
       "\\begin{tabular}{r|l}\n",
       " support\\_butter\\\\\n",
       "\\hline\n",
       "\t 0.05541434\\\\\n",
       "\\end{tabular}\n"
      ],
      "text/markdown": [
       "\n",
       "| support_butter |\n",
       "|---|\n",
       "| 0.05541434 |\n",
       "\n"
      ],
      "text/plain": [
       "  support_butter\n",
       "1 0.05541434    "
      ]
     },
     "metadata": {},
     "output_type": "display_data"
    }
   ],
   "source": [
    "(groceries \n",
    " %>% select(\"butter\", \"whole.milk\")\n",
    " %>% summarise(support_butter = sum(butter)/N)\n",
    " )"
   ]
  },
  {
   "cell_type": "markdown",
   "metadata": {},
   "source": [
    "<font color=\"red\"> Exercise - Compute the Support of whole.milk </font>\n",
    "========================================================\n",
    "\n",
    "* Verify that the Whole Milk column is `whole.milk`\n",
    "* Compute the support"
   ]
  },
  {
   "cell_type": "code",
   "execution_count": 102,
   "metadata": {},
   "outputs": [],
   "source": [
    "# Your code here"
   ]
  },
  {
   "cell_type": "markdown",
   "metadata": {},
   "source": [
    "<font color=\"blue\"> Solution </font>\n",
    "========================================================"
   ]
  },
  {
   "cell_type": "code",
   "execution_count": 103,
   "metadata": {},
   "outputs": [
    {
     "data": {
      "text/html": [
       "<table>\n",
       "<thead><tr><th scope=col>support_butter</th><th scope=col>support_milk</th></tr></thead>\n",
       "<tbody>\n",
       "\t<tr><td>0.05541434</td><td>0.255516  </td></tr>\n",
       "</tbody>\n",
       "</table>\n"
      ],
      "text/latex": [
       "\\begin{tabular}{r|ll}\n",
       " support\\_butter & support\\_milk\\\\\n",
       "\\hline\n",
       "\t 0.05541434 & 0.255516  \\\\\n",
       "\\end{tabular}\n"
      ],
      "text/markdown": [
       "\n",
       "| support_butter | support_milk |\n",
       "|---|---|\n",
       "| 0.05541434 | 0.255516   |\n",
       "\n"
      ],
      "text/plain": [
       "  support_butter support_milk\n",
       "1 0.05541434     0.255516    "
      ]
     },
     "metadata": {},
     "output_type": "display_data"
    }
   ],
   "source": [
    "(groceries \n",
    " %>% select(\"butter\", \"whole.milk\")\n",
    " %>% summarize(support_butter = sum(butter)/N,\n",
    "               support_milk = sum(whole.milk)/N)\n",
    " )"
   ]
  },
  {
   "cell_type": "markdown",
   "metadata": {},
   "source": [
    "Support for Butter and Milk\n",
    "========================================================"
   ]
  },
  {
   "cell_type": "code",
   "execution_count": 104,
   "metadata": {},
   "outputs": [
    {
     "data": {
      "text/html": [
       "<table>\n",
       "<thead><tr><th scope=col>support_butter</th><th scope=col>support_milk</th><th scope=col>support_butter_milk</th></tr></thead>\n",
       "<tbody>\n",
       "\t<tr><td>0.05541434</td><td>0.255516  </td><td>0.02755465</td></tr>\n",
       "</tbody>\n",
       "</table>\n"
      ],
      "text/latex": [
       "\\begin{tabular}{r|lll}\n",
       " support\\_butter & support\\_milk & support\\_butter\\_milk\\\\\n",
       "\\hline\n",
       "\t 0.05541434 & 0.255516   & 0.02755465\\\\\n",
       "\\end{tabular}\n"
      ],
      "text/markdown": [
       "\n",
       "| support_butter | support_milk | support_butter_milk |\n",
       "|---|---|---|\n",
       "| 0.05541434 | 0.255516   | 0.02755465 |\n",
       "\n"
      ],
      "text/plain": [
       "  support_butter support_milk support_butter_milk\n",
       "1 0.05541434     0.255516     0.02755465         "
      ]
     },
     "metadata": {},
     "output_type": "display_data"
    }
   ],
   "source": [
    "(groceries \n",
    " %>% select(\"butter\", \"whole.milk\")\n",
    " %>% mutate(bought_butter_and_milk = (butter == 1 & whole.milk == 1)) \n",
    " %>% summarize(support_butter = sum(butter)/N,\n",
    "               support_milk = sum(whole.milk)/N,\n",
    "               support_butter_milk = sum(bought_butter_and_milk)/N)\n",
    " )"
   ]
  },
  {
   "cell_type": "markdown",
   "metadata": {},
   "source": [
    "Using `0`s and `1`s as Booleans\n",
    "========================================================\n",
    "\n",
    "Note that\n",
    "\n",
    "* `TRUE & TRUE == TRUE` $\\Leftrightarrow$ `1*1 == 1`\n",
    "* `TRUE & FALSE == FALSE & TRUE == FALSE & FALSE == FALSE` $\\Leftrightarrow$ `1*0 == 0*1 == 0*0 == 0`"
   ]
  },
  {
   "cell_type": "code",
   "execution_count": 74,
   "metadata": {},
   "outputs": [
    {
     "data": {
      "text/html": [
       "<table>\n",
       "<thead><tr><th scope=col>support_butter</th><th scope=col>support_milk</th><th scope=col>support_butter_milk</th></tr></thead>\n",
       "<tbody>\n",
       "\t<tr><td>0.05541434</td><td>0.255516  </td><td>0.02755465</td></tr>\n",
       "</tbody>\n",
       "</table>\n"
      ],
      "text/latex": [
       "\\begin{tabular}{r|lll}\n",
       " support\\_butter & support\\_milk & support\\_butter\\_milk\\\\\n",
       "\\hline\n",
       "\t 0.05541434 & 0.255516   & 0.02755465\\\\\n",
       "\\end{tabular}\n"
      ],
      "text/markdown": [
       "\n",
       "| support_butter | support_milk | support_butter_milk |\n",
       "|---|---|---|\n",
       "| 0.05541434 | 0.255516   | 0.02755465 |\n",
       "\n"
      ],
      "text/plain": [
       "  support_butter support_milk support_butter_milk\n",
       "1 0.05541434     0.255516     0.02755465         "
      ]
     },
     "metadata": {},
     "output_type": "display_data"
    }
   ],
   "source": [
    "(groceries \n",
    " %>% select(\"butter\", \"whole.milk\")\n",
    " %>% summarize(support_butter = sum(butter)/N,\n",
    "               support_milk = sum(whole.milk)/N,\n",
    "               support_butter_milk = sum( butter * whole.milk)/N)\n",
    " )"
   ]
  },
  {
   "cell_type": "markdown",
   "metadata": {},
   "source": [
    "Confidence and Lift\n",
    "========================================================"
   ]
  },
  {
   "cell_type": "code",
   "execution_count": 76,
   "metadata": {},
   "outputs": [
    {
     "data": {
      "text/html": [
       "<table>\n",
       "<thead><tr><th scope=col>support_butter</th><th scope=col>support_milk</th><th scope=col>support_butter_milk</th><th scope=col>conf_butter_milk</th><th scope=col>lift_butter_milk</th></tr></thead>\n",
       "<tbody>\n",
       "\t<tr><td>0.05541434</td><td>0.255516  </td><td>0.02755465</td><td>0.4972477 </td><td>1.946053  </td></tr>\n",
       "</tbody>\n",
       "</table>\n"
      ],
      "text/latex": [
       "\\begin{tabular}{r|lllll}\n",
       " support\\_butter & support\\_milk & support\\_butter\\_milk & conf\\_butter\\_milk & lift\\_butter\\_milk\\\\\n",
       "\\hline\n",
       "\t 0.05541434 & 0.255516   & 0.02755465 & 0.4972477  & 1.946053  \\\\\n",
       "\\end{tabular}\n"
      ],
      "text/markdown": [
       "\n",
       "| support_butter | support_milk | support_butter_milk | conf_butter_milk | lift_butter_milk |\n",
       "|---|---|---|---|---|\n",
       "| 0.05541434 | 0.255516   | 0.02755465 | 0.4972477  | 1.946053   |\n",
       "\n"
      ],
      "text/plain": [
       "  support_butter support_milk support_butter_milk conf_butter_milk\n",
       "1 0.05541434     0.255516     0.02755465          0.4972477       \n",
       "  lift_butter_milk\n",
       "1 1.946053        "
      ]
     },
     "metadata": {},
     "output_type": "display_data"
    }
   ],
   "source": [
    "(groceries \n",
    " %>% select(\"butter\", \"whole.milk\")\n",
    " %>% summarize(support_butter = sum(butter)/N,\n",
    "               support_milk = sum(whole.milk)/N,\n",
    "               support_butter_milk = sum( butter * whole.milk)/N)\n",
    " %>% mutate(conf_butter_milk = support_butter_milk/support_butter,\n",
    "            lift_butter_milk = conf_butter_milk/support_milk)\n",
    " )"
   ]
  },
  {
   "cell_type": "markdown",
   "metadata": {},
   "source": [
    "Notes\n",
    "========================================================\n",
    "\n",
    "* Must compute values before you use them\n",
    "  * Compute supports before confidence\n",
    "  * Compute confidence before lift"
   ]
  },
  {
   "cell_type": "markdown",
   "metadata": {},
   "source": [
    "<font color=\"red\"> Exercise </font>\n",
    "========================================================\n",
    "\n",
    "* Compute the confidence and lift for the following rules\n",
    "  * $\\{Cereal\\} \\rightarrow \\{Whole Milk\\}$\n",
    "  * $\\{Liquor\\} \\rightarrow \\{Whole Milk\\}$\n",
    "* Try doing this with one `mutate`\n",
    "* Interpret the values of the lift for each."
   ]
  },
  {
   "cell_type": "code",
   "execution_count": 18,
   "metadata": {},
   "outputs": [],
   "source": [
    "# Your code here"
   ]
  },
  {
   "cell_type": "markdown",
   "metadata": {},
   "source": [
    "Example Data Frame\n",
    "========================================================"
   ]
  },
  {
   "cell_type": "code",
   "execution_count": 19,
   "metadata": {},
   "outputs": [
    {
     "data": {
      "text/html": [
       "<table>\n",
       "<thead><tr><th scope=col>a</th><th scope=col>b</th><th scope=col>c</th><th scope=col>d</th></tr></thead>\n",
       "<tbody>\n",
       "\t<tr><td>1</td><td>3</td><td>5</td><td>7</td></tr>\n",
       "\t<tr><td>2</td><td>4</td><td>6</td><td>8</td></tr>\n",
       "</tbody>\n",
       "</table>\n"
      ],
      "text/latex": [
       "\\begin{tabular}{r|llll}\n",
       " a & b & c & d\\\\\n",
       "\\hline\n",
       "\t 1 & 3 & 5 & 7\\\\\n",
       "\t 2 & 4 & 6 & 8\\\\\n",
       "\\end{tabular}\n"
      ],
      "text/markdown": [
       "\n",
       "| a | b | c | d |\n",
       "|---|---|---|---|\n",
       "| 1 | 3 | 5 | 7 |\n",
       "| 2 | 4 | 6 | 8 |\n",
       "\n"
      ],
      "text/plain": [
       "  a b c d\n",
       "1 1 3 5 7\n",
       "2 2 4 6 8"
      ]
     },
     "metadata": {},
     "output_type": "display_data"
    }
   ],
   "source": [
    "df <- data.frame(\"a\" = c(1,2),\n",
    "                 \"b\" = c(3,4),\n",
    "                 \"c\" = c(5,6),\n",
    "                 \"d\" = c(7,8))\n",
    "df"
   ]
  },
  {
   "cell_type": "markdown",
   "metadata": {},
   "source": [
    "Stacking Columns with gather\n",
    "========================================================"
   ]
  },
  {
   "cell_type": "code",
   "execution_count": 20,
   "metadata": {},
   "outputs": [
    {
     "data": {
      "text/html": [
       "<table>\n",
       "<thead><tr><th scope=col>d</th><th scope=col>Label</th><th scope=col>Value</th></tr></thead>\n",
       "<tbody>\n",
       "\t<tr><td>7</td><td>a</td><td>1</td></tr>\n",
       "\t<tr><td>8</td><td>a</td><td>2</td></tr>\n",
       "\t<tr><td>7</td><td>b</td><td>3</td></tr>\n",
       "\t<tr><td>8</td><td>b</td><td>4</td></tr>\n",
       "\t<tr><td>7</td><td>c</td><td>5</td></tr>\n",
       "\t<tr><td>8</td><td>c</td><td>6</td></tr>\n",
       "</tbody>\n",
       "</table>\n"
      ],
      "text/latex": [
       "\\begin{tabular}{r|lll}\n",
       " d & Label & Value\\\\\n",
       "\\hline\n",
       "\t 7 & a & 1\\\\\n",
       "\t 8 & a & 2\\\\\n",
       "\t 7 & b & 3\\\\\n",
       "\t 8 & b & 4\\\\\n",
       "\t 7 & c & 5\\\\\n",
       "\t 8 & c & 6\\\\\n",
       "\\end{tabular}\n"
      ],
      "text/markdown": [
       "\n",
       "| d | Label | Value |\n",
       "|---|---|---|\n",
       "| 7 | a | 1 |\n",
       "| 8 | a | 2 |\n",
       "| 7 | b | 3 |\n",
       "| 8 | b | 4 |\n",
       "| 7 | c | 5 |\n",
       "| 8 | c | 6 |\n",
       "\n"
      ],
      "text/plain": [
       "  d Label Value\n",
       "1 7 a     1    \n",
       "2 8 a     2    \n",
       "3 7 b     3    \n",
       "4 8 b     4    \n",
       "5 7 c     5    \n",
       "6 8 c     6    "
      ]
     },
     "metadata": {},
     "output_type": "display_data"
    }
   ],
   "source": [
    "library(tidyr)\n",
    "stacked <- df %>%\n",
    "  gather(key = \"Label\",\n",
    "         value = \"Value\",\n",
    "         a, b, c)\n",
    "stacked"
   ]
  },
  {
   "cell_type": "markdown",
   "metadata": {},
   "source": [
    "Stacking All-But-One Column with gather\n",
    "========================================================"
   ]
  },
  {
   "cell_type": "code",
   "execution_count": 21,
   "metadata": {},
   "outputs": [
    {
     "data": {
      "text/html": [
       "<table>\n",
       "<thead><tr><th scope=col>d</th><th scope=col>Label</th><th scope=col>Value</th></tr></thead>\n",
       "<tbody>\n",
       "\t<tr><td>7</td><td>a</td><td>1</td></tr>\n",
       "\t<tr><td>8</td><td>a</td><td>2</td></tr>\n",
       "\t<tr><td>7</td><td>b</td><td>3</td></tr>\n",
       "\t<tr><td>8</td><td>b</td><td>4</td></tr>\n",
       "\t<tr><td>7</td><td>c</td><td>5</td></tr>\n",
       "\t<tr><td>8</td><td>c</td><td>6</td></tr>\n",
       "</tbody>\n",
       "</table>\n"
      ],
      "text/latex": [
       "\\begin{tabular}{r|lll}\n",
       " d & Label & Value\\\\\n",
       "\\hline\n",
       "\t 7 & a & 1\\\\\n",
       "\t 8 & a & 2\\\\\n",
       "\t 7 & b & 3\\\\\n",
       "\t 8 & b & 4\\\\\n",
       "\t 7 & c & 5\\\\\n",
       "\t 8 & c & 6\\\\\n",
       "\\end{tabular}\n"
      ],
      "text/markdown": [
       "\n",
       "| d | Label | Value |\n",
       "|---|---|---|\n",
       "| 7 | a | 1 |\n",
       "| 8 | a | 2 |\n",
       "| 7 | b | 3 |\n",
       "| 8 | b | 4 |\n",
       "| 7 | c | 5 |\n",
       "| 8 | c | 6 |\n",
       "\n"
      ],
      "text/plain": [
       "  d Label Value\n",
       "1 7 a     1    \n",
       "2 8 a     2    \n",
       "3 7 b     3    \n",
       "4 8 b     4    \n",
       "5 7 c     5    \n",
       "6 8 c     6    "
      ]
     },
     "metadata": {},
     "output_type": "display_data"
    }
   ],
   "source": [
    "library(tidyr)\n",
    "stacked <- df %>%\n",
    "  gather(key = \"Label\",\n",
    "         value = \"Value\",\n",
    "         -d)\n",
    "stacked"
   ]
  },
  {
   "cell_type": "markdown",
   "metadata": {},
   "source": [
    "Group and Aggregate with group_by\n",
    "========================================================"
   ]
  },
  {
   "cell_type": "code",
   "execution_count": 22,
   "metadata": {},
   "outputs": [
    {
     "data": {
      "text/html": [
       "<table>\n",
       "<thead><tr><th scope=col>Label</th><th scope=col>mean</th></tr></thead>\n",
       "<tbody>\n",
       "\t<tr><td>a  </td><td>1.5</td></tr>\n",
       "\t<tr><td>b  </td><td>3.5</td></tr>\n",
       "\t<tr><td>c  </td><td>5.5</td></tr>\n",
       "</tbody>\n",
       "</table>\n"
      ],
      "text/latex": [
       "\\begin{tabular}{r|ll}\n",
       " Label & mean\\\\\n",
       "\\hline\n",
       "\t a   & 1.5\\\\\n",
       "\t b   & 3.5\\\\\n",
       "\t c   & 5.5\\\\\n",
       "\\end{tabular}\n"
      ],
      "text/markdown": [
       "\n",
       "| Label | mean |\n",
       "|---|---|\n",
       "| a   | 1.5 |\n",
       "| b   | 3.5 |\n",
       "| c   | 5.5 |\n",
       "\n"
      ],
      "text/plain": [
       "  Label mean\n",
       "1 a     1.5 \n",
       "2 b     3.5 \n",
       "3 c     5.5 "
      ]
     },
     "metadata": {},
     "output_type": "display_data"
    }
   ],
   "source": [
    "stacked %>%\n",
    "  group_by(Label) %>%\n",
    "  summarize(mean = mean(Value))"
   ]
  },
  {
   "cell_type": "markdown",
   "metadata": {},
   "source": [
    "Group and Aggregate with group_by\n",
    "========================================================"
   ]
  },
  {
   "cell_type": "code",
   "execution_count": 23,
   "metadata": {},
   "outputs": [
    {
     "data": {
      "text/html": [
       "<table>\n",
       "<thead><tr><th scope=col>d</th><th scope=col>Label</th><th scope=col>Value</th></tr></thead>\n",
       "<tbody>\n",
       "\t<tr><td>7</td><td>a</td><td>1</td></tr>\n",
       "\t<tr><td>8</td><td>a</td><td>2</td></tr>\n",
       "\t<tr><td>7</td><td>b</td><td>3</td></tr>\n",
       "\t<tr><td>8</td><td>b</td><td>4</td></tr>\n",
       "\t<tr><td>7</td><td>c</td><td>5</td></tr>\n",
       "\t<tr><td>8</td><td>c</td><td>6</td></tr>\n",
       "</tbody>\n",
       "</table>\n"
      ],
      "text/latex": [
       "\\begin{tabular}{r|lll}\n",
       " d & Label & Value\\\\\n",
       "\\hline\n",
       "\t 7 & a & 1\\\\\n",
       "\t 8 & a & 2\\\\\n",
       "\t 7 & b & 3\\\\\n",
       "\t 8 & b & 4\\\\\n",
       "\t 7 & c & 5\\\\\n",
       "\t 8 & c & 6\\\\\n",
       "\\end{tabular}\n"
      ],
      "text/markdown": [
       "\n",
       "| d | Label | Value |\n",
       "|---|---|---|\n",
       "| 7 | a | 1 |\n",
       "| 8 | a | 2 |\n",
       "| 7 | b | 3 |\n",
       "| 8 | b | 4 |\n",
       "| 7 | c | 5 |\n",
       "| 8 | c | 6 |\n",
       "\n"
      ],
      "text/plain": [
       "  d Label Value\n",
       "1 7 a     1    \n",
       "2 8 a     2    \n",
       "3 7 b     3    \n",
       "4 8 b     4    \n",
       "5 7 c     5    \n",
       "6 8 c     6    "
      ]
     },
     "metadata": {},
     "output_type": "display_data"
    }
   ],
   "source": [
    "stacked"
   ]
  },
  {
   "cell_type": "code",
   "execution_count": 24,
   "metadata": {},
   "outputs": [
    {
     "data": {
      "text/html": [
       "<table>\n",
       "<thead><tr><th scope=col>Label</th><th scope=col>mean</th></tr></thead>\n",
       "<tbody>\n",
       "\t<tr><td>a  </td><td>1.5</td></tr>\n",
       "\t<tr><td>b  </td><td>3.5</td></tr>\n",
       "\t<tr><td>c  </td><td>5.5</td></tr>\n",
       "</tbody>\n",
       "</table>\n"
      ],
      "text/latex": [
       "\\begin{tabular}{r|ll}\n",
       " Label & mean\\\\\n",
       "\\hline\n",
       "\t a   & 1.5\\\\\n",
       "\t b   & 3.5\\\\\n",
       "\t c   & 5.5\\\\\n",
       "\\end{tabular}\n"
      ],
      "text/markdown": [
       "\n",
       "| Label | mean |\n",
       "|---|---|\n",
       "| a   | 1.5 |\n",
       "| b   | 3.5 |\n",
       "| c   | 5.5 |\n",
       "\n"
      ],
      "text/plain": [
       "  Label mean\n",
       "1 a     1.5 \n",
       "2 b     3.5 \n",
       "3 c     5.5 "
      ]
     },
     "metadata": {},
     "output_type": "display_data"
    }
   ],
   "source": [
    "stacked %>%\n",
    "  group_by(Label) %>%\n",
    "  summarize(mean = mean(Value))"
   ]
  },
  {
   "cell_type": "markdown",
   "metadata": {},
   "source": [
    "Computing Many Rules At Once\n",
    "========================================================\n",
    "\n",
    "* `gather` the LHS into one column\n",
    "* `group_by` LHS\n",
    "* Compute values\n",
    "  * Support\n",
    "  * Confidence\n",
    "  * Lift\n",
    "  "
   ]
  },
  {
   "cell_type": "markdown",
   "metadata": {},
   "source": [
    "Step 0 - Read the data and load libraries\n",
    "========================================================"
   ]
  },
  {
   "cell_type": "markdown",
   "metadata": {},
   "source": [
    "# Be sure to change the working directory"
   ]
  },
  {
   "cell_type": "code",
   "execution_count": 77,
   "metadata": {},
   "outputs": [],
   "source": [
    "library(tidyr)\n",
    "library(dplyr)\n",
    "\n",
    "groceries <- read.csv(\"./data/Groceries.csv\",\n",
    "                      header = TRUE,\n",
    "                      sep=\",\")\n",
    "N <- nrow(groceries)"
   ]
  },
  {
   "cell_type": "markdown",
   "metadata": {},
   "source": [
    "Step 1 - Stack all of the other products\n",
    "========================================================"
   ]
  },
  {
   "cell_type": "code",
   "execution_count": 92,
   "metadata": {},
   "outputs": [
    {
     "data": {
      "text/html": [
       "<table>\n",
       "<thead><tr><th scope=col>whole.milk</th><th scope=col>Other</th><th scope=col>Purch</th></tr></thead>\n",
       "<tbody>\n",
       "\t<tr><td>0          </td><td>frankfurter</td><td>0          </td></tr>\n",
       "\t<tr><td>0          </td><td>frankfurter</td><td>0          </td></tr>\n",
       "\t<tr><td>1          </td><td>frankfurter</td><td>0          </td></tr>\n",
       "\t<tr><td>0          </td><td>frankfurter</td><td>0          </td></tr>\n",
       "\t<tr><td>1          </td><td>frankfurter</td><td>0          </td></tr>\n",
       "\t<tr><td>1          </td><td>frankfurter</td><td>0          </td></tr>\n",
       "</tbody>\n",
       "</table>\n"
      ],
      "text/latex": [
       "\\begin{tabular}{r|lll}\n",
       " whole.milk & Other & Purch\\\\\n",
       "\\hline\n",
       "\t 0           & frankfurter & 0          \\\\\n",
       "\t 0           & frankfurter & 0          \\\\\n",
       "\t 1           & frankfurter & 0          \\\\\n",
       "\t 0           & frankfurter & 0          \\\\\n",
       "\t 1           & frankfurter & 0          \\\\\n",
       "\t 1           & frankfurter & 0          \\\\\n",
       "\\end{tabular}\n"
      ],
      "text/markdown": [
       "\n",
       "| whole.milk | Other | Purch |\n",
       "|---|---|---|\n",
       "| 0           | frankfurter | 0           |\n",
       "| 0           | frankfurter | 0           |\n",
       "| 1           | frankfurter | 0           |\n",
       "| 0           | frankfurter | 0           |\n",
       "| 1           | frankfurter | 0           |\n",
       "| 1           | frankfurter | 0           |\n",
       "\n"
      ],
      "text/plain": [
       "  whole.milk Other       Purch\n",
       "1 0          frankfurter 0    \n",
       "2 0          frankfurter 0    \n",
       "3 1          frankfurter 0    \n",
       "4 0          frankfurter 0    \n",
       "5 1          frankfurter 0    \n",
       "6 1          frankfurter 0    "
      ]
     },
     "metadata": {},
     "output_type": "display_data"
    }
   ],
   "source": [
    "(groceries \n",
    " %>% gather(key = \"Other\",\n",
    "            value = \"Purch\",\n",
    "            -whole.milk)\n",
    " %>% head\n",
    " )"
   ]
  },
  {
   "cell_type": "markdown",
   "metadata": {},
   "source": [
    "Step 2 - Compute the supports\n",
    "========================================================"
   ]
  },
  {
   "cell_type": "code",
   "execution_count": 93,
   "metadata": {},
   "outputs": [
    {
     "data": {
      "text/html": [
       "<table>\n",
       "<thead><tr><th scope=col>Other</th><th scope=col>sup_milk</th><th scope=col>sup_lhs</th><th scope=col>sup_both</th></tr></thead>\n",
       "<tbody>\n",
       "\t<tr><td>abrasive.cleaner</td><td>0.255516        </td><td>0.003558719     </td><td>0.001626843     </td></tr>\n",
       "\t<tr><td>artif..sweetener</td><td>0.255516        </td><td>0.003253686     </td><td>0.001118454     </td></tr>\n",
       "</tbody>\n",
       "</table>\n"
      ],
      "text/latex": [
       "\\begin{tabular}{r|llll}\n",
       " Other & sup\\_milk & sup\\_lhs & sup\\_both\\\\\n",
       "\\hline\n",
       "\t abrasive.cleaner & 0.255516         & 0.003558719      & 0.001626843     \\\\\n",
       "\t artif..sweetener & 0.255516         & 0.003253686      & 0.001118454     \\\\\n",
       "\\end{tabular}\n"
      ],
      "text/markdown": [
       "\n",
       "| Other | sup_milk | sup_lhs | sup_both |\n",
       "|---|---|---|---|\n",
       "| abrasive.cleaner | 0.255516         | 0.003558719      | 0.001626843      |\n",
       "| artif..sweetener | 0.255516         | 0.003253686      | 0.001118454      |\n",
       "\n"
      ],
      "text/plain": [
       "  Other            sup_milk sup_lhs     sup_both   \n",
       "1 abrasive.cleaner 0.255516 0.003558719 0.001626843\n",
       "2 artif..sweetener 0.255516 0.003253686 0.001118454"
      ]
     },
     "metadata": {},
     "output_type": "display_data"
    }
   ],
   "source": [
    "(groceries \n",
    " %>% gather(key = \"Other\",\n",
    "            value = \"Purch\",\n",
    "            -whole.milk)\n",
    " %>% group_by(Other)\n",
    " %>% summarise(sup_milk = sum(whole.milk)/N,\n",
    "               sup_lhs = sum(Purch)/N,\n",
    "               sup_both = sum(Purch*whole.milk)/N) \n",
    " %>% head(2)\n",
    " )"
   ]
  },
  {
   "cell_type": "markdown",
   "metadata": {},
   "source": [
    "Step 3 - Compute confidence, and lift \n",
    "========================================================"
   ]
  },
  {
   "cell_type": "code",
   "execution_count": 95,
   "metadata": {},
   "outputs": [],
   "source": [
    "# Note that we group_by the products to keep them separate.\n",
    "(groceries \n",
    " %>% gather(key = \"Other\",\n",
    "            value = \"Purch\",\n",
    "            -whole.milk)\n",
    " %>% group_by(Other)\n",
    " %>% summarise(sup_milk = sum(whole.milk)/N,\n",
    "               sup_lhs = sum(Purch)/N,\n",
    "               sup_both = sum(Purch*whole.milk)/N) \n",
    " %>% mutate(conf = sup_both/sup_lhs, \n",
    "            lift = conf/sup_milk)\n",
    " ) -> many_rules"
   ]
  },
  {
   "cell_type": "markdown",
   "metadata": {},
   "source": [
    "View the results\n",
    "========================================================"
   ]
  },
  {
   "cell_type": "code",
   "execution_count": 99,
   "metadata": {},
   "outputs": [
    {
     "data": {
      "text/html": [
       "<table>\n",
       "<thead><tr><th scope=col>Other</th><th scope=col>sup_milk</th><th scope=col>sup_lhs</th><th scope=col>sup_both</th><th scope=col>conf</th><th scope=col>lift</th></tr></thead>\n",
       "<tbody>\n",
       "\t<tr><td>kitchen.utensil</td><td>0.255516       </td><td>0.0004067107   </td><td>0.000305033    </td><td>0.7500000      </td><td>2.935237       </td></tr>\n",
       "\t<tr><td>honey          </td><td>0.255516       </td><td>0.0015251652   </td><td>0.001118454    </td><td>0.7333333      </td><td>2.870009       </td></tr>\n",
       "</tbody>\n",
       "</table>\n"
      ],
      "text/latex": [
       "\\begin{tabular}{r|llllll}\n",
       " Other & sup\\_milk & sup\\_lhs & sup\\_both & conf & lift\\\\\n",
       "\\hline\n",
       "\t kitchen.utensil & 0.255516        & 0.0004067107    & 0.000305033     & 0.7500000       & 2.935237       \\\\\n",
       "\t honey           & 0.255516        & 0.0015251652    & 0.001118454     & 0.7333333       & 2.870009       \\\\\n",
       "\\end{tabular}\n"
      ],
      "text/markdown": [
       "\n",
       "| Other | sup_milk | sup_lhs | sup_both | conf | lift |\n",
       "|---|---|---|---|---|---|\n",
       "| kitchen.utensil | 0.255516        | 0.0004067107    | 0.000305033     | 0.7500000       | 2.935237        |\n",
       "| honey           | 0.255516        | 0.0015251652    | 0.001118454     | 0.7333333       | 2.870009        |\n",
       "\n"
      ],
      "text/plain": [
       "  Other           sup_milk sup_lhs      sup_both    conf      lift    \n",
       "1 kitchen.utensil 0.255516 0.0004067107 0.000305033 0.7500000 2.935237\n",
       "2 honey           0.255516 0.0015251652 0.001118454 0.7333333 2.870009"
      ]
     },
     "metadata": {},
     "output_type": "display_data"
    }
   ],
   "source": [
    "many_rules %>% arrange(desc(lift)) %>% head(2)"
   ]
  },
  {
   "cell_type": "markdown",
   "metadata": {},
   "source": [
    "Automate the process with the arules library\n",
    "========================================================"
   ]
  },
  {
   "cell_type": "code",
   "execution_count": 34,
   "metadata": {},
   "outputs": [],
   "source": [
    "#install.packages(\"arules\")\n",
    "library(arules)"
   ]
  },
  {
   "cell_type": "markdown",
   "metadata": {},
   "source": [
    "Columns must be factors\n",
    "========================================================"
   ]
  },
  {
   "cell_type": "code",
   "execution_count": 35,
   "metadata": {},
   "outputs": [],
   "source": [
    "groc_factors <-\n",
    "  groceries %>%\n",
    "  mutate_if(is.integer, as.factor)\n",
    "\n",
    "\n",
    "  "
   ]
  },
  {
   "cell_type": "markdown",
   "metadata": {},
   "source": [
    "Make a transaction object\n",
    "========================================================"
   ]
  },
  {
   "cell_type": "code",
   "execution_count": 36,
   "metadata": {},
   "outputs": [],
   "source": [
    "groc_trans <-\n",
    "  as(groc_factors, \"transactions\")\n",
    "\n",
    "\n",
    "  "
   ]
  },
  {
   "cell_type": "markdown",
   "metadata": {},
   "source": [
    "Compute the rules\n",
    "========================================================"
   ]
  },
  {
   "cell_type": "code",
   "execution_count": 38,
   "metadata": {},
   "outputs": [
    {
     "name": "stdout",
     "output_type": "stream",
     "text": [
      "Apriori\n",
      "\n",
      "Parameter specification:\n",
      " confidence minval smax arem  aval originalSupport maxtime support minlen\n",
      "          0    0.1    1 none FALSE            TRUE       5       0      1\n",
      " maxlen target   ext\n",
      "      2  rules FALSE\n",
      "\n",
      "Algorithmic control:\n",
      " filter tree heap memopt load sort verbose\n",
      "    0.1 TRUE TRUE  FALSE TRUE    2    TRUE\n",
      "\n",
      "Absolute minimum support count: 0 \n",
      "\n",
      "set item appearances ...[0 item(s)] done [0.00s].\n",
      "set transactions ...[338 item(s), 9835 transaction(s)] done [0.15s].\n",
      "sorting and recoding items ... [338 item(s)] done [0.05s].\n",
      "creating transaction tree ... done [0.02s].\n",
      "checking subsets of size 1 2"
     ]
    },
    {
     "name": "stderr",
     "output_type": "stream",
     "text": [
      "Warning message in apriori(groc_trans, parameter = list(supp = 0, conf = 0, maxlen = 2)):\n",
      "“Mining stopped (maxlen reached). Only patterns up to a length of 2 returned!”"
     ]
    },
    {
     "name": "stdout",
     "output_type": "stream",
     "text": [
      " done [0.25s].\n",
      "writing ... [114244 rule(s)] done [0.01s].\n",
      "creating S4 object  ... done [0.04s].\n"
     ]
    },
    {
     "data": {
      "text/plain": [
       "set of 114244 rules "
      ]
     },
     "metadata": {},
     "output_type": "display_data"
    }
   ],
   "source": [
    "groc_rules <- apriori(groc_trans, \n",
    "                      parameter = list(supp = 0.0,\n",
    "                                       conf = 0.0,\n",
    "                                       maxlen = 2))\n",
    "groc_rules"
   ]
  },
  {
   "cell_type": "markdown",
   "metadata": {},
   "source": [
    "Pull out the rules with whole.milk\n",
    "========================================================"
   ]
  },
  {
   "cell_type": "code",
   "execution_count": 39,
   "metadata": {},
   "outputs": [
    {
     "name": "stdout",
     "output_type": "stream",
     "text": [
      "     lhs                      rhs            support      confidence lift    \n",
      "[1]  {kitchen.utensil=1}   => {whole.milk=1} 0.0003050330 0.7500000  2.935237\n",
      "[2]  {honey=1}             => {whole.milk=1} 0.0011184545 0.7333333  2.870009\n",
      "[3]  {cereals=1}           => {whole.milk=1} 0.0036603965 0.6428571  2.515917\n",
      "[4]  {rice=1}              => {whole.milk=1} 0.0046771734 0.6133333  2.400371\n",
      "[5]  {rubbing.alcohol=1}   => {whole.milk=1} 0.0006100661 0.6000000  2.348189\n",
      "[6]  {cocoa.drinks=1}      => {whole.milk=1} 0.0013218099 0.5909091  2.312611\n",
      "[7]  {pudding.powder=1}    => {whole.milk=1} 0.0013218099 0.5652174  2.212062\n",
      "[8]  {jam=1}               => {whole.milk=1} 0.0029486528 0.5471698  2.141431\n",
      "[9]  {baking.powder=1}     => {whole.milk=1} 0.0092526690 0.5229885  2.046793\n",
      "[10] {cooking.chocolate=1} => {whole.milk=1} 0.0013218099 0.5200000  2.035097\n",
      "     count\n",
      "[1]   3   \n",
      "[2]  11   \n",
      "[3]  36   \n",
      "[4]  46   \n",
      "[5]   6   \n",
      "[6]  13   \n",
      "[7]  13   \n",
      "[8]  29   \n",
      "[9]  91   \n",
      "[10] 13   \n"
     ]
    }
   ],
   "source": [
    "rules_with_milk <- \n",
    "  subset(groc_rules, \n",
    "         subset = rhs %in% \"whole.milk=1\")\n",
    "inspect(sort(rules_with_milk, by = \"lift\")[1:10])"
   ]
  },
  {
   "cell_type": "markdown",
   "metadata": {},
   "source": [
    "Limiting the number of rules\n",
    "========================================================"
   ]
  },
  {
   "cell_type": "code",
   "execution_count": 40,
   "metadata": {},
   "outputs": [
    {
     "name": "stdout",
     "output_type": "stream",
     "text": [
      "Apriori\n",
      "\n",
      "Parameter specification:\n",
      " confidence minval smax arem  aval originalSupport maxtime support minlen\n",
      "        0.7    0.1    1 none FALSE            TRUE       5    0.75      1\n",
      " maxlen target   ext\n",
      "      2  rules FALSE\n",
      "\n",
      "Algorithmic control:\n",
      " filter tree heap memopt load sort verbose\n",
      "    0.1 TRUE TRUE  FALSE TRUE    2    TRUE\n",
      "\n",
      "Absolute minimum support count: 7376 \n",
      "\n",
      "set item appearances ...[0 item(s)] done [0.00s].\n",
      "set transactions ...[338 item(s), 9835 transaction(s)] done [0.16s].\n",
      "sorting and recoding items ... [168 item(s)] done [0.05s].\n",
      "creating transaction tree ... done [0.02s].\n",
      "checking subsets of size 1 2"
     ]
    },
    {
     "name": "stderr",
     "output_type": "stream",
     "text": [
      "Warning message in apriori(groc_trans, parameter = list(supp = 0.75, conf = 0.7, :\n",
      "“Mining stopped (maxlen reached). Only patterns up to a length of 2 returned!”"
     ]
    },
    {
     "name": "stdout",
     "output_type": "stream",
     "text": [
      " done [0.26s].\n",
      "writing ... [28174 rule(s)] done [0.01s].\n",
      "creating S4 object  ... done [0.03s].\n"
     ]
    },
    {
     "data": {
      "text/plain": [
       "set of 28174 rules "
      ]
     },
     "metadata": {},
     "output_type": "display_data"
    }
   ],
   "source": [
    "groc_rules <- apriori(groc_trans, \n",
    "                      parameter = list(supp = 0.75,\n",
    "                                       conf = 0.70,\n",
    "                                       maxlen = 2))\n",
    "groc_rules"
   ]
  },
  {
   "cell_type": "markdown",
   "metadata": {},
   "source": [
    "Visualizing the Rules with arulesViz\n",
    "========================================================"
   ]
  },
  {
   "cell_type": "code",
   "execution_count": 41,
   "metadata": {},
   "outputs": [],
   "source": [
    "install.packages(\"arulesViz\")"
   ]
  },
  {
   "cell_type": "markdown",
   "metadata": {},
   "source": [
    "Making the Visualization\n",
    "========================================================"
   ]
  },
  {
   "cell_type": "code",
   "execution_count": 42,
   "metadata": {},
   "outputs": [
    {
     "name": "stderr",
     "output_type": "stream",
     "text": [
      "Loading required package: grid\n"
     ]
    },
    {
     "data": {
      "image/png": "[encoded data removed]",
      "text/plain": [
       "plot without title"
      ]
     },
     "metadata": {},
     "output_type": "display_data"
    }
   ],
   "source": [
    "outcomes<-head(sort(groc_rules,by=\"lift\"),20)\n",
    "\n",
    "library(arulesViz)\n",
    "plot(outcomes, method=\"grouped\")"
   ]
  },
  {
   "cell_type": "code",
   "execution_count": null,
   "metadata": {},
   "outputs": [],
   "source": []
  }
 ],
 "metadata": {
  "kernelspec": {
   "display_name": "R",
   "language": "R",
   "name": "ir"
  },
  "language_info": {
   "codemirror_mode": "r",
   "file_extension": ".r",
   "mimetype": "text/x-r-source",
   "name": "R",
   "pygments_lexer": "r",
   "version": "3.5.1"
  }
 },
 "nbformat": 4,
 "nbformat_minor": 2
}
